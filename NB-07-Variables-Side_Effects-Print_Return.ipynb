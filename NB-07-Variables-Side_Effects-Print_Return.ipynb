{
 "cells": [
  {
   "cell_type": "markdown",
   "metadata": {},
   "source": [
    "# 프로그래밍 기초 추가사항"
   ]
  },
  {
   "cell_type": "markdown",
   "metadata": {},
   "source": [
    "모든 프로그래밍언어가 공통적으로 갖고 있는 몇 가지 특징을 살펴본다.\n",
    "\n",
    "* 변수\n",
    "* 변수들 간의 동일성(identity)과 동치성(equality)의 차이점\n",
    "* 함수의 부작용(side effect)이란?\n",
    "* `print`와 `return` 사이의 선택"
   ]
  },
  {
   "cell_type": "markdown",
   "metadata": {},
   "source": [
    "## 변수란 무엇인가?\n",
    "\n",
    "변수는 모든 프로그래밍언어의 기본요소 중 하나이다. 변수는 특정 객체(object)를 대신하는 역할을 수행한다. \n",
    "\n",
    "    In [2]: a = 2\n",
    "            b = a + 3\n",
    "            b\n",
    "    Out[2]: 5\n",
    "\n",
    "위 코드에서 `a`는 숫자 `2`를 대신하는 역할을 수행하며, 따라서 `b`는 숫자 `5`를 대신하게 된다. \n",
    "\n",
    "하지만 프로그래밍언어에 따라 변수와 특정 값을 연결하는 방식은 조금씩 다르다. 예를 들어 C 언어의 경우는 일반 변수와 포인터 변수 등 두 종류의 변수를 사용한다. 두 종류의 변수의 차이점을 이해하는 것이 C 언어를 잘 아는가의 척도일 정도로 매우 중요하다.\n",
    "\n",
    "반면에 파이썬의 경우는 한 종류의 변수만 사용하며, 파이썬의 경우 모든 변수는 포인터 변수이다. 따라서 변수와 특정 값을 연결하는 것을 C 언어의 포인터처럼 \"특정 값을 가리킨다\"라고 말하는 것이 정확하다. 영어로 하면 reference to objects 이다. 하지만 일반적으로 포인터에 대해 신경쓸 필요가 거의 없다.\n",
    "\n",
    "예제들을 통해 파이썬에서 \"변수의 값 할당\"이 어떻게 작동하는지를 살펴본다."
   ]
  },
  {
   "cell_type": "code",
   "execution_count": 1,
   "metadata": {
    "collapsed": true
   },
   "outputs": [],
   "source": [
    "a = [0, 2, 4, 6]"
   ]
  },
  {
   "cell_type": "code",
   "execution_count": 2,
   "metadata": {
    "collapsed": false
   },
   "outputs": [
    {
     "data": {
      "text/plain": [
       "[0, 2, 4, 6]"
      ]
     },
     "execution_count": 2,
     "metadata": {},
     "output_type": "execute_result"
    }
   ],
   "source": [
    "a"
   ]
  },
  {
   "cell_type": "code",
   "execution_count": 3,
   "metadata": {
    "collapsed": true
   },
   "outputs": [],
   "source": [
    "b = a"
   ]
  },
  {
   "cell_type": "code",
   "execution_count": 4,
   "metadata": {
    "collapsed": false
   },
   "outputs": [
    {
     "data": {
      "text/plain": [
       "[0, 2, 4, 6]"
      ]
     },
     "execution_count": 4,
     "metadata": {},
     "output_type": "execute_result"
    }
   ],
   "source": [
    "b"
   ]
  },
  {
   "cell_type": "code",
   "execution_count": 5,
   "metadata": {
    "collapsed": false
   },
   "outputs": [
    {
     "data": {
      "text/plain": [
       "2"
      ]
     },
     "execution_count": 5,
     "metadata": {},
     "output_type": "execute_result"
    }
   ],
   "source": [
    "b[1]"
   ]
  },
  {
   "cell_type": "code",
   "execution_count": 6,
   "metadata": {
    "collapsed": true
   },
   "outputs": [],
   "source": [
    "c = [0, 2, 4, 6]"
   ]
  },
  {
   "cell_type": "code",
   "execution_count": 7,
   "metadata": {
    "collapsed": false
   },
   "outputs": [
    {
     "data": {
      "text/plain": [
       "[0, 2, 4, 6]"
      ]
     },
     "execution_count": 7,
     "metadata": {},
     "output_type": "execute_result"
    }
   ],
   "source": [
    "c"
   ]
  },
  {
   "cell_type": "markdown",
   "metadata": {},
   "source": [
    "`b`는 리스트이기에 원소들의 값을 변경할 수 있다."
   ]
  },
  {
   "cell_type": "code",
   "execution_count": 8,
   "metadata": {
    "collapsed": true
   },
   "outputs": [],
   "source": [
    "b[1] = 10"
   ]
  },
  {
   "cell_type": "code",
   "execution_count": 9,
   "metadata": {
    "collapsed": false
   },
   "outputs": [
    {
     "data": {
      "text/plain": [
       "[0, 10, 4, 6]"
      ]
     },
     "execution_count": 9,
     "metadata": {},
     "output_type": "execute_result"
    }
   ],
   "source": [
    "b"
   ]
  },
  {
   "cell_type": "markdown",
   "metadata": {},
   "source": [
    "그런데 `b` 뿐만 아니라 `a`도 변경됨을 알 수 있다."
   ]
  },
  {
   "cell_type": "code",
   "execution_count": 10,
   "metadata": {
    "collapsed": false
   },
   "outputs": [
    {
     "data": {
      "text/plain": [
       "[0, 10, 4, 6]"
      ]
     },
     "execution_count": 10,
     "metadata": {},
     "output_type": "execute_result"
    }
   ],
   "source": [
    "a"
   ]
  },
  {
   "cell_type": "code",
   "execution_count": 11,
   "metadata": {
    "collapsed": false
   },
   "outputs": [
    {
     "data": {
      "text/plain": [
       "[0, 2, 4, 6]"
      ]
     },
     "execution_count": 11,
     "metadata": {},
     "output_type": "execute_result"
    }
   ],
   "source": [
    "c"
   ]
  },
  {
   "cell_type": "markdown",
   "metadata": {},
   "source": [
    "### `id` 함수와  `==` 함수,  그리고 `is` 함수의 차이점"
   ]
  },
  {
   "cell_type": "markdown",
   "metadata": {},
   "source": [
    "그렇다면 `a`와 `b`는 동일한 객체를 가리키고 있음을 알 수 있다.\n",
    "따라서 `a`와 `b`의 동일성 여부를 물으면 True라고 되돌려 준다."
   ]
  },
  {
   "cell_type": "code",
   "execution_count": 12,
   "metadata": {
    "collapsed": false
   },
   "outputs": [
    {
     "data": {
      "text/plain": [
       "True"
      ]
     },
     "execution_count": 12,
     "metadata": {},
     "output_type": "execute_result"
    }
   ],
   "source": [
    "a is b"
   ]
  },
  {
   "cell_type": "code",
   "execution_count": 13,
   "metadata": {
    "collapsed": false
   },
   "outputs": [
    {
     "data": {
      "text/plain": [
       "False"
      ]
     },
     "execution_count": 13,
     "metadata": {},
     "output_type": "execute_result"
    }
   ],
   "source": [
    "a is c"
   ]
  },
  {
   "cell_type": "markdown",
   "metadata": {},
   "source": [
    "두 변수의 동일성 여부는 각 변수가 가리키는 메모리주소를 확인하면 된다. `id` 함수를 이용한다. "
   ]
  },
  {
   "cell_type": "code",
   "execution_count": 14,
   "metadata": {
    "collapsed": false
   },
   "outputs": [
    {
     "data": {
      "text/plain": [
       "4386557320"
      ]
     },
     "execution_count": 14,
     "metadata": {},
     "output_type": "execute_result"
    }
   ],
   "source": [
    "id(a)"
   ]
  },
  {
   "cell_type": "code",
   "execution_count": 15,
   "metadata": {
    "collapsed": false
   },
   "outputs": [
    {
     "data": {
      "text/plain": [
       "4386557320"
      ]
     },
     "execution_count": 15,
     "metadata": {},
     "output_type": "execute_result"
    }
   ],
   "source": [
    "id(b)"
   ]
  },
  {
   "cell_type": "code",
   "execution_count": 16,
   "metadata": {
    "collapsed": false
   },
   "outputs": [
    {
     "data": {
      "text/plain": [
       "4397204256"
      ]
     },
     "execution_count": 16,
     "metadata": {},
     "output_type": "execute_result"
    }
   ],
   "source": [
    "id(c)"
   ]
  },
  {
   "cell_type": "markdown",
   "metadata": {},
   "source": [
    "`a`와 `b`가 가리키는 주소가 동일함이 확인되었다. 이 경우 `a`와 `b`가 가리키는 주소의 값 또한 동일하므로 `a == b`의 값도 `True`이다. "
   ]
  },
  {
   "cell_type": "code",
   "execution_count": 17,
   "metadata": {
    "collapsed": false
   },
   "outputs": [
    {
     "data": {
      "text/plain": [
       "True"
      ]
     },
     "execution_count": 17,
     "metadata": {},
     "output_type": "execute_result"
    }
   ],
   "source": [
    "a == b"
   ]
  },
  {
   "cell_type": "code",
   "execution_count": 18,
   "metadata": {
    "collapsed": false
   },
   "outputs": [],
   "source": [
    "d = [0, 10, 4, 6]"
   ]
  },
  {
   "cell_type": "code",
   "execution_count": 19,
   "metadata": {
    "collapsed": false
   },
   "outputs": [
    {
     "data": {
      "text/plain": [
       "True"
      ]
     },
     "execution_count": 19,
     "metadata": {},
     "output_type": "execute_result"
    }
   ],
   "source": [
    "a == d"
   ]
  },
  {
   "cell_type": "markdown",
   "metadata": {},
   "source": [
    "반면에 두 변수가 가리키는 주소가 다른 경우에는 약간이 혼돈이 발생할 수 있다."
   ]
  },
  {
   "cell_type": "code",
   "execution_count": 20,
   "metadata": {
    "collapsed": true
   },
   "outputs": [],
   "source": [
    "c = 1\n",
    "d = 1.0"
   ]
  },
  {
   "cell_type": "code",
   "execution_count": 21,
   "metadata": {
    "collapsed": false
   },
   "outputs": [
    {
     "data": {
      "text/plain": [
       "4300236008"
      ]
     },
     "execution_count": 21,
     "metadata": {},
     "output_type": "execute_result"
    }
   ],
   "source": [
    "id(c)"
   ]
  },
  {
   "cell_type": "code",
   "execution_count": 22,
   "metadata": {
    "collapsed": false
   },
   "outputs": [
    {
     "data": {
      "text/plain": [
       "4299843152"
      ]
     },
     "execution_count": 22,
     "metadata": {},
     "output_type": "execute_result"
    }
   ],
   "source": [
    "id(d)"
   ]
  },
  {
   "cell_type": "code",
   "execution_count": 23,
   "metadata": {
    "collapsed": false
   },
   "outputs": [
    {
     "data": {
      "text/plain": [
       "True"
      ]
     },
     "execution_count": 23,
     "metadata": {},
     "output_type": "execute_result"
    }
   ],
   "source": [
    "c == d"
   ]
  },
  {
   "cell_type": "markdown",
   "metadata": {},
   "source": [
    "`c`와 `d`는 서로 다른 메모리 주소를 가리키고 있다. 따라서 `c`와 `d`는 동일하지 않다. 즉"
   ]
  },
  {
   "cell_type": "code",
   "execution_count": 24,
   "metadata": {
    "collapsed": false
   },
   "outputs": [
    {
     "data": {
      "text/plain": [
       "False"
      ]
     },
     "execution_count": 24,
     "metadata": {},
     "output_type": "execute_result"
    }
   ],
   "source": [
    "c is d"
   ]
  },
  {
   "cell_type": "markdown",
   "metadata": {},
   "source": [
    "반면에 `c`와 `d`에 할당된 값은 동일하다. 즉"
   ]
  },
  {
   "cell_type": "code",
   "execution_count": 25,
   "metadata": {
    "collapsed": false
   },
   "outputs": [
    {
     "data": {
      "text/plain": [
       "True"
      ]
     },
     "execution_count": 25,
     "metadata": {},
     "output_type": "execute_result"
    }
   ],
   "source": [
    "c == d"
   ]
  },
  {
   "cell_type": "markdown",
   "metadata": {},
   "source": [
    "파이썬 내부에서 변수의 이름, 메모리 상태 등이 어떻게 변하는지를 확인하고자 하면 아래 사이트를 이용할 수 있다. \n",
    "파이썬 뿐만아니라 자바 코드도 실행할 수 있다.\n",
    "\n",
    "http://pythontutor.com/\n",
    "\n",
    "위 사이트에서 에를 들어 아래 코드를 입력하고 \"Visualize Execution\" 버튼을 눌러보도록 하자.\n",
    "\n",
    "    a = [1, 2, 3]\n",
    "    b = a\n",
    "    c = [1, 2, 3]\n",
    "    print(a is b)\n",
    "    print(a is c)\n",
    "    print(a == b)\n",
    "    print(a == c)\n",
    "    print(b is c)\n",
    "    print(b == c)\n",
    "    \n",
    "\"Visualize Execution\" 버턴을 누룬 후 \"Forward\" 버튼을 연속적으로 누르면서 화면 오른쪽에서 그림이 어떻게 변하는지 살펴보아야 한다.\n",
    "\n",
    "파이썬에는 포인터 변수만 있다는 사실을 이제 어렴풋이 이해할 수 있어야 한다.\n",
    "\n",
    "위 예제를 파이썬튜토어에서 사용하면 아래와 같이 작동한다."
   ]
  },
  {
   "cell_type": "code",
   "execution_count": 2,
   "metadata": {
    "collapsed": false
   },
   "outputs": [],
   "source": [
    "%load_ext tutormagic"
   ]
  },
  {
   "cell_type": "code",
   "execution_count": 3,
   "metadata": {
    "collapsed": false
   },
   "outputs": [
    {
     "data": {
      "text/html": [
       "\n",
       "        <iframe\n",
       "            width=\"90%\"\n",
       "            height=\"350\"\n",
       "            src=\"http://pythontutor.com/iframe-embed.html#code=%0Aa%20%3D%20%5B1%2C%202%2C%203%5D%0Ab%20%3D%20a%0Ac%20%3D%20%5B1%2C%202%2C%203%5D%0Aprint%28a%20is%20b%29%0Aprint%28a%20is%20c%29%0Aprint%28a%20%3D%3D%20b%29%0Aprint%28a%20%3D%3D%20c%29%0Aprint%28b%20is%20c%29%0Aprint%28b%20%3D%3D%20c%29&origin=opt-frontend.js&cumulative=false&heapPrimitives=false&textReferences=false&py=3&rawInputLstJSON=%5B%5D&curInstr=0&codeDivWidth=50%25&codeDivHeight=100%25\"\n",
       "            frameborder=\"0\"\n",
       "            allowfullscreen\n",
       "        ></iframe>\n",
       "        "
      ],
      "text/plain": [
       "<IPython.lib.display.IFrame at 0x3e63198>"
      ]
     },
     "metadata": {},
     "output_type": "display_data"
    }
   ],
   "source": [
    "%%tutor\n",
    "\n",
    "a = [1, 2, 3]\n",
    "b = a\n",
    "c = [1, 2, 3]\n",
    "print(a is b)\n",
    "print(a is c)\n",
    "print(a == b)\n",
    "print(a == c)\n",
    "print(b is c)\n",
    "print(b == c)"
   ]
  },
  {
   "cell_type": "markdown",
   "metadata": {},
   "source": [
    "## 함수의 부작용(side effect)\n",
    "\n",
    "리스트 관련 메소드인 `pop()` 함수의 경우 특정값을 리턴하는 것과 더불어 리턴하는 값을 해당 리스트에서 삭제하는 부가 기능을 수행한다. 즉 메모리 상태가 변경된다. 이와같이 함수가 값을 리턴하는 것 이외에 메모리 상태를 변경한다면 이를 함수의 부작용이라 부른다. \n",
    "\n",
    "예제: \n",
    "\n",
    "    In [25]: L = [1, 2, 3]\n",
    "    In [26]: L.pop()\n",
    "    Out[26]: 3\n",
    "    In [27]: L\n",
    "    Out[27]: [1, 2]\n",
    "    \n",
    "즉, `pop()` 메소드를 호출할 때 마다 메모리에 저장된 `L`의 값 또한 변한다. 파이썬튜토어를 이용하면 아래와 같다."
   ]
  },
  {
   "cell_type": "code",
   "execution_count": 28,
   "metadata": {
    "collapsed": false
   },
   "outputs": [
    {
     "data": {
      "text/html": [
       "\n",
       "        <iframe\n",
       "            width=\"90%\"\n",
       "            height=\"350\"\n",
       "            src=\"http://pythontutor.com/iframe-embed.html#code=L%20%3D%20%5B1%2C%202%2C%203%5D%0Aa%20%3D%20L.pop%28%29%0AL&origin=opt-frontend.js&cumulative=false&heapPrimitives=false&textReferences=false&py=3&rawInputLstJSON=%5B%5D&curInstr=0&codeDivWidth=50%25&codeDivHeight=100%25\"\n",
       "            frameborder=\"0\"\n",
       "            allowfullscreen\n",
       "        ></iframe>\n",
       "        "
      ],
      "text/plain": [
       "<IPython.lib.display.IFrame at 0x10617a890>"
      ]
     },
     "metadata": {},
     "output_type": "display_data"
    }
   ],
   "source": [
    "%%tutor\n",
    "L = [1, 2, 3]\n",
    "a = L.pop()\n",
    "L"
   ]
  },
  {
   "cell_type": "markdown",
   "metadata": {},
   "source": [
    "### `sum` 함수 구현하기\n",
    "\n",
    "파이썬에 기본적으로 내장된 함수들이 여럿 있다. 지금까지 살펴본 내장함수로 `abs`, `dir`, `float`, `format`, `help`, `id`, `int`, `len`, `min`, `max`, `range`, `type` 등이 있다. 보다 자세한 내용은 아래 사이트를 참조하면 된다.\n",
    "\n",
    "https://docs.python.org/2/library/functions.html\n",
    "\n",
    "이번엔 `sum` 이라는 내장함수를 살펴보고자 한다. `sum` 함수는 리스트 또는 튜플 자료형을 입력받으면 각 항목들의 값의 합을 리턴해준다. 대신에 숫자들로만 구성된 시퀀스에 대해서만 작동한다.\n",
    "\n",
    "    In [25]: sum([1, 2, 3])\n",
    "    Out[25]: 6"
   ]
  },
  {
   "cell_type": "code",
   "execution_count": 29,
   "metadata": {
    "collapsed": false
   },
   "outputs": [
    {
     "data": {
      "text/plain": [
       "6"
      ]
     },
     "execution_count": 29,
     "metadata": {},
     "output_type": "execute_result"
    }
   ],
   "source": [
    "sum((1, 2, 3))"
   ]
  },
  {
   "cell_type": "markdown",
   "metadata": {},
   "source": [
    "`sum` 내장함수와 동일한 값을 리턴하는 함수를 두 가지 방식으로 직접 구현해보도록 하자.\n",
    "\n",
    "아래 정의에서 `sum1` 함수는 부작용이 없도록 구현한 반면에 `sum2` 함수는 부작용이 있도록 구현하였다. 두 함수의 차이점을 파이썬튜토어를 이용하여 확인할 수 있다. "
   ]
  },
  {
   "cell_type": "code",
   "execution_count": 30,
   "metadata": {
    "collapsed": false
   },
   "outputs": [
    {
     "data": {
      "text/html": [
       "\n",
       "        <iframe\n",
       "            width=\"90%\"\n",
       "            height=\"350\"\n",
       "            src=\"http://pythontutor.com/iframe-embed.html#code=%0Adef%20sum1%28xs%29%3A%0A%20%20%20%20s%20%3D%200%0A%20%20%20%20for%20i%20in%20xs%3A%0A%20%20%20%20%20%20%20%20s%20%3D%20s%20%2B%20i%0A%20%20%20%20return%20s%0A%0Aa%20%3D%20sum1%28%5B1%2C2%2C3%5D%29&origin=opt-frontend.js&cumulative=false&heapPrimitives=false&textReferences=false&py=3&rawInputLstJSON=%5B%5D&curInstr=0&codeDivWidth=50%25&codeDivHeight=100%25\"\n",
       "            frameborder=\"0\"\n",
       "            allowfullscreen\n",
       "        ></iframe>\n",
       "        "
      ],
      "text/plain": [
       "<IPython.lib.display.IFrame at 0x10617afd0>"
      ]
     },
     "metadata": {},
     "output_type": "display_data"
    }
   ],
   "source": [
    "%%tutor\n",
    "\n",
    "def sum1(xs):\n",
    "    s = 0\n",
    "    for i in xs:\n",
    "        s = s + i\n",
    "    return s\n",
    "\n",
    "a = sum1([1,2,3])"
   ]
  },
  {
   "cell_type": "code",
   "execution_count": 31,
   "metadata": {
    "collapsed": false
   },
   "outputs": [
    {
     "data": {
      "text/html": [
       "\n",
       "        <iframe\n",
       "            width=\"90%\"\n",
       "            height=\"350\"\n",
       "            src=\"http://pythontutor.com/iframe-embed.html#code=%0Adef%20sum2%28xs%29%3A%0A%20%20%20%20s%20%3D%200%0A%20%20%20%20for%20i%20in%20range%28len%28xs%29%29%3A%0A%20%20%20%20%20%20%20%20s%20%3D%20s%20%2B%20xs.pop%28%29%0A%20%20%20%20return%20s%0A%0Aa%20%3D%20sum2%28%5B1%2C2%2C3%5D%29&origin=opt-frontend.js&cumulative=false&heapPrimitives=false&textReferences=false&py=3&rawInputLstJSON=%5B%5D&curInstr=0&codeDivWidth=50%25&codeDivHeight=100%25\"\n",
       "            frameborder=\"0\"\n",
       "            allowfullscreen\n",
       "        ></iframe>\n",
       "        "
      ],
      "text/plain": [
       "<IPython.lib.display.IFrame at 0x10560d190>"
      ]
     },
     "metadata": {},
     "output_type": "display_data"
    }
   ],
   "source": [
    "%%tutor\n",
    "\n",
    "def sum2(xs):\n",
    "    s = 0\n",
    "    for i in range(len(xs)):\n",
    "        s = s + xs.pop()\n",
    "    return s\n",
    "\n",
    "a = sum2([1,2,3])"
   ]
  },
  {
   "cell_type": "markdown",
   "metadata": {},
   "source": [
    "#### 부작용 사용 여부\n",
    "\n",
    "함수를 정의할 때 부작용이 있도록 코딩할지 여부를 판단해야 하지만, 부작용이 필요한 이유가 명확하지 않다면 부작용이 없도록 함수를 코딩해야 한다. 하지만 부작용이 필요한 경우가 존재한다. 리스트의 `pop()` 메소드가 대표적인 경우이다."
   ]
  },
  {
   "cell_type": "markdown",
   "metadata": {},
   "source": [
    "#### 내장함수 활용\n",
    "\n",
    "특정 기능을 수행하는 함수를 작성하기 전에 동일한 기능을 수행하는 내장함수가 이미 존재하는지 확인하는 것이 좋다. `sum` 함수의 경우 많이 사용되기에 이미 구현되어있음. "
   ]
  },
  {
   "cell_type": "markdown",
   "metadata": {},
   "source": [
    "## `return` 대 `print` 비교\n",
    "\n",
    "파이썬의 모든 함수는 리턴값을 갖고 있다. 함수를 정의할 때 `return`값을 명시하지 않아도 자동으로 `return None`을 추가해서 처리한다.\n",
    "`print` 함수가 대표적으로 `None`을 리턴값으로 갖고 있는 함수이다. \n",
    "\n",
    "리턴값이 `None`이면 재활용을 할 수 없다. `print` 함수가 대표적이다. 함수를 정의할 때 가능하면 `print` 문은 사용하지 않도록 한다. 어차피 재활용되지 않는 결과만 보여주기 때문이다. \n",
    "\n",
    "하지만 디버깅 등 위해 일부러 코드 중간중간에 `print`문을 사용하곤 한다. 기능이 제대로 작동하는지 확인하기 위한 용도로 사용한다."
   ]
  }
 ],
 "metadata": {
  "kernelspec": {
   "display_name": "Python 2",
   "language": "python",
   "name": "python2"
  },
  "language_info": {
   "codemirror_mode": {
    "name": "ipython",
    "version": 2
   },
   "file_extension": ".py",
   "mimetype": "text/x-python",
   "name": "python",
   "nbconvert_exporter": "python",
   "pygments_lexer": "ipython2",
   "version": "2.7.10"
  }
 },
 "nbformat": 4,
 "nbformat_minor": 0
}
