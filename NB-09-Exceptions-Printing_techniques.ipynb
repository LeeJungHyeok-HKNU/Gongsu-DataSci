{
 "cells": [
  {
   "cell_type": "markdown",
   "metadata": {},
   "source": [
    "이번 주에 다룰 내용은 아래와 같다.\n",
    "\n",
    "1. 예외 처리\n",
    "2. 문자열을 인쇄하는 다양한 방법 활용"
   ]
  },
  {
   "cell_type": "markdown",
   "metadata": {},
   "source": [
    "#  예외 처리"
   ]
  },
  {
   "cell_type": "markdown",
   "metadata": {},
   "source": [
    "프로그램 실행중에 오류(error)가 발생하면 예외(exception) 상태로 전환된다. 예외 상태로 전환되면 실행중이던 프로그램을 멈추고 발생한 오류를 알려준다. 즉, 예외는 오류를 처리하는 방식이며, C 언어에서는 존재하지 않는다.\n",
    "\n",
    "예외 처리와 관련해서 다룰 내용은 다음과 같다.\n",
    "\n",
    "* 예외의 종류 살펴보기\n",
    "* `try ... except ...` 명령어를 이용하여 예외 처리하기\n",
    "* `raise` 명령어를 이용하여 예외 발생시키기"
   ]
  },
  {
   "cell_type": "markdown",
   "metadata": {},
   "source": [
    "### 예외 종류\n",
    "\n",
    "가장 많이 발생하는 예외들을 살펴본다.\n",
    "\n",
    "    ZeroDivisionError\n",
    "    NameError\n",
    "    IOError\n",
    "    IndexError\n",
    "    NotImplementedError\n",
    "    \n",
    "등등."
   ]
  },
  {
   "cell_type": "markdown",
   "metadata": {},
   "source": [
    "#### ZeroDivisionError\n",
    "\n",
    "`0`으로 숫자를 나누려고 할 때 발생한다. "
   ]
  },
  {
   "cell_type": "code",
   "execution_count": 1,
   "metadata": {
    "collapsed": false
   },
   "outputs": [
    {
     "ename": "ZeroDivisionError",
     "evalue": "float division by zero",
     "output_type": "error",
     "traceback": [
      "\u001b[0;31m---------------------------------------------------------------------------\u001b[0m",
      "\u001b[0;31mZeroDivisionError\u001b[0m                         Traceback (most recent call last)",
      "\u001b[0;32m<ipython-input-1-1349566cb458>\u001b[0m in \u001b[0;36m<module>\u001b[0;34m()\u001b[0m\n\u001b[0;32m----> 1\u001b[0;31m \u001b[0;36m4.5\u001b[0m \u001b[0;34m/\u001b[0m \u001b[0;36m0\u001b[0m\u001b[0;34m\u001b[0m\u001b[0m\n\u001b[0m",
      "\u001b[0;31mZeroDivisionError\u001b[0m: float division by zero"
     ]
    }
   ],
   "source": [
    "4.5 / 0"
   ]
  },
  {
   "cell_type": "markdown",
   "metadata": {},
   "source": [
    "#### NameError\n",
    "\n",
    "선언되지 않은 변수를 사용하고자 할 때 발생한다. "
   ]
  },
  {
   "cell_type": "code",
   "execution_count": 2,
   "metadata": {
    "collapsed": false
   },
   "outputs": [
    {
     "ename": "NameError",
     "evalue": "name 'abc' is not defined",
     "output_type": "error",
     "traceback": [
      "\u001b[0;31m---------------------------------------------------------------------------\u001b[0m",
      "\u001b[0;31mNameError\u001b[0m                                 Traceback (most recent call last)",
      "\u001b[0;32m<ipython-input-2-fb8e540c9088>\u001b[0m in \u001b[0;36m<module>\u001b[0;34m()\u001b[0m\n\u001b[0;32m----> 1\u001b[0;31m \u001b[0;32mprint\u001b[0m\u001b[0;34m(\u001b[0m\u001b[0mabc\u001b[0m\u001b[0;34m)\u001b[0m\u001b[0;34m\u001b[0m\u001b[0m\n\u001b[0m",
      "\u001b[0;31mNameError\u001b[0m: name 'abc' is not defined"
     ]
    }
   ],
   "source": [
    "print(abc)"
   ]
  },
  {
   "cell_type": "markdown",
   "metadata": {},
   "source": [
    "#### IOError\n",
    "\n",
    "아직 생성되지 않은 파일에 접근할 때, 저장 공간이 부족할 때, 저장이 제대로 되지 않을 때 등등 발생한다. "
   ]
  },
  {
   "cell_type": "code",
   "execution_count": 3,
   "metadata": {
    "collapsed": false
   },
   "outputs": [
    {
     "ename": "IOError",
     "evalue": "[Errno 2] No such file or directory: 'not_yet_defined_file.txt'",
     "output_type": "error",
     "traceback": [
      "\u001b[0;31m---------------------------------------------------------------------------\u001b[0m",
      "\u001b[0;31mIOError\u001b[0m                                   Traceback (most recent call last)",
      "\u001b[0;32m<ipython-input-3-46685f98a1fa>\u001b[0m in \u001b[0;36m<module>\u001b[0;34m()\u001b[0m\n\u001b[0;32m----> 1\u001b[0;31m \u001b[0mf\u001b[0m \u001b[0;34m=\u001b[0m \u001b[0mopen\u001b[0m\u001b[0;34m(\u001b[0m\u001b[0;34m'not_yet_defined_file.txt'\u001b[0m\u001b[0;34m,\u001b[0m \u001b[0;34m'r'\u001b[0m\u001b[0;34m)\u001b[0m\u001b[0;34m\u001b[0m\u001b[0m\n\u001b[0m",
      "\u001b[0;31mIOError\u001b[0m: [Errno 2] No such file or directory: 'not_yet_defined_file.txt'"
     ]
    }
   ],
   "source": [
    "f = open('not_yet_defined_file.txt', 'r') "
   ]
  },
  {
   "cell_type": "markdown",
   "metadata": {},
   "source": [
    "#### IndexError\n",
    "\n",
    "시퀀스 자료형의 객체의 원소에 접근할 때 정해진 인덱스 범위를 초과할 때 발생한다."
   ]
  },
  {
   "cell_type": "code",
   "execution_count": 4,
   "metadata": {
    "collapsed": false
   },
   "outputs": [
    {
     "ename": "IndexError",
     "evalue": "list index out of range",
     "output_type": "error",
     "traceback": [
      "\u001b[0;31m---------------------------------------------------------------------------\u001b[0m",
      "\u001b[0;31mIndexError\u001b[0m                                Traceback (most recent call last)",
      "\u001b[0;32m<ipython-input-4-80950de46f70>\u001b[0m in \u001b[0;36m<module>\u001b[0;34m()\u001b[0m\n\u001b[1;32m      1\u001b[0m \u001b[0ml\u001b[0m \u001b[0;34m=\u001b[0m \u001b[0mrange\u001b[0m\u001b[0;34m(\u001b[0m\u001b[0;36m3\u001b[0m\u001b[0;34m)\u001b[0m\u001b[0;34m\u001b[0m\u001b[0m\n\u001b[0;32m----> 2\u001b[0;31m \u001b[0ml\u001b[0m\u001b[0;34m[\u001b[0m\u001b[0;36m3\u001b[0m\u001b[0;34m]\u001b[0m\u001b[0;34m\u001b[0m\u001b[0m\n\u001b[0m",
      "\u001b[0;31mIndexError\u001b[0m: list index out of range"
     ]
    }
   ],
   "source": [
    "l = range(3)\n",
    "l[3]"
   ]
  },
  {
   "cell_type": "markdown",
   "metadata": {},
   "source": [
    "#### NotImplementedError\n",
    "\n",
    "정의되지 함수를 사용할 때 고의로 에러를 발생키시고자 할 때 사용한다. `raise`를 이용한다. "
   ]
  },
  {
   "cell_type": "code",
   "execution_count": 5,
   "metadata": {
    "collapsed": true
   },
   "outputs": [],
   "source": [
    "def my_complicated_function():\n",
    "    \"\"\"아주 복잡하지만 지금 당장 불필요\"\"\"\n",
    "    raise NotImplementedError(\"아직 정의되어 있지 않음\")"
   ]
  },
  {
   "cell_type": "code",
   "execution_count": 6,
   "metadata": {
    "collapsed": false
   },
   "outputs": [
    {
     "ename": "NotImplementedError",
     "evalue": "아직 정의되어 있지 않음",
     "output_type": "error",
     "traceback": [
      "\u001b[0;31m---------------------------------------------------------------------------\u001b[0m",
      "\u001b[0;31mNotImplementedError\u001b[0m                       Traceback (most recent call last)",
      "\u001b[0;32m<ipython-input-6-dca6cbb480ed>\u001b[0m in \u001b[0;36m<module>\u001b[0;34m()\u001b[0m\n\u001b[0;32m----> 1\u001b[0;31m \u001b[0mmy_complicated_function\u001b[0m\u001b[0;34m(\u001b[0m\u001b[0;34m)\u001b[0m\u001b[0;34m\u001b[0m\u001b[0m\n\u001b[0m",
      "\u001b[0;32m<ipython-input-5-43a2159d7e4b>\u001b[0m in \u001b[0;36mmy_complicated_function\u001b[0;34m()\u001b[0m\n\u001b[1;32m      1\u001b[0m \u001b[0;32mdef\u001b[0m \u001b[0mmy_complicated_function\u001b[0m\u001b[0;34m(\u001b[0m\u001b[0;34m)\u001b[0m\u001b[0;34m:\u001b[0m\u001b[0;34m\u001b[0m\u001b[0m\n\u001b[1;32m      2\u001b[0m     \u001b[0;34m\"\"\"아주 복잡하지만 지금 당장 불필요\"\"\"\u001b[0m\u001b[0;34m\u001b[0m\u001b[0m\n\u001b[0;32m----> 3\u001b[0;31m     \u001b[0;32mraise\u001b[0m \u001b[0mNotImplementedError\u001b[0m\u001b[0;34m(\u001b[0m\u001b[0;34m\"아직 정의되어 있지 않음\"\u001b[0m\u001b[0;34m)\u001b[0m\u001b[0;34m\u001b[0m\u001b[0m\n\u001b[0m",
      "\u001b[0;31mNotImplementedError\u001b[0m: 아직 정의되어 있지 않음"
     ]
    }
   ],
   "source": [
    "my_complicated_function()"
   ]
  },
  {
   "cell_type": "markdown",
   "metadata": {},
   "source": [
    "오류 처리를 사용하지 않으면 오류 메시지가 보이지 않을 수도 있음에 주의해야 한다."
   ]
  },
  {
   "cell_type": "code",
   "execution_count": 7,
   "metadata": {
    "collapsed": true
   },
   "outputs": [],
   "source": [
    "def my_complicated_function_1():\n",
    "    \"\"\"아주 복잡하지만 지금 당장 불필요\"\"\""
   ]
  },
  {
   "cell_type": "code",
   "execution_count": 8,
   "metadata": {
    "collapsed": false
   },
   "outputs": [],
   "source": [
    "my_complicated_function_1()"
   ]
  },
  {
   "cell_type": "markdown",
   "metadata": {},
   "source": [
    "#### 오류의 종류\n",
    "\n",
    "이외에 많은 종류의 오류가 있다.\n",
    "\n",
    "* 보다 자세한 설명은 아래 사이트를 참조하면 된다. \n",
    "    \n",
    "        https://docs.python.org/2/library/exceptions.html \n",
    "    \n",
    "    \n",
    "* 아니면 아래와 같이 `help` 명령어를 사용하여 확인할 수 있다. \n",
    "\n",
    "        >>> import exceptions\n",
    "        >>> help(exceptions)\n",
    "        \n",
    "* 많은 종류의 오류를 무조건 외울 필요는 없다. 대신에 오류가 발생할 때마다 어떤 종류의 오류가 발생하는지 기억해두는 습관을 키워야 한다."
   ]
  },
  {
   "cell_type": "markdown",
   "metadata": {},
   "source": [
    "### `try ... except ...` 명령어 이용 예외 처리\n",
    "\n",
    "오류가 발생하여 프로그램이 임의로 실행 중단되는 것을 방지하기 위해 사용한다. \n",
    "\n",
    "* 오류가 발생할 수 있는 명령어 부분을 `try` 문으로 감싼다.\n",
    "* `try` 문으로 감싼 코드에서 오류가 발생할 경우 예외 처리하는 부분을 `except` \n",
    "    문으로 감싼다. \n",
    "* `try` 문으로 감싼 코드에서 오류가 발생하지 않으면 `except` 문으로 감싼 부분은 \n",
    "    건너 뛴다. "
   ]
  },
  {
   "cell_type": "markdown",
   "metadata": {},
   "source": [
    "#### 기본 사용법\n",
    "\n",
    "아래 코드를 실행하면 두 가지 경우가 발생할 수 있다.\n",
    "\n",
    "* `myfilename.dat` 파일이 존재하는 경우 해당 파일을 열어 한 줄씩 보여준다.\n",
    "* `myfilename.dat` 파일이 존재하지 않는 경우 아래와 같은 메시지가 보여지고 프로그램 실행이 멈춘다. \n",
    "\n",
    "        \"\"\"해당 파일을 열수 없습니다. 프로그램을 더 이상 실행할 수 없습니다.\n",
    "        An exception has occurred, use %tb to see the full traceback.\n",
    "        SystemExit: 1\"\"\"\n",
    "        \n",
    "    - 위 메시지에서 한글 부분은 예외 처리 코드 중에서 두 개의 `print` 문이 실행된 결과이다.\n",
    "    - `sys` 모듈의 `exit` 함수를 호출하면 프로그램이 중단된다. exit 함수가 숫자 `1`을 리턴하도록 하여 문제 때문에 프로그램이 중단되었음을 알리는 기능도 예외 처리에 포함시킨 것을 알 수 있다.\n",
    "    - 디버깅을 위해 모두 필요한 정보들이 담기도록 예외 처리를 해야 한다. "
   ]
  },
  {
   "cell_type": "code",
   "execution_count": 9,
   "metadata": {
    "collapsed": false
   },
   "outputs": [
    {
     "name": "stdout",
     "output_type": "stream",
     "text": [
      "해당 파일을 열수 없습니다. 프로그램을 더 이상 실행할 수 없습니다.\n"
     ]
    },
    {
     "ename": "SystemExit",
     "evalue": "1",
     "output_type": "error",
     "traceback": [
      "An exception has occurred, use %tb to see the full traceback.\n",
      "\u001b[0;31mSystemExit\u001b[0m\u001b[0;31m:\u001b[0m 1\n"
     ]
    },
    {
     "name": "stderr",
     "output_type": "stream",
     "text": [
      "To exit: use 'exit', 'quit', or Ctrl-D.\n"
     ]
    }
   ],
   "source": [
    "try:\n",
    "    f = open('myfilename.dat', 'r') \n",
    "except:\n",
    "    print(\"해당 파일을 열수 없습니다.\"), \n",
    "    print(\"프로그램을 더 이상 실행할 수 없습니다.\")\n",
    "    import sys\n",
    "    sys.exit(1) #a way to exit the programle couldn’t be opened.\"), \n",
    "\n",
    "for line in f.readlines():\n",
    "    print(line)"
   ]
  },
  {
   "cell_type": "markdown",
   "metadata": {},
   "source": [
    "#### `except` 문에 오류의 종류를 명시할 수 있다.\n",
    "\n",
    "위 코드에서 `try`문에서 해당 파일이 존재하지 않으면 `IOError`가 발생하므로 `except IOError` 라고 명령해도 동일한 기능을 수행한다. "
   ]
  },
  {
   "cell_type": "code",
   "execution_count": 10,
   "metadata": {
    "collapsed": false
   },
   "outputs": [
    {
     "name": "stdout",
     "output_type": "stream",
     "text": [
      "해당 파일을 열수 없습니다. 프로그램을 더 이상 실행할 수 없습니다.\n"
     ]
    },
    {
     "ename": "SystemExit",
     "evalue": "1",
     "output_type": "error",
     "traceback": [
      "An exception has occurred, use %tb to see the full traceback.\n",
      "\u001b[0;31mSystemExit\u001b[0m\u001b[0;31m:\u001b[0m 1\n"
     ]
    },
    {
     "name": "stderr",
     "output_type": "stream",
     "text": [
      "To exit: use 'exit', 'quit', or Ctrl-D.\n"
     ]
    }
   ],
   "source": [
    "try:\n",
    "    f = open('myfilename.dat', 'r') \n",
    "except IOError:\n",
    "    print(\"해당 파일을 열수 없습니다.\"), \n",
    "    print(\"프로그램을 더 이상 실행할 수 없습니다.\")\n",
    "    import sys\n",
    "    sys.exit(1) #a way to exit the programle couldn’t be opened.\"), \n",
    "\n",
    "for line in f.readlines():\n",
    "    print(line)"
   ]
  },
  {
   "cell_type": "markdown",
   "metadata": {},
   "source": [
    "#### `except` 문에 오류 종류와 오류메시지변수를 함께 사용해서 오류에 대한 보다 자세한 설명을 확인할 수 있다."
   ]
  },
  {
   "cell_type": "code",
   "execution_count": 11,
   "metadata": {
    "collapsed": false
   },
   "outputs": [
    {
     "name": "stdout",
     "output_type": "stream",
     "text": [
      "해당 파일을 열수 없습니다. 프로그램을 더 이상 실행할 수 없습니다.\n",
      "[Errno 2] No such file or directory: 'myfilename.dat'\n"
     ]
    },
    {
     "ename": "SystemExit",
     "evalue": "1",
     "output_type": "error",
     "traceback": [
      "An exception has occurred, use %tb to see the full traceback.\n",
      "\u001b[0;31mSystemExit\u001b[0m\u001b[0;31m:\u001b[0m 1\n"
     ]
    },
    {
     "name": "stderr",
     "output_type": "stream",
     "text": [
      "To exit: use 'exit', 'quit', or Ctrl-D.\n"
     ]
    }
   ],
   "source": [
    "try:\n",
    "    f = open('myfilename.dat', 'r') \n",
    "except IOError as er:\n",
    "    print(\"해당 파일을 열수 없습니다.\"), \n",
    "    print(\"프로그램을 더 이상 실행할 수 없습니다.\")\n",
    "    print(er)\n",
    "    import sys\n",
    "    sys.exit(1) #a way to exit the programle couldn’t be opened.\"), \n",
    "\n",
    "for line in f.readlines():\n",
    "    print(line)"
   ]
  },
  {
   "cell_type": "markdown",
   "metadata": {},
   "source": [
    "#### `except` 문에 사용하는 오류 종류는 정확해야 한다.\n",
    "\n",
    "아래 코드의 경우는 예외 처리가 제대로 되지 않는다. `try`문에서 발생하는 오류는 `ZeroDivisionError`인 반면에 `except IOError`는 `IOError`만을 처리하기 때문에 제대로 예외 처리를 못한다."
   ]
  },
  {
   "cell_type": "code",
   "execution_count": 12,
   "metadata": {
    "collapsed": false
   },
   "outputs": [
    {
     "ename": "ZeroDivisionError",
     "evalue": "integer division or modulo by zero",
     "output_type": "error",
     "traceback": [
      "\u001b[0;31m---------------------------------------------------------------------------\u001b[0m",
      "\u001b[0;31mZeroDivisionError\u001b[0m                         Traceback (most recent call last)",
      "\u001b[0;32m<ipython-input-12-1858e1cb7b70>\u001b[0m in \u001b[0;36m<module>\u001b[0;34m()\u001b[0m\n\u001b[1;32m      1\u001b[0m \u001b[0;32mtry\u001b[0m\u001b[0;34m:\u001b[0m\u001b[0;34m\u001b[0m\u001b[0m\n\u001b[0;32m----> 2\u001b[0;31m     \u001b[0ma\u001b[0m \u001b[0;34m=\u001b[0m \u001b[0;36m1\u001b[0m\u001b[0;34m/\u001b[0m\u001b[0;36m0\u001b[0m\u001b[0;34m\u001b[0m\u001b[0m\n\u001b[0m\u001b[1;32m      3\u001b[0m \u001b[0;32mexcept\u001b[0m \u001b[0mIOError\u001b[0m\u001b[0;34m:\u001b[0m\u001b[0;34m\u001b[0m\u001b[0m\n\u001b[1;32m      4\u001b[0m     \u001b[0;32mprint\u001b[0m\u001b[0;34m(\u001b[0m\u001b[0;34m\"The file couldn’t be opened.\"\u001b[0m\u001b[0;34m)\u001b[0m\u001b[0;34m,\u001b[0m\u001b[0;34m\u001b[0m\u001b[0m\n\u001b[1;32m      5\u001b[0m     \u001b[0;32mprint\u001b[0m\u001b[0;34m(\u001b[0m\u001b[0;34m\"This program stops here.\"\u001b[0m\u001b[0;34m)\u001b[0m\u001b[0;34m\u001b[0m\u001b[0m\n",
      "\u001b[0;31mZeroDivisionError\u001b[0m: integer division or modulo by zero"
     ]
    }
   ],
   "source": [
    "try:\n",
    "    a = 1/0\n",
    "except IOError:\n",
    "    print(\"The file couldn’t be opened.\"), \n",
    "    print(\"This program stops here.\")\n",
    "    import sys\n",
    "    sys.exit(1) #a way to exit the program\n"
   ]
  },
  {
   "cell_type": "markdown",
   "metadata": {},
   "source": [
    "#### `try ... except ....` 문의 보다 다양한 활용방법은 연습문제를 통해 습득할 예정이다.\n",
    "\n",
    "* 아래 사이트 참조 가능\n",
    "        https://wikidocs.net/30"
   ]
  },
  {
   "cell_type": "markdown",
   "metadata": {},
   "source": [
    "## raise 함수\n",
    "\n",
    "앞에서 `NotImplementedError`의 예제에서 보았듯이 `raise` 함수는 오류를 일부러 유발할 때 사용한다. "
   ]
  },
  {
   "cell_type": "code",
   "execution_count": 13,
   "metadata": {
    "collapsed": false
   },
   "outputs": [
    {
     "ename": "NameError",
     "evalue": "HiThere",
     "output_type": "error",
     "traceback": [
      "\u001b[0;31m---------------------------------------------------------------------------\u001b[0m",
      "\u001b[0;31mNameError\u001b[0m                                 Traceback (most recent call last)",
      "\u001b[0;32m<ipython-input-13-93385ba972b1>\u001b[0m in \u001b[0;36m<module>\u001b[0;34m()\u001b[0m\n\u001b[0;32m----> 1\u001b[0;31m \u001b[0;32mraise\u001b[0m \u001b[0mNameError\u001b[0m\u001b[0;34m(\u001b[0m\u001b[0;34m'HiThere'\u001b[0m\u001b[0;34m)\u001b[0m\u001b[0;34m\u001b[0m\u001b[0m\n\u001b[0m",
      "\u001b[0;31mNameError\u001b[0m: HiThere"
     ]
    }
   ],
   "source": [
    "raise NameError('HiThere')"
   ]
  },
  {
   "cell_type": "markdown",
   "metadata": {},
   "source": [
    "아래 코드에서처럼 `raise` 함수는 에러 인자를 선택적으로 받을 수 있다."
   ]
  },
  {
   "cell_type": "code",
   "execution_count": 14,
   "metadata": {
    "collapsed": false
   },
   "outputs": [
    {
     "name": "stdout",
     "output_type": "stream",
     "text": [
      "An exception flew by!\n"
     ]
    },
    {
     "ename": "NameError",
     "evalue": "HiThere",
     "output_type": "error",
     "traceback": [
      "\u001b[0;31m---------------------------------------------------------------------------\u001b[0m",
      "\u001b[0;31mNameError\u001b[0m                                 Traceback (most recent call last)",
      "\u001b[0;32m<ipython-input-14-e6256f74f78e>\u001b[0m in \u001b[0;36m<module>\u001b[0;34m()\u001b[0m\n\u001b[1;32m      1\u001b[0m \u001b[0;32mtry\u001b[0m\u001b[0;34m:\u001b[0m\u001b[0;34m\u001b[0m\u001b[0m\n\u001b[0;32m----> 2\u001b[0;31m     \u001b[0;32mraise\u001b[0m \u001b[0mNameError\u001b[0m\u001b[0;34m(\u001b[0m\u001b[0;34m'HiThere'\u001b[0m\u001b[0;34m)\u001b[0m\u001b[0;34m\u001b[0m\u001b[0m\n\u001b[0m\u001b[1;32m      3\u001b[0m \u001b[0;32mexcept\u001b[0m \u001b[0mNameError\u001b[0m\u001b[0;34m:\u001b[0m\u001b[0;34m\u001b[0m\u001b[0m\n\u001b[1;32m      4\u001b[0m     \u001b[0;32mprint\u001b[0m \u001b[0;34m'An exception flew by!'\u001b[0m\u001b[0;34m\u001b[0m\u001b[0m\n\u001b[1;32m      5\u001b[0m     \u001b[0;32mraise\u001b[0m\u001b[0;34m\u001b[0m\u001b[0m\n",
      "\u001b[0;31mNameError\u001b[0m: HiThere"
     ]
    }
   ],
   "source": [
    "try:\n",
    "    raise NameError('HiThere')\n",
    "except NameError:\n",
    "    print 'An exception flew by!'\n",
    "    raise"
   ]
  },
  {
   "cell_type": "markdown",
   "metadata": {},
   "source": [
    "# 문자열을 인쇄하는 다양한 방법 활용"
   ]
  },
  {
   "cell_type": "code",
   "execution_count": 15,
   "metadata": {
    "collapsed": true
   },
   "outputs": [],
   "source": [
    "a = \"string\"\n",
    "b = \"string1\""
   ]
  },
  {
   "cell_type": "code",
   "execution_count": 16,
   "metadata": {
    "collapsed": false
   },
   "outputs": [
    {
     "name": "stdout",
     "output_type": "stream",
     "text": [
      "string string1\n"
     ]
    }
   ],
   "source": [
    "print(a),; print(b)"
   ]
  },
  {
   "cell_type": "markdown",
   "metadata": {},
   "source": [
    "위 경우 `a`와 `b`를 인쇄할 때 스페이스가 자동으로 추가된다. \n",
    "그런데 스페이스 없이 `stringstring1`으로 출력하려면 두 가지 방식이 있다.\n",
    "\n",
    "* 문자열 덧셈 연산자를 활용한다.\n",
    "* 서식이 있는 인쇄방식(formatted printing)을 사용한다. "
   ]
  },
  {
   "cell_type": "code",
   "execution_count": 17,
   "metadata": {
    "collapsed": false
   },
   "outputs": [
    {
     "name": "stdout",
     "output_type": "stream",
     "text": [
      "stringstring1\n"
     ]
    }
   ],
   "source": [
    "print(a+b)"
   ]
  },
  {
   "cell_type": "code",
   "execution_count": 18,
   "metadata": {
    "collapsed": false
   },
   "outputs": [
    {
     "name": "stdout",
     "output_type": "stream",
     "text": [
      "stringstring1\n"
     ]
    }
   ],
   "source": [
    "print(\"{}{}\".format(a,b))"
   ]
  },
  {
   "cell_type": "markdown",
   "metadata": {},
   "source": [
    "서식이 있는 인쇄방식을 이용하여 다양한 형태로 자료들을 인쇄할 수 있다. 서식을 사용하는 방식은 크게 두 가지가 있다.\n",
    "\n",
    "* `%` 를 이용하는 방식\n",
    "    - C, Java 등에서 사용하는 방식과 거의 비슷하다.\n",
    "    \n",
    "* `format` 키워드를 사용하는 방식\n",
    "    - 파이써 만의 새로운 방식이며 `%` 보다 좀 더 다양한 기능을 지원한다. \n",
    "    - Java의 경우 `MessageFormat` 클래스의 `format` 메소드가 비슷한 기능을 \n",
    "    지원하지만 사용법이 좀 더 복잡하다. "
   ]
  },
  {
   "cell_type": "markdown",
   "metadata": {},
   "source": [
    "### 서식지정자(`%`)를  활용하여 문자열 인쇄하기"
   ]
  },
  {
   "cell_type": "code",
   "execution_count": 19,
   "metadata": {
    "collapsed": false
   },
   "outputs": [
    {
     "name": "stdout",
     "output_type": "stream",
     "text": [
      "stringstring110\n"
     ]
    }
   ],
   "source": [
    "print(\"%s%s%d\" % (a, b, 10))"
   ]
  },
  {
   "cell_type": "code",
   "execution_count": 20,
   "metadata": {
    "collapsed": false
   },
   "outputs": [],
   "source": [
    "from math import pi"
   ]
  },
  {
   "cell_type": "code",
   "execution_count": 21,
   "metadata": {
    "collapsed": false
   },
   "outputs": [
    {
     "name": "stdout",
     "output_type": "stream",
     "text": [
      "3.141593\n"
     ]
    }
   ],
   "source": [
    "print('%f' % pi)"
   ]
  },
  {
   "cell_type": "code",
   "execution_count": 22,
   "metadata": {
    "collapsed": false
   },
   "outputs": [
    {
     "name": "stdout",
     "output_type": "stream",
     "text": [
      "3.1415926536\n"
     ]
    }
   ],
   "source": [
    "print(\"%.10f\"% pi)"
   ]
  },
  {
   "cell_type": "code",
   "execution_count": 23,
   "metadata": {
    "collapsed": false
   },
   "outputs": [
    {
     "name": "stdout",
     "output_type": "stream",
     "text": [
      "3.141592653589793115997963468544\n"
     ]
    }
   ],
   "source": [
    "print(\"%.30f\"% pi)"
   ]
  },
  {
   "cell_type": "code",
   "execution_count": 24,
   "metadata": {
    "collapsed": false
   },
   "outputs": [
    {
     "name": "stdout",
     "output_type": "stream",
     "text": [
      "3.14159265358979311599796346854418516159057617187500\n"
     ]
    }
   ],
   "source": [
    "print(\"%.50f\"% pi)"
   ]
  },
  {
   "cell_type": "markdown",
   "metadata": {},
   "source": [
    "`pi`값 계산을 소숫점 이하 50자리 정도까지 계산함을 알 수 있다. 이것은 사용하는 컴퓨터의 한계이며 컴퓨터의 성능에 따라 계산능력이 달라진다. "
   ]
  },
  {
   "cell_type": "code",
   "execution_count": 25,
   "metadata": {
    "collapsed": false
   },
   "outputs": [
    {
     "name": "stdout",
     "output_type": "stream",
     "text": [
      "3.141593\n",
      "31.006277\n",
      "93648.047476\n"
     ]
    }
   ],
   "source": [
    "print(\"%f\"% pi)\n",
    "print(\"%f\"% pi**3)\n",
    "print(\"%f\"% pi**10)"
   ]
  },
  {
   "cell_type": "markdown",
   "metadata": {},
   "source": [
    "오른쪽으로 줄을 맞추려면 아래 방식을 사용한다.\n",
    "\n",
    "* 숫자 12는 `pi**10`의 값인 `93648.047476`가 점(.)을 포함하여 총 12자리로 가장 길기에 선택되었다. \n",
    "\n",
    "* 표현방식이 달라지면 다른 값을 선택해야 한다."
   ]
  },
  {
   "cell_type": "code",
   "execution_count": 26,
   "metadata": {
    "collapsed": false
   },
   "outputs": [
    {
     "name": "stdout",
     "output_type": "stream",
     "text": [
      "    3.141593\n",
      "   31.006277\n",
      "93648.047476\n"
     ]
    }
   ],
   "source": [
    "print(\"%12f\"% pi)\n",
    "print(\"%12f\"% pi**3)\n",
    "print(\"%12f\"% pi**10)"
   ]
  },
  {
   "cell_type": "code",
   "execution_count": 27,
   "metadata": {
    "collapsed": false
   },
   "outputs": [
    {
     "name": "stdout",
     "output_type": "stream",
     "text": [
      "    3.1415926536\n",
      "   31.0062766803\n",
      "93648.0474760830\n"
     ]
    }
   ],
   "source": [
    "print(\"%16.10f\"% pi)\n",
    "print(\"%16.10f\"% pi**3)\n",
    "print(\"%16.10f\"% pi**10)"
   ]
  },
  {
   "cell_type": "markdown",
   "metadata": {},
   "source": [
    "비어 있는 자리를 숫자 `0`으로 채울 수도 있다."
   ]
  },
  {
   "cell_type": "code",
   "execution_count": 28,
   "metadata": {
    "collapsed": false
   },
   "outputs": [
    {
     "name": "stdout",
     "output_type": "stream",
     "text": [
      "00003.141593\n",
      "00031.006277\n",
      "93648.047476\n"
     ]
    }
   ],
   "source": [
    "print(\"%012f\"% pi)\n",
    "print(\"%012f\"% pi**3)\n",
    "print(\"%012f\"% pi**10)"
   ]
  },
  {
   "cell_type": "code",
   "execution_count": 29,
   "metadata": {
    "collapsed": false
   },
   "outputs": [
    {
     "name": "stdout",
     "output_type": "stream",
     "text": [
      "00003.1415926536\n",
      "00031.0062766803\n",
      "93648.0474760830\n"
     ]
    }
   ],
   "source": [
    "print(\"%016.10f\"% pi)\n",
    "print(\"%016.10f\"% pi**3)\n",
    "print(\"%016.10f\"% pi**10)"
   ]
  },
  {
   "cell_type": "markdown",
   "metadata": {},
   "source": [
    "자릿수는 계산결과를 예상하여 결정해야 한다. \n",
    "아래의 경우는 자릿수를 너무 작게 무시한다. "
   ]
  },
  {
   "cell_type": "code",
   "execution_count": 30,
   "metadata": {
    "collapsed": false
   },
   "outputs": [
    {
     "name": "stdout",
     "output_type": "stream",
     "text": [
      "2791563949.59784364700317382812\n"
     ]
    }
   ],
   "source": [
    "print(\"%12.20f\" % pi**19)"
   ]
  },
  {
   "cell_type": "markdown",
   "metadata": {},
   "source": [
    "### `format` 함수 사용하여 문자열 인쇄하기\n",
    "\n",
    "`format` 함수를 이용하여 서식지정자(`%`)를 사용한 결과를 동일하게 구할 수 있다. "
   ]
  },
  {
   "cell_type": "code",
   "execution_count": 31,
   "metadata": {
    "collapsed": false
   },
   "outputs": [
    {
     "name": "stdout",
     "output_type": "stream",
     "text": [
      "stringstring110\n"
     ]
    }
   ],
   "source": [
    "print(\"{}{}{}\".format(a, b, 10))"
   ]
  },
  {
   "cell_type": "code",
   "execution_count": 32,
   "metadata": {
    "collapsed": false
   },
   "outputs": [
    {
     "name": "stdout",
     "output_type": "stream",
     "text": [
      "stringstring110\n"
     ]
    }
   ],
   "source": [
    "print(\"{:s}{:s}{:d}\".format(a, b, 10))"
   ]
  },
  {
   "cell_type": "code",
   "execution_count": 33,
   "metadata": {
    "collapsed": false
   },
   "outputs": [
    {
     "name": "stdout",
     "output_type": "stream",
     "text": [
      "3.141593\n",
      "31.006277\n",
      "93648.047476\n"
     ]
    }
   ],
   "source": [
    "print(\"{:f}\".format(pi))\n",
    "print(\"{:f}\".format(pi**3))\n",
    "print(\"{:f}\".format(pi**10))"
   ]
  },
  {
   "cell_type": "code",
   "execution_count": 34,
   "metadata": {
    "collapsed": false
   },
   "outputs": [
    {
     "name": "stdout",
     "output_type": "stream",
     "text": [
      "    3.141593\n",
      "   31.006277\n",
      "93648.047476\n"
     ]
    }
   ],
   "source": [
    "print(\"{:12f}\".format(pi))\n",
    "print(\"{:12f}\".format(pi**3))\n",
    "print(\"{:12f}\".format(pi**10))"
   ]
  },
  {
   "cell_type": "code",
   "execution_count": 35,
   "metadata": {
    "collapsed": false
   },
   "outputs": [
    {
     "name": "stdout",
     "output_type": "stream",
     "text": [
      "00003.141593\n",
      "00031.006277\n",
      "93648.047476\n"
     ]
    }
   ],
   "source": [
    "print(\"{:012f}\".format(pi))\n",
    "print(\"{:012f}\".format(pi**3))\n",
    "print(\"{:012f}\".format(pi**10))"
   ]
  },
  {
   "cell_type": "markdown",
   "metadata": {},
   "source": [
    "`format` 함수는 인덱싱 기능까지 지원한다. "
   ]
  },
  {
   "cell_type": "code",
   "execution_count": 36,
   "metadata": {
    "collapsed": false
   },
   "outputs": [
    {
     "name": "stdout",
     "output_type": "stream",
     "text": [
      "10string1string\n"
     ]
    }
   ],
   "source": [
    "print(\"{2}{1}{0}\".format(a, b, 10))"
   ]
  },
  {
   "cell_type": "markdown",
   "metadata": {},
   "source": [
    "인덱싱을 위해 키워드를 사용할 수도 있다."
   ]
  },
  {
   "cell_type": "code",
   "execution_count": 37,
   "metadata": {
    "collapsed": false
   },
   "outputs": [
    {
     "name": "stdout",
     "output_type": "stream",
     "text": [
      "stringstring1string\n"
     ]
    }
   ],
   "source": [
    "print(\"{s1}{s2}{s1}\".format(s1=a, s2=b, i1=10))"
   ]
  },
  {
   "cell_type": "code",
   "execution_count": 38,
   "metadata": {
    "collapsed": false,
    "scrolled": false
   },
   "outputs": [
    {
     "name": "stdout",
     "output_type": "stream",
     "text": [
      "10string1string\n"
     ]
    }
   ],
   "source": [
    "print(\"{i1}{s2}{s1}\".format(s1=a, s2=b, i1=10))"
   ]
  },
  {
   "cell_type": "markdown",
   "metadata": {},
   "source": [
    "인덱싱과 서식지정자를 함께 사용할 수 있다"
   ]
  },
  {
   "cell_type": "code",
   "execution_count": 39,
   "metadata": {
    "collapsed": false
   },
   "outputs": [
    {
     "name": "stdout",
     "output_type": "stream",
     "text": [
      "   31.006277,     3.141593\n"
     ]
    }
   ],
   "source": [
    "print(\"{1:12f}, {0:12f}\".format(pi, pi**3))"
   ]
  },
  {
   "cell_type": "code",
   "execution_count": 40,
   "metadata": {
    "collapsed": false
   },
   "outputs": [
    {
     "name": "stdout",
     "output_type": "stream",
     "text": [
      "   31.006277,     3.141593\n"
     ]
    }
   ],
   "source": [
    "print(\"{p1:12f}, {p0:12f}\".format(p0=pi, p1=pi**3))"
   ]
  }
 ],
 "metadata": {
  "kernelspec": {
   "display_name": "Python 2",
   "language": "python",
   "name": "python2"
  },
  "language_info": {
   "codemirror_mode": {
    "name": "ipython",
    "version": 2
   },
   "file_extension": ".py",
   "mimetype": "text/x-python",
   "name": "python",
   "nbconvert_exporter": "python",
   "pygments_lexer": "ipython2",
   "version": "2.7.10"
  }
 },
 "nbformat": 4,
 "nbformat_minor": 0
}
