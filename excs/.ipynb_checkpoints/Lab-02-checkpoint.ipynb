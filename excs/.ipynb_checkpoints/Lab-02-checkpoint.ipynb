{
 "cells": [
  {
   "cell_type": "markdown",
   "metadata": {},
   "source": [
    "# 준비사항"
   ]
  },
  {
   "cell_type": "markdown",
   "metadata": {},
   "source": [
    "* Lab-01 내용을 숙지해야 함.\n",
    "* 파이썬 코딩 안내인 PEP8 양식을 따르면서 코딩할 것."
   ]
  },
  {
   "cell_type": "markdown",
   "metadata": {},
   "source": [
    "# 예제"
   ]
  },
  {
   "cell_type": "markdown",
   "metadata": {},
   "source": [
    "* 아래 예제들에서 사용되는 함수들을 training2.py 파일에 작성하여 저장한다. "
   ]
  },
  {
   "cell_type": "markdown",
   "metadata": {},
   "source": [
    "### 예제 1"
   ]
  },
  {
   "cell_type": "markdown",
   "metadata": {},
   "source": [
    "가로, 세로, 높이의 길이가 각각 `a, b, c`인 직육면체의 부피를 계산하는 함수 `box_volume(a, b, c)`를 정의하라.\n",
    "\n",
    "활용 예:\n",
    "\n",
    "    In [ ]: box_volume(1, 1, 1)\n",
    "    Out[ ]: 1\n",
    "\n",
    "    In [ ]: box_volume(1, 2, 3.5)\n",
    "    Out[ ]: 7.0\n",
    "\n",
    "    In [ ]: box_volume(1, 1, 0)\n",
    "    Out[ ]: 0"
   ]
  },
  {
   "cell_type": "code",
   "execution_count": 1,
   "metadata": {},
   "outputs": [
    {
     "data": {
      "text/plain": [
       "7.0"
      ]
     },
     "execution_count": 1,
     "metadata": {},
     "output_type": "execute_result"
    }
   ],
   "source": [
    "def box_volume(a, b, c):\n",
    "    return a * b * c\n",
    "\n",
    "box_volume(1, 2, 3.5)"
   ]
  },
  {
   "cell_type": "markdown",
   "metadata": {},
   "source": [
    "### 예제 2"
   ]
  },
  {
   "cell_type": "markdown",
   "metadata": {},
   "source": [
    "높이가 `h` 미터인 위치에서 물체를 자유낙하 시켰을 때 지면에 닿을 때까지 걸리는 시간을 계산하는 함수 `fall_time(h)`을 정의하라. 단, 공기저항은 무시한다. 아래 공식을 이용할 수 있다. \n",
    "\n",
    "    h(t) = 0.5 * g * (t ** 2)\n",
    "       g = 9.81 * m * (s ** 2)\n",
    "위 식에서 `h`는 `t`초가 지났을 때 떨어진 거리를 나타낸다.\n",
    "\n",
    "활용 예:\n",
    "\n",
    "    In [ ]: fall_time(10)\n",
    "    Out[ ]: 1.4278431229270645\n",
    "\n",
    "    In [ ]: fall_time(1)\n",
    "    Out[ ]: 0.4515236409857309"
   ]
  },
  {
   "cell_type": "code",
   "execution_count": 2,
   "metadata": {},
   "outputs": [
    {
     "data": {
      "text/plain": [
       "1.4278431229270645"
      ]
     },
     "execution_count": 2,
     "metadata": {},
     "output_type": "execute_result"
    }
   ],
   "source": [
    "from math import sqrt\n",
    "\n",
    "def fall_time(h):\n",
    "    g = 9.81\n",
    "    return sqrt(2*h/g)\n",
    "\n",
    "fall_time(10)"
   ]
  },
  {
   "cell_type": "markdown",
   "metadata": {},
   "source": [
    "### 예제 3"
   ]
  },
  {
   "cell_type": "markdown",
   "metadata": {},
   "source": [
    "세 개의 숫자를 입력받는 함수 `interval_point(a, b, x)`를 아래 성질을 만족하도록\n",
    " 정의하라.\n",
    "\n",
    "숫자 `a`와 `b`는 구간의 처음과 끝을 나타낸다. 숫자 `x`는 `0`과 `1` 사이의 값이다. 그러면 `interval_point(a, b, x)`는 `a`에서 출발하여 `x`비율만큼 `b` 방향으로 이동할 때 갈 수 있는 위치를 되돌려준다. \n",
    "\n",
    "활용 예:\n",
    "\n",
    "    In [ ]: interval_point(100, 200, 0.5)\n",
    "    Out[ ]: 150.0\n",
    "\n",
    "    In [ ]: interval_point(100, 200, 0.2)\n",
    "    Out[ ]: 120.0"
   ]
  },
  {
   "cell_type": "code",
   "execution_count": 3,
   "metadata": {},
   "outputs": [
    {
     "data": {
      "text/plain": [
       "120.0"
      ]
     },
     "execution_count": 3,
     "metadata": {},
     "output_type": "execute_result"
    }
   ],
   "source": [
    "def interval_point(a, b, x):\n",
    "    \"\"\"if-else 문장없이 가능함에 유의!\"\"\"\n",
    "    return (b-a)*x + a\n",
    "\n",
    "interval_point(100, 200, 0.2)"
   ]
  },
  {
   "cell_type": "markdown",
   "metadata": {},
   "source": [
    "### 예제 4"
   ]
  },
  {
   "cell_type": "markdown",
   "metadata": {},
   "source": [
    "높이가 `h`미터인 위치에서 물건을 자유낙하시켜서 지면과 충돌할 때의 속도를 리턴하는 함수 `impact_velocity(h)`를 정의하라. \n",
    "`v(t) = g * t` 공식을 활용할 수 있다. (t는 떨어지는 초단위 시간이고 g = 9.81 m/s**2)"
   ]
  },
  {
   "cell_type": "code",
   "execution_count": 4,
   "metadata": {},
   "outputs": [
    {
     "data": {
      "text/plain": [
       "14.007141035914504"
      ]
     },
     "execution_count": 4,
     "metadata": {},
     "output_type": "execute_result"
    }
   ],
   "source": [
    "g = 9.81\n",
    "\n",
    "def impact_velocity(h):\n",
    "    \"\"\"앞서 정의한 fall_time 함수 재활용 가능\"\"\"\n",
    "    return g * fall_time(h)\n",
    "\n",
    "impact_velocity(10)"
   ]
  },
  {
   "cell_type": "markdown",
   "metadata": {},
   "source": [
    "### 예제 5"
   ]
  },
  {
   "cell_type": "markdown",
   "metadata": {},
   "source": [
    "아래 조건을 만족시키는 함수 `signum(x)`를 정의하라.\n",
    "\n",
    "\n",
    "* returns 1 if x > 0\n",
    "* returns 0 if x = 0\n",
    "* returns -1 if x < 0\n",
    "\n",
    "활용 예:\n",
    "\n",
    "    In [ ]: signum(2012)\n",
    "    Out[ ]: 1"
   ]
  },
  {
   "cell_type": "code",
   "execution_count": 5,
   "metadata": {},
   "outputs": [
    {
     "data": {
      "text/plain": [
       "2"
      ]
     },
     "execution_count": 5,
     "metadata": {},
     "output_type": "execute_result"
    }
   ],
   "source": [
    "def signum(x):\n",
    "    \"\"\"입력값의 부호를 알려주는 함수\"\"\"\n",
    "    if x > 0:\n",
    "        return 1\n",
    "    elif x == 0:\n",
    "        return 0\n",
    "    else:\n",
    "        return -1\n",
    "\n",
    "# signum 함수를 이용하여 절대값 함수를 재정의 할 수 있어야 한다.\n",
    "    \n",
    "def myabs(x):\n",
    "    if signum(x) == -1 :\n",
    "        return -x\n",
    "    else: \n",
    "        return x\n",
    "    \n",
    "myabs(-2)"
   ]
  },
  {
   "cell_type": "markdown",
   "metadata": {},
   "source": [
    "# 해야할 과제"
   ]
  },
  {
   "cell_type": "markdown",
   "metadata": {},
   "source": [
    "lab2.py에 아래 연습문제들에서 사용되는 함수들을 정의하라. 정의된 함수들은 각 연습문제에서 요구하는 사항들을 만족시켜야 한다. "
   ]
  },
  {
   "cell_type": "markdown",
   "metadata": {},
   "source": [
    "## 연습문제 1\n",
    "\n",
    "초(second) 단위의 숫자를 받아서 일(day) 단위의 값으로 되돌려주는 `seconds2days(n)` 함수를 정의하라. 입력값은 `int` 또는 `float` 일 수 있으며 리턴값은 `float` 자료형이어야 한다.\n",
    "\n",
    "활용 예:\n",
    "\n",
    "    In [ ]: seconds2days(43200)\n",
    "    Out[ ]: 0.5"
   ]
  },
  {
   "cell_type": "code",
   "execution_count": 6,
   "metadata": {},
   "outputs": [
    {
     "data": {
      "text/plain": [
       "0.5"
      ]
     },
     "execution_count": 6,
     "metadata": {},
     "output_type": "execute_result"
    }
   ],
   "source": [
    "daysec = 60 * 60 * 24\n",
    "\n",
    "def seconds2days(sec):\n",
    "    \"\"\"강제형변환에 주의할 것\"\"\"\n",
    "    return sec / float(daysec)\n",
    "\n",
    "seconds2days(43200)"
   ]
  },
  {
   "cell_type": "markdown",
   "metadata": {},
   "source": [
    "## 연습문제 2\n",
    "\n",
    "변의 길이가 각각 `a, b, c`인 직각육면체의 표면적을 계산해주는 함수 `box_surface(a, b, c)`를 정의하라. 예를 들어, 박스를 페인트칠하고자 할 때 필요한 페인트의 양을 계산하는 문제이다.\n",
    "\n",
    "활용 예:\n",
    "\n",
    "    In [ ]: box_surface(1, 1, 1)\n",
    "    Out[ ]: 6\n",
    "\n",
    "    In [ ]: box_surface(2, 2, 0)\n",
    "    Out[ ]: 8"
   ]
  },
  {
   "cell_type": "code",
   "execution_count": 7,
   "metadata": {},
   "outputs": [
    {
     "data": {
      "text/plain": [
       "32"
      ]
     },
     "execution_count": 7,
     "metadata": {},
     "output_type": "execute_result"
    }
   ],
   "source": [
    "def box_surface(a, b, c):\n",
    "    \"\"\"6개의 면의 합을 구하면 된다\"\"\"\n",
    "    return 2 * (a * b + b * c + c * a)\n",
    "\n",
    "box_surface(2, 2, 3)"
   ]
  },
  {
   "cell_type": "markdown",
   "metadata": {},
   "source": [
    "## 연습문제 3\n",
    "\n",
    "변의 길이가 각각 `a, b, c`인 삼각형의 면적 `A`를 계산하는 함수 `triangle_area(a, b, c)`를 정의하라. \n",
    "다음 등식을 이용할 수 있다. \n",
    "\n",
    "    A = (s * (s - a) * (s - b) * (s - c)) ** 0.5\n",
    "    s = (a + b + c) / 2\n",
    "    \n",
    "아래 사이트 참조:\n",
    "\n",
    "https://ko.wikipedia.org/wiki/%EC%82%BC%EA%B0%81%ED%98%95"
   ]
  },
  {
   "cell_type": "code",
   "execution_count": 8,
   "metadata": {},
   "outputs": [
    {
     "data": {
      "text/plain": [
       "2.9047375096555625"
      ]
     },
     "execution_count": 8,
     "metadata": {},
     "output_type": "execute_result"
    }
   ],
   "source": [
    "def triangle_area(a, b, c):\n",
    "    s = (a + b + c) / 2.0\n",
    "    return sqrt(s * (s-a) * (s-b) * (s-c))\n",
    "\n",
    "triangle_area(2, 3, 4)"
   ]
  },
  {
   "cell_type": "markdown",
   "metadata": {},
   "source": [
    "# 과제 제출요령\n",
    "\n",
    "training2.py와 lab2.py 파일만 제출한다."
   ]
  }
 ],
 "metadata": {
  "kernelspec": {
   "display_name": "Python 2",
   "language": "python",
   "name": "python2"
  },
  "language_info": {
   "codemirror_mode": {
    "name": "ipython",
    "version": 2
   },
   "file_extension": ".py",
   "mimetype": "text/x-python",
   "name": "python",
   "nbconvert_exporter": "python",
   "pygments_lexer": "ipython2",
   "version": "2.7.13"
  }
 },
 "nbformat": 4,
 "nbformat_minor": 1
}
