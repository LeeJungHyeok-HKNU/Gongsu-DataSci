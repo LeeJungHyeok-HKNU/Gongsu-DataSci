{
 "cells": [
  {
   "cell_type": "markdown",
   "metadata": {},
   "source": [
    "# 준비사항"
   ]
  },
  {
   "cell_type": "markdown",
   "metadata": {},
   "source": [
    "* 이번 주에 배운 내용을 숙지하고 있어야 함.\n",
    "* ipython과 Spyder 사용법을 익히고 있어야 함.\n",
    "  * 즉, 파이썬 코드를 한줄씩 실행하거나 \n",
    "  * 아니면 확장자가 `.py`인 파일로 저장해서 파일을 실행하는 법을 알아야 함.\n",
    "* 또한 기존에 정의된 함수를 수정하였을 경우 수정된 함수를 어떻게 사용할 수 있는지를 알아야 함."
   ]
  },
  {
   "cell_type": "markdown",
   "metadata": {},
   "source": [
    "# 예제"
   ]
  },
  {
   "cell_type": "markdown",
   "metadata": {},
   "source": [
    "* 아래 코드를 training1.py 파일에 저장한다. 또는 현재 파일명을 고쳐서 사용할 수도 있다.\n",
    "\n",
    "    def average(a, b):\n",
    "        \"\"\"Given Parameters a and b, compute and\n",
    "        return the arithmetic mean of a and b.\"\"\"\n",
    "        return (a + b) * 0.5\n",
    "        \n",
    "* Spyder를 이용하여 training1.py 파일을 연다.\n",
    "\n",
    "* 주의: 주석 등에 한글을 사용하고자 할 경우 아래 문장이 문서 맨 첫줄에 있어야 한다.\n",
    "\n",
    "    `# coding: utf-8`\n",
    "\n",
    "\n",
    "* F5 버튼을 눌러 해당파일을 실행한 후 아래 사항을 확인한다:\n",
    "\n",
    "    In [ ]: average(10, 20)\n",
    "    \n",
    "    Out[ ]: 15.0\n",
    "\n",
    "    In [ ]: average(10, 4)\n",
    "    \n",
    "    Out[ ]: 7.0\n",
    "\n",
    "    In [ ]: help(average)\n",
    "      Help on function average in module __main__:\n",
    "\n",
    "      average(a, b)\n",
    "         Given Parameters a and b, compute and\n",
    "         return the arithmetic mean of a and b."
   ]
  },
  {
   "cell_type": "code",
   "execution_count": 1,
   "metadata": {},
   "outputs": [
    {
     "data": {
      "text/plain": [
       "2.5"
      ]
     },
     "execution_count": 1,
     "metadata": {},
     "output_type": "execute_result"
    }
   ],
   "source": [
    "def average(a, b):\n",
    "    return (a + b)/2.0\n",
    "\n",
    "average(2,3)"
   ]
  },
  {
   "cell_type": "markdown",
   "metadata": {},
   "source": [
    "# 해야할 과제"
   ]
  },
  {
   "cell_type": "markdown",
   "metadata": {},
   "source": [
    "training1.py에 아래 연습문제들에서 사용되는 함수들을 정의하라. 정의된 함수들은 각 연습문제에서 요구하는 사항들을 만족시켜야 한다. 또한 `average` 함수의 경우처럼 적절한 docstring을 주석으로 달아주어야 한다."
   ]
  },
  {
   "cell_type": "markdown",
   "metadata": {},
   "source": [
    "## 연습문제 1\n",
    "\n",
    "두 숫자 `a`와 `b`의 사이의 거리를 리턴하는 함수 `distance(a, b)`를 정의하라.\n",
    "\n",
    "활용 예:\n",
    "\n",
    "    In [ ]: distance(3, 4)\n",
    "    Out[ ]: 1\n",
    "\n",
    "    In [ ]: distance(3, 1)\n",
    "    Out[ ]: 2\n"
   ]
  },
  {
   "cell_type": "code",
   "execution_count": 2,
   "metadata": {},
   "outputs": [
    {
     "data": {
      "text/plain": [
       "2"
      ]
     },
     "execution_count": 2,
     "metadata": {},
     "output_type": "execute_result"
    }
   ],
   "source": [
    "def distance(a,b):\n",
    "    \"\"\"if-else문을 사용하지 않고도 가능하다.\"\"\"\n",
    "    return abs(a-b)\n",
    "\n",
    "distance(3, 1)"
   ]
  },
  {
   "cell_type": "code",
   "execution_count": 3,
   "metadata": {
    "collapsed": true
   },
   "outputs": [],
   "source": [
    "import math\n",
    "\n",
    "def geometic_mean(a, b):\n",
    "    return math.sqrt(a * b) # return (a * b)** 0.5"
   ]
  },
  {
   "cell_type": "markdown",
   "metadata": {},
   "source": [
    "## 연습문제 2\n",
    "\n",
    "두 숫자의 기하평균(geometric mean)을 리턴하는 함수 `geometric_mean(a, b)` 함수를 정의하라. \n",
    "\n",
    "두 숫자 `a`와 `b`의 기하평균을 `c`라 하면, 두 변의 길이가 각각 `a`와 `b`인 직사각형의 넓이와 변의 길이가 `c`인 정사각형의 넓이가 동일함을 의미한다. \n",
    "\n",
    "활용 예:\n",
    "\n",
    "    In [ ]: geometric_mean(2, 2)\n",
    "    Out[ ]: 2.0\n",
    "\n",
    "    In [ ]: geometric_mean(2, 8)\n",
    "    Out[ ]: 4.0\n",
    "\n",
    "    In [ ]: geometric_mean(2, 1)\n",
    "    Out[ ]: 1.4142135623730951"
   ]
  },
  {
   "cell_type": "code",
   "execution_count": 4,
   "metadata": {},
   "outputs": [
    {
     "data": {
      "text/plain": [
       "4.0"
      ]
     },
     "execution_count": 4,
     "metadata": {},
     "output_type": "execute_result"
    }
   ],
   "source": [
    "from math import sqrt\n",
    "\n",
    "def geometic_mean(a, b):\n",
    "    return sqrt(a * b)\n",
    "\n",
    "# sqrt에 대해 알고 싶으면 help 함수를 활용한다.\n",
    "# help(sqrt)\n",
    "geometic_mean(2,8)"
   ]
  },
  {
   "cell_type": "markdown",
   "metadata": {},
   "source": [
    "## 연습문제 3\n",
    "\n",
    "바닥면적이 `A`이고 높이가 `h`인 피라미드의 부피를 리턴하는 함수 `pyramid_volume(A, h)`를 정의하라. \n",
    "\n",
    "활용 예:\n",
    "\n",
    "    In [ ]: pyramid_volume(1, 2)\n",
    "    Out[ ]: 0.6666666666666666"
   ]
  },
  {
   "cell_type": "code",
   "execution_count": 5,
   "metadata": {},
   "outputs": [
    {
     "data": {
      "text/plain": [
       "0.6666666666666666"
      ]
     },
     "execution_count": 5,
     "metadata": {},
     "output_type": "execute_result"
    }
   ],
   "source": [
    "def pyramid_volume(A, h):\n",
    "    \"\"\"4각뿔의 부피는 밑면적 * 높이 * 1/3\"\"\"\n",
    "    return (1.0/3) * A * h\n",
    "\n",
    "pyramid_volume(1, 2)"
   ]
  },
  {
   "cell_type": "markdown",
   "metadata": {},
   "source": [
    "# 과제 제출요령\n",
    "\n",
    "training1.py 파일만 제출한다."
   ]
  }
 ],
 "metadata": {
  "kernelspec": {
   "display_name": "Python 2",
   "language": "python",
   "name": "python2"
  },
  "language_info": {
   "codemirror_mode": {
    "name": "ipython",
    "version": 2
   },
   "file_extension": ".py",
   "mimetype": "text/x-python",
   "name": "python",
   "nbconvert_exporter": "python",
   "pygments_lexer": "ipython2",
   "version": "2.7.13"
  }
 },
 "nbformat": 4,
 "nbformat_minor": 1
}
