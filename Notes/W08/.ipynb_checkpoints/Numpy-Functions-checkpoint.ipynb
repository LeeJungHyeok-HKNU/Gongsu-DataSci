{
 "cells": [
  {
   "cell_type": "markdown",
   "metadata": {},
   "source": [
    "## 주요 내용\n",
    "\n",
    "넘파이 어레이와 관련된 다양한 함수들의 활용 예제들을 살핀다."
   ]
  },
  {
   "cell_type": "markdown",
   "metadata": {},
   "source": [
    "### 연습문제\n",
    "\n",
    "아래 모양의 어레이를 생성하라. 단, 3줄 이내로 코딩해야 한다.\n",
    "\n",
    "    [[1, 1, 1, 1],\n",
    "     [1, 1, 1, 1],\n",
    "     [1, 1, 1, 2],\n",
    "     [1, 6, 1, 1]]\n",
    "     \n",
    "_힌트_: `np.ones` 함수와 인덱싱 활용.     "
   ]
  }
 ],
 "metadata": {
  "kernelspec": {
   "display_name": "Python 2",
   "language": "python",
   "name": "python2"
  },
  "language_info": {
   "codemirror_mode": {
    "name": "ipython",
    "version": 2
   },
   "file_extension": ".py",
   "mimetype": "text/x-python",
   "name": "python",
   "nbconvert_exporter": "python",
   "pygments_lexer": "ipython2",
   "version": "2.7.13"
  }
 },
 "nbformat": 4,
 "nbformat_minor": 2
}
