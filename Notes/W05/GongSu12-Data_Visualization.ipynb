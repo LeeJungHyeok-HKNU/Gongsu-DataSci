{
 "cells": [
  {
   "cell_type": "markdown",
   "metadata": {},
   "source": [
    "# 데이터 시각화"
   ]
  },
  {
   "cell_type": "code",
   "execution_count": 1,
   "metadata": {
    "collapsed": true
   },
   "outputs": [],
   "source": [
    "from __future__ import division, print_function"
   ]
  },
  {
   "cell_type": "markdown",
   "metadata": {},
   "source": [
    "## 주요 내용\n",
    "\n",
    "데이터 분석을 위해 가장 기본적으로 할 수 있고, 해야 하는 일이 데이터 시각화이다. \n",
    "데이터를 시각화하는 것은 어렵지 않지만, 적합한 시각화를 만드는 일은 매우 어려우며,\n",
    "많은 훈련과 직관이 요구된다.\n",
    "\n",
    "여기서는 데이터를 탐색하여 얻어진 데이터를 시각화하는 기본적인 방법 네 가지를 배운다.\n",
    "\n",
    "* 막대 그래프\n",
    "* 히스토그램\n",
    "* 선 그래프\n",
    "* 산점도"
   ]
  },
  {
   "cell_type": "markdown",
   "metadata": {},
   "source": [
    "## 오늘이 주요 예제\n",
    "\n",
    "아래 문장은 데이터 과학에서 파이썬의 역할을 강조하는 설명을 담은 문장이다. \n",
    "\n",
    "```\n",
    "about_python = 'Python is a general-purpose programming language. \\\n",
    "                It is becoming more and more popular \\\n",
    "                for doing data science. \\\n",
    "                Companies worldwide are using Python to get \\\n",
    "                information from their data.'\n",
    "```                \n",
    "\n",
    "위 문장에 사용된 단어들의 길이를 분석하여 길이별로 몇 개의 단어가 사용되었는가를 분석하면 아래의 결과가 나온다. \n",
    "```\n",
    "길이   단어개수\n",
    "------------\n",
    "1     1\n",
    "2     8\n",
    "3     6\n",
    "4     11\n",
    "5     6\n",
    "6     3\n",
    "7     2\n",
    "8     5\n",
    "9     2\n",
    "10    1\n",
    "11    2\n",
    "15    1\n",
    "```\n",
    "\n",
    "위 데이터를 아래와 같이 막대 그래프로 시각화하면 다양한 정보를 쉽게 전달할 수 있다.\n",
    "아래와 같은 막대 그래프를 그려 보자.\n",
    "\n",
    "<p>\n",
    "<table cellspacing=\"20\">\n",
    "\n",
    "<tr>\n",
    "<td>\n",
    "<img src=\"../../images/pyplot/pyplot_bar_chart.png\", width=360>\n",
    "</td>\n",
    "</tr>\n",
    "\n",
    "</table>\n",
    "</p>"
   ]
  },
  {
   "cell_type": "markdown",
   "metadata": {},
   "source": [
    "## 데이터 시각화 도구 소개: `matplotlib` 라이브러리\n",
    "\n",
    "데이터 시각화를 위한 도구 중에서 간단한 막대 그래프, 히스토그램, 선 그래프, 산점도를 쉽게 그릴 수 있는\n",
    "많은 도구들을 포함한 라이브러리이다. \n",
    "이 라이브러리에 포함된 모듈 중에서 여기서는 `pyplot` 모듈에 포함된 가장 기본적인 몇 개의 도구들의 활용법을\n",
    "간단한 예제를 배우고자 한다."
   ]
  },
  {
   "cell_type": "code",
   "execution_count": 4,
   "metadata": {},
   "outputs": [],
   "source": [
    "import matplotlib.pyplot as plt"
   ]
  },
  {
   "cell_type": "code",
   "execution_count": 3,
   "metadata": {
    "collapsed": true
   },
   "outputs": [],
   "source": [
    "%matplotlib inline"
   ]
  },
  {
   "cell_type": "markdown",
   "metadata": {
    "collapsed": true
   },
   "source": [
    "## 선 그래프\n",
    "\n",
    "아래 테이블은 1949년부터 측정된 서울시 인구수를 담은 데이터이다.\n",
    "\n",
    "```\n",
    "년도    인구수(명)\n",
    "-----------------\n",
    "1949    1,437,670\n",
    "1955    1,568,746\n",
    "1960    2,445,402\n",
    "1966    3,793,280\n",
    "1970    5,525,262\n",
    "1975    6,879,464\n",
    "1980    8,350,616\n",
    "1985    9,625,755\n",
    "1990   10,603,250\n",
    "1995   10,217,177\n",
    "2000    9,853,972\n",
    "2005    9,762,546\n",
    "2010    9,631,482\n",
    "-----------------\n",
    "출처: 국가통계포털(kosis.kr)\n",
    "```\n",
    "\n",
    "예를 들어, 연도별 서울시 인구수의 연도별 변화추이를 간단한 선 그래프를 이용하여 확인할 수 있다."
   ]
  },
  {
   "cell_type": "code",
   "execution_count": 26,
   "metadata": {},
   "outputs": [
    {
     "data": {
      "image/png": "[encoded data removed]",
      "text/plain": [
       "<matplotlib.figure.Figure at 0x114f63250>"
      ]
     },
     "metadata": {},
     "output_type": "display_data"
    }
   ],
   "source": [
    "# 년도\n",
    "years = [1949, 1955, 1960, 1966, 1970, \\\n",
    "         1975, 1980, 1985, 1990, 1995, \\\n",
    "         2000, 2005, 2010]\n",
    "\n",
    "# 인구수\n",
    "populaions = [1437670, 1568746, 2445402, 3793280, 5525262, \\\n",
    "             6879464, 8350616, 9625755, 10603250, 10217177, \\\n",
    "             9853972, 9762546, 9631482]\n",
    "\n",
    "# 그래프를 그릴 도화지 준비하기\n",
    "fig = plt.figure()\n",
    "ax = fig.add_subplot(1, 1, 1)\n",
    "\n",
    "# x축에 년도, y축에 인구수가 있는 선 그래프 만들기\n",
    "plt.plot(years, populaions, color='green', marker='o', linestyle='solid')\n",
    "\n",
    "# 제목 더하기\n",
    "plt.title(\"Seoul Population Change\")\n",
    "\n",
    "# y축에 레이블 추가하기\n",
    "plt.ylabel(\"10Million\")\n",
    "plt.show()"
   ]
  },
  {
   "cell_type": "markdown",
   "metadata": {},
   "source": [
    "## 막대 그래프\n",
    "\n",
    "동일한 데이터를 막대 그래프를 이용하여 보여줄 수 있다.\n",
    "그렇게 하면 년도별 미세한 차이를 보다 자세히 나타낼 수 있다."
   ]
  },
  {
   "cell_type": "code",
   "execution_count": 33,
   "metadata": {},
   "outputs": [
    {
     "data": {
      "image/png": "[encoded data removed]",
      "text/plain": [
       "<matplotlib.figure.Figure at 0x1155fe510>"
      ]
     },
     "metadata": {},
     "output_type": "display_data"
    }
   ],
   "source": [
    "# 그래프를 그릴 도화지 준비하기\n",
    "fig = plt.figure()\n",
    "ax = fig.add_subplot(1, 1, 1)\n",
    "\n",
    "# 막대 그래프 그리기\n",
    "plt.bar(years, populaions)\n",
    "\n",
    "# 제목 더하기\n",
    "plt.title(\"Seoul Population Change\")\n",
    "\n",
    "# y축에 레이블 추가하기\n",
    "plt.ylabel(\"10Million\")\n",
    "plt.show()"
   ]
  },
  {
   "cell_type": "markdown",
   "metadata": {},
   "source": [
    "그런데 이렇게 하면 막대 그래프의 두께가 좀 좁아 보인다. 그리고\n",
    "년도가 정확히 5년 단위로 쪼개진 것이 아니기에 막대들 사이의 간격이 불규칙해 보인다.\n",
    "따라서 먼저 막대의 두께를 좀 조절해보자.\n",
    "\n",
    "**힌트:** `plt.bar()` 함수의 세 번째 인자는 막대들의 두께를 지정한다."
   ]
  },
  {
   "cell_type": "code",
   "execution_count": 40,
   "metadata": {},
   "outputs": [
    {
     "data": {
      "image/png": "[encoded data removed]",
      "text/plain": [
       "<matplotlib.figure.Figure at 0x1159b1750>"
      ]
     },
     "metadata": {},
     "output_type": "display_data"
    }
   ],
   "source": [
    "# 그래프를 그릴 도화지 준비하기\n",
    "fig = plt.figure()\n",
    "ax = fig.add_subplot(1, 1, 1)\n",
    "\n",
    "# 막대 그래프 그리기, 막대 두께 조절\n",
    "plt.bar(years, populaions, 2.5)\n",
    "\n",
    "# 제목 더하기\n",
    "plt.title(\"Seoul Population Change\")\n",
    "\n",
    "# y축에 레이블 추가하기\n",
    "plt.ylabel(\"10Million\")\n",
    "plt.show()"
   ]
  },
  {
   "cell_type": "markdown",
   "metadata": {},
   "source": [
    "막대들의 간격이 완전히 규칙적으로 되지는 않았지만 이전 그래프와는 좀 다른 느낌을 준다. \n",
    "이와 같이 막대들의 두께 뿐만아니라, 간격, 색상 모두 조절할 수 있지만, \n",
    "여기서는 그럴 수 있다는 사실만 언급하고 넘어간다."
   ]
  },
  {
   "cell_type": "markdown",
   "metadata": {},
   "source": [
    "### 예제\n",
    "\n",
    "대한민국이 하계 올림픽에서 가장 많은 메일을 획득한 상위 여섯 종목과 메달 숫자는 아래와 같다.\n",
    "\n",
    "<p>\n",
    "<table cellspacing=\"20\">\n",
    "\n",
    "<tr>\n",
    "    <td>Archery(양궁)</td>\n",
    "    <td>39</td>\n",
    "</tr>\n",
    "<tr>\n",
    "    <td>Badminton(배드민턴)</td>\n",
    "    <td>19</td>\n",
    "</tr>\n",
    "<tr>\n",
    "    <td>Boxing(복싱)</td>\n",
    "    <td>20</td>\n",
    "</tr>\n",
    "<tr>\n",
    "    <td>Judo(유도)</td>\n",
    "    <td>43</td>\n",
    "</tr>\n",
    "<tr>\n",
    "    <td>Taekwondo(태권도)</td>\n",
    "    <td>19</td>\n",
    "</tr>\n",
    "<tr>\n",
    "    <td>Wrestling(레슬링)</td>\n",
    "    <td>36</td>\n",
    "</tr>\n",
    "\n",
    "<caption align='bottom'>출처: 위키피디아</caption>\n",
    "</table>\n",
    "</p>"
   ]
  },
  {
   "cell_type": "markdown",
   "metadata": {},
   "source": [
    "이제 위 데이터를 막대 그래프로 시각화할 수 있다.\n",
    "그런데 x축에 종목 이름이 들어가면 오류가 발생한다."
   ]
  },
  {
   "cell_type": "code",
   "execution_count": 5,
   "metadata": {},
   "outputs": [
    {
     "ename": "TypeError",
     "evalue": "unsupported operand type(s) for -: 'str' and 'float'",
     "output_type": "error",
     "traceback": [
      "\u001b[0;31m---------------------------------------------------------------------------\u001b[0m",
      "\u001b[0;31mTypeError\u001b[0m                                 Traceback (most recent call last)",
      "\u001b[0;32m<ipython-input-5-aaacf3da06d8>\u001b[0m in \u001b[0;36m<module>\u001b[0;34m()\u001b[0m\n\u001b[1;32m      2\u001b[0m \u001b[0mmedals\u001b[0m \u001b[0;34m=\u001b[0m \u001b[0;34m[\u001b[0m\u001b[0;36m39\u001b[0m\u001b[0;34m,\u001b[0m \u001b[0;36m19\u001b[0m\u001b[0;34m,\u001b[0m \u001b[0;36m20\u001b[0m\u001b[0;34m,\u001b[0m \u001b[0;36m43\u001b[0m\u001b[0;34m,\u001b[0m \u001b[0;36m19\u001b[0m\u001b[0;34m,\u001b[0m \u001b[0;36m36\u001b[0m\u001b[0;34m]\u001b[0m\u001b[0;34m\u001b[0m\u001b[0m\n\u001b[1;32m      3\u001b[0m \u001b[0;34m\u001b[0m\u001b[0m\n\u001b[0;32m----> 4\u001b[0;31m \u001b[0mplt\u001b[0m\u001b[0;34m.\u001b[0m\u001b[0mbar\u001b[0m\u001b[0;34m(\u001b[0m\u001b[0msports\u001b[0m\u001b[0;34m,\u001b[0m \u001b[0mmedals\u001b[0m\u001b[0;34m)\u001b[0m\u001b[0;34m\u001b[0m\u001b[0m\n\u001b[0m\u001b[1;32m      5\u001b[0m \u001b[0mplt\u001b[0m\u001b[0;34m.\u001b[0m\u001b[0mylabel\u001b[0m\u001b[0;34m(\u001b[0m\u001b[0;34m\"Medals\"\u001b[0m\u001b[0;34m)\u001b[0m\u001b[0;34m\u001b[0m\u001b[0m\n\u001b[1;32m      6\u001b[0m \u001b[0mplt\u001b[0m\u001b[0;34m.\u001b[0m\u001b[0mtitle\u001b[0m\u001b[0;34m(\u001b[0m\u001b[0;34m\"Olympic Medals\"\u001b[0m\u001b[0;34m)\u001b[0m\u001b[0;34m\u001b[0m\u001b[0m\n",
      "\u001b[0;32m/Users/gslee/anaconda/lib/python2.7/site-packages/matplotlib/pyplot.pyc\u001b[0m in \u001b[0;36mbar\u001b[0;34m(left, height, width, bottom, hold, data, **kwargs)\u001b[0m\n\u001b[1;32m   2702\u001b[0m     \u001b[0;32mtry\u001b[0m\u001b[0;34m:\u001b[0m\u001b[0;34m\u001b[0m\u001b[0m\n\u001b[1;32m   2703\u001b[0m         ret = ax.bar(left, height, width=width, bottom=bottom, data=data,\n\u001b[0;32m-> 2704\u001b[0;31m                      **kwargs)\n\u001b[0m\u001b[1;32m   2705\u001b[0m     \u001b[0;32mfinally\u001b[0m\u001b[0;34m:\u001b[0m\u001b[0;34m\u001b[0m\u001b[0m\n\u001b[1;32m   2706\u001b[0m         \u001b[0max\u001b[0m\u001b[0;34m.\u001b[0m\u001b[0m_hold\u001b[0m \u001b[0;34m=\u001b[0m \u001b[0mwashold\u001b[0m\u001b[0;34m\u001b[0m\u001b[0m\n",
      "\u001b[0;32m/Users/gslee/anaconda/lib/python2.7/site-packages/matplotlib/__init__.pyc\u001b[0m in \u001b[0;36minner\u001b[0;34m(ax, *args, **kwargs)\u001b[0m\n\u001b[1;32m   1896\u001b[0m                     warnings.warn(msg % (label_namer, func.__name__),\n\u001b[1;32m   1897\u001b[0m                                   RuntimeWarning, stacklevel=2)\n\u001b[0;32m-> 1898\u001b[0;31m             \u001b[0;32mreturn\u001b[0m \u001b[0mfunc\u001b[0m\u001b[0;34m(\u001b[0m\u001b[0max\u001b[0m\u001b[0;34m,\u001b[0m \u001b[0;34m*\u001b[0m\u001b[0margs\u001b[0m\u001b[0;34m,\u001b[0m \u001b[0;34m**\u001b[0m\u001b[0mkwargs\u001b[0m\u001b[0;34m)\u001b[0m\u001b[0;34m\u001b[0m\u001b[0m\n\u001b[0m\u001b[1;32m   1899\u001b[0m         \u001b[0mpre_doc\u001b[0m \u001b[0;34m=\u001b[0m \u001b[0minner\u001b[0m\u001b[0;34m.\u001b[0m\u001b[0m__doc__\u001b[0m\u001b[0;34m\u001b[0m\u001b[0m\n\u001b[1;32m   1900\u001b[0m         \u001b[0;32mif\u001b[0m \u001b[0mpre_doc\u001b[0m \u001b[0;32mis\u001b[0m \u001b[0mNone\u001b[0m\u001b[0;34m:\u001b[0m\u001b[0;34m\u001b[0m\u001b[0m\n",
      "\u001b[0;32m/Users/gslee/anaconda/lib/python2.7/site-packages/matplotlib/axes/_axes.pyc\u001b[0m in \u001b[0;36mbar\u001b[0;34m(self, left, height, width, bottom, **kwargs)\u001b[0m\n\u001b[1;32m   2103\u001b[0m         \u001b[0;32mif\u001b[0m \u001b[0malign\u001b[0m \u001b[0;34m==\u001b[0m \u001b[0;34m'center'\u001b[0m\u001b[0;34m:\u001b[0m\u001b[0;34m\u001b[0m\u001b[0m\n\u001b[1;32m   2104\u001b[0m             \u001b[0;32mif\u001b[0m \u001b[0morientation\u001b[0m \u001b[0;34m==\u001b[0m \u001b[0;34m'vertical'\u001b[0m\u001b[0;34m:\u001b[0m\u001b[0;34m\u001b[0m\u001b[0m\n\u001b[0;32m-> 2105\u001b[0;31m                 \u001b[0mleft\u001b[0m \u001b[0;34m=\u001b[0m \u001b[0;34m[\u001b[0m\u001b[0mleft\u001b[0m\u001b[0;34m[\u001b[0m\u001b[0mi\u001b[0m\u001b[0;34m]\u001b[0m \u001b[0;34m-\u001b[0m \u001b[0mwidth\u001b[0m\u001b[0;34m[\u001b[0m\u001b[0mi\u001b[0m\u001b[0;34m]\u001b[0m \u001b[0;34m/\u001b[0m \u001b[0;36m2.\u001b[0m \u001b[0;32mfor\u001b[0m \u001b[0mi\u001b[0m \u001b[0;32min\u001b[0m \u001b[0mxrange\u001b[0m\u001b[0;34m(\u001b[0m\u001b[0mlen\u001b[0m\u001b[0;34m(\u001b[0m\u001b[0mleft\u001b[0m\u001b[0;34m)\u001b[0m\u001b[0;34m)\u001b[0m\u001b[0;34m]\u001b[0m\u001b[0;34m\u001b[0m\u001b[0m\n\u001b[0m\u001b[1;32m   2106\u001b[0m             \u001b[0;32melif\u001b[0m \u001b[0morientation\u001b[0m \u001b[0;34m==\u001b[0m \u001b[0;34m'horizontal'\u001b[0m\u001b[0;34m:\u001b[0m\u001b[0;34m\u001b[0m\u001b[0m\n\u001b[1;32m   2107\u001b[0m                 bottom = [bottom[i] - height[i] / 2.\n",
      "\u001b[0;31mTypeError\u001b[0m: unsupported operand type(s) for -: 'str' and 'float'"
     ]
    },
    {
     "data": {
      "image/png": "[encoded data removed]",
      "text/plain": [
       "<matplotlib.figure.Figure at 0x112177110>"
      ]
     },
     "metadata": {},
     "output_type": "display_data"
    }
   ],
   "source": [
    "sports = ['Archery', 'Badminton', 'Boxing', 'Jugdo', 'Taekwondo', 'Wrestling']\n",
    "medals = [39, 19, 20, 43, 19, 36]\n",
    "\n",
    "plt.bar(sports, medals)\n",
    "plt.ylabel(\"Medals\")\n",
    "plt.title(\"Olympic Medals\")\n",
    "plt.show()"
   ]
  },
  {
   "cell_type": "markdown",
   "metadata": {},
   "source": [
    "x축에 종목 이름 대신에 숫자를 넣으면 되기는 하지만 정확한 정보를 전달하지 못한다."
   ]
  },
  {
   "cell_type": "code",
   "execution_count": 6,
   "metadata": {},
   "outputs": [
    {
     "data": {
      "image/png": "[encoded data removed]",
      "text/plain": [
       "<matplotlib.figure.Figure at 0x1146ff390>"
      ]
     },
     "metadata": {},
     "output_type": "display_data"
    }
   ],
   "source": [
    "sports = ['Archery', 'Badminton', 'Boxing', 'Jugdo', 'Taekwondo', 'Wrestling']\n",
    "medals = [39, 19, 20, 43, 19, 36]\n",
    "\n",
    "plt.bar(range(6), medals)\n",
    "plt.ylabel(\"Medals\")\n",
    "plt.title(\"Olympic Medals\")\n",
    "plt.show()"
   ]
  },
  {
   "cell_type": "markdown",
   "metadata": {},
   "source": [
    "따라서 x축에 6개의 막대가 필요하고 각각의 막대에 레이블 형식으로 종목 이름을 지정해야 한다."
   ]
  },
  {
   "cell_type": "code",
   "execution_count": 7,
   "metadata": {},
   "outputs": [
    {
     "data": {
      "image/png": "[encoded data removed]",
      "text/plain": [
       "<matplotlib.figure.Figure at 0x114980450>"
      ]
     },
     "metadata": {},
     "output_type": "display_data"
    }
   ],
   "source": [
    "sports = ['Archery', 'Badminton', 'Boxing', 'Jugdo', 'Taekwondo', 'Wrestling']\n",
    "medals = [39, 19, 20, 43, 19, 36]\n",
    "\n",
    "xs = range(6)\n",
    "plt.bar(xs, medals)\n",
    "\n",
    "plt.xticks(xs, sports)\n",
    "\n",
    "plt.ylabel(\"Medals\")\n",
    "plt.title(\"Olympic Medals\")\n",
    "plt.show()"
   ]
  },
  {
   "cell_type": "markdown",
   "metadata": {},
   "source": [
    "여전히 그래프가 좀 어색하다. 막대들이 좀 두껍다. 이럴 때는 x축에 사용되는 점들의 간격을 좀 벌리는 게 좋다."
   ]
  },
  {
   "cell_type": "code",
   "execution_count": 8,
   "metadata": {},
   "outputs": [
    {
     "data": {
      "image/png": "[encoded data removed]",
      "text/plain": [
       "<matplotlib.figure.Figure at 0x114ae2e50>"
      ]
     },
     "metadata": {},
     "output_type": "display_data"
    }
   ],
   "source": [
    "sports = ['Archery', 'Badminton', 'Boxing', 'Jugdo', 'Taekwondo', 'Wrestling']\n",
    "medals = [39, 19, 20, 43, 19, 36]\n",
    "\n",
    "xs = range(0, 12, 2)\n",
    "plt.bar(xs, medals)\n",
    "\n",
    "plt.xticks(xs, sports)\n",
    "\n",
    "plt.ylabel(\"Medals\")\n",
    "plt.title(\"Olympic Medals\")\n",
    "plt.show()"
   ]
  },
  {
   "cell_type": "markdown",
   "metadata": {},
   "source": [
    "이번엑 막대 두께가 좁아 보인다. 그래서 좀 넓히는 게 좋다."
   ]
  },
  {
   "cell_type": "code",
   "execution_count": 9,
   "metadata": {},
   "outputs": [
    {
     "data": {
      "image/png": "[encoded data removed]",
      "text/plain": [
       "<matplotlib.figure.Figure at 0x11470aa50>"
      ]
     },
     "metadata": {},
     "output_type": "display_data"
    }
   ],
   "source": [
    "sports = ['Archery', 'Badminton', 'Boxing', 'Jugdo', 'Taekwondo', 'Wrestling']\n",
    "medals = [39, 19, 20, 43, 19, 36]\n",
    "\n",
    "xs = range(0, 12, 2)\n",
    "plt.bar(xs, medals, 1.2)\n",
    "\n",
    "plt.xticks(xs, sports)\n",
    "\n",
    "plt.ylabel(\"Medals\")\n",
    "plt.title(\"Olympic Medals\")\n",
    "plt.show()"
   ]
  },
  {
   "cell_type": "markdown",
   "metadata": {},
   "source": [
    "지금까지 살펴보았듯이 적합한 시각화는 경우에 따라 상당히 많은 노력을 요구하기도 한다.\n",
    "여기서는 `matplotlib.pyplot` 라이브러리에 다양한 설정 옵션이 있다는 정도만 기억하면 좋겠다."
   ]
  },
  {
   "cell_type": "markdown",
   "metadata": {},
   "source": [
    "## 히스토그램"
   ]
  },
  {
   "cell_type": "code",
   "execution_count": 19,
   "metadata": {},
   "outputs": [
    {
     "data": {
      "text/plain": [
       "(array([ 0.0074598,  0.0223794,  0.0422722,  0.1044372,  0.2088744,\n",
       "         0.2660662,  0.3804498,  0.3903962,  0.3555838,  0.3008786,\n",
       "         0.2063878,  0.1094104,  0.0547052,  0.024866 ,  0.012433 ]),\n",
       " array([-3.07626781, -2.67411226, -2.27195671, -1.86980116, -1.46764561,\n",
       "        -1.06549006, -0.66333451, -0.26117896,  0.14097659,  0.54313214,\n",
       "         0.94528769,  1.34744324,  1.74959879,  2.15175434,  2.55390989,\n",
       "         2.95606544]),\n",
       " <a list of 15 Patch objects>)"
      ]
     },
     "execution_count": 19,
     "metadata": {},
     "output_type": "execute_result"
    },
    {
     "data": {
      "image/png": "[encoded data removed]",
      "text/plain": [
       "<matplotlib.figure.Figure at 0x1148c4390>"
      ]
     },
     "metadata": {},
     "output_type": "display_data"
    }
   ],
   "source": [
    "import matplotlib.pyplot as plt\n",
    "import numpy as np\n",
    "\n",
    "gaussian_numbers = np.random.randn(1000)\n",
    "plt.hist(gaussian_numbers, 15, normed=0.5)\n",
    "# plt.title(\"Gaussian Histogram\")\n",
    "# plt.xlabel(\"Value\")\n",
    "# plt.ylabel(\"Frequency\")"
   ]
  },
  {
   "cell_type": "markdown",
   "metadata": {},
   "source": [
    "## 산점도"
   ]
  },
  {
   "cell_type": "markdown",
   "metadata": {},
   "source": [
    "## 오늘의 주요 예제 해결"
   ]
  },
  {
   "cell_type": "code",
   "execution_count": 85,
   "metadata": {},
   "outputs": [
    {
     "data": {
      "image/png": "[encoded data removed]",
      "text/plain": [
       "<matplotlib.figure.Figure at 0x115baba90>"
      ]
     },
     "metadata": {},
     "output_type": "display_data"
    }
   ],
   "source": [
    "\"\"\"\n",
    "Bar chart demo with pairs of bars grouped for easy comparison.\n",
    "\"\"\"\n",
    "# import numpy as np\n",
    "import matplotlib.pyplot as plt\n",
    "\n",
    "\n",
    "n_groups = 5\n",
    "\n",
    "means_men = (20, 35, 30, 35, 27)\n",
    "std_men = (2, 3, 4, 1, 2)\n",
    "\n",
    "means_women = (25, 32, 34, 20, 25)\n",
    "std_women = (3, 5, 2, 3, 3)\n",
    "\n",
    "#fig, ax = plt.subplots()\n",
    "\n",
    "index = np.arange(n_groups)\n",
    "bar_width = 0.35\n",
    "\n",
    "# opacity = 0.4\n",
    "# error_config = {'ecolor': '0.3'}\n",
    "\n",
    "rects1 = plt.bar(index, means_men, bar_width,\n",
    "#                 alpha=opacity,\n",
    "                 color='b',\n",
    "#                 yerr=std_men,\n",
    "#                 error_kw=error_config,\n",
    "                 label='Men')\n",
    "\n",
    "rects2 = plt.bar(index + bar_width, means_women, bar_width,\n",
    "#                 alpha=opacity,\n",
    "                 color='r',\n",
    "#                 yerr=std_women,\n",
    "#                 error_kw=error_config,\n",
    "                 label='Women')\n",
    "\n",
    "plt.xlabel('Group')\n",
    "plt.ylabel('Scores')\n",
    "plt.title('Scores by group and gender')\n",
    "plt.xticks(index + bar_width / 2, ('A', 'B', 'C', 'D', 'E'))\n",
    "plt.legend()\n",
    "\n",
    "plt.tight_layout()\n",
    "plt.show()"
   ]
  },
  {
   "cell_type": "code",
   "execution_count": null,
   "metadata": {
    "collapsed": true
   },
   "outputs": [],
   "source": []
  },
  {
   "cell_type": "code",
   "execution_count": null,
   "metadata": {
    "collapsed": true
   },
   "outputs": [],
   "source": []
  },
  {
   "cell_type": "code",
   "execution_count": 12,
   "metadata": {
    "collapsed": true
   },
   "outputs": [],
   "source": [
    "about_python = 'Python is a general-purpose programming language. \\\n",
    "                It is becoming more and more popular \\\n",
    "                for doing data science. \\\n",
    "                Companies worldwide are using Python to get \\\n",
    "                information from their data. \\\n",
    "                Python provides powerful ways to store and manipulate data \\\n",
    "                as well as cool tools to start your own data analyses.'"
   ]
  },
  {
   "cell_type": "code",
   "execution_count": 31,
   "metadata": {
    "collapsed": true
   },
   "outputs": [],
   "source": [
    "words = about_python.split()\n",
    "words_length = [(x.strip('.'), len(x.strip('.'))) for x in words]\n",
    "\n",
    "WL_dict = {}\n",
    "for item in words_length:\n",
    "    if item[1] in WL_dict.keys():\n",
    "        WL_dict[item[1]] = WL_dict[item[1]] + 1\n",
    "    else:\n",
    "        WL_dict[item[1]] = 1\n",
    "        \n",
    "xs = WL_dict.keys()\n",
    "ys = WL_dict.values()"
   ]
  },
  {
   "cell_type": "code",
   "execution_count": 32,
   "metadata": {},
   "outputs": [
    {
     "data": {
      "text/plain": [
       "{1: 1, 2: 8, 3: 6, 4: 11, 5: 6, 6: 3, 7: 2, 8: 5, 9: 2, 10: 1, 11: 2, 15: 1}"
      ]
     },
     "execution_count": 32,
     "metadata": {},
     "output_type": "execute_result"
    }
   ],
   "source": [
    "WL_dict"
   ]
  },
  {
   "cell_type": "code",
   "execution_count": 30,
   "metadata": {},
   "outputs": [
    {
     "data": {
      "image/png": "[encoded data removed]",
      "text/plain": [
       "<matplotlib.figure.Figure at 0x117c211d0>"
      ]
     },
     "metadata": {},
     "output_type": "display_data"
    }
   ],
   "source": [
    "fig = plt.figure()\n",
    "ax = fig.add_subplot(1, 1, 1)\n",
    "\n",
    "plt.bar(xs, ys)\n",
    "plt.axis([0, 16, 0, 12])\n",
    "plt.xticks([i for i in range(16)])\n",
    "plt.yticks([i for i in range(13)])\n",
    "plt.show()"
   ]
  }
 ],
 "metadata": {
  "kernelspec": {
   "display_name": "Python 2",
   "language": "python",
   "name": "python2"
  },
  "language_info": {
   "codemirror_mode": {
    "name": "ipython",
    "version": 2
   },
   "file_extension": ".py",
   "mimetype": "text/x-python",
   "name": "python",
   "nbconvert_exporter": "python",
   "pygments_lexer": "ipython2",
   "version": "2.7.13"
  }
 },
 "nbformat": 4,
 "nbformat_minor": 2
}
