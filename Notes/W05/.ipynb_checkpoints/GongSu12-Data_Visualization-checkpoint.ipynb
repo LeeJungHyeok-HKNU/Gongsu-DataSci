{
 "cells": [
  {
   "cell_type": "markdown",
   "metadata": {},
   "source": [
    "# 데이터 시각화"
   ]
  },
  {
   "cell_type": "code",
   "execution_count": 1,
   "metadata": {
    "collapsed": true
   },
   "outputs": [],
   "source": [
    "from __future__ import division, print_function"
   ]
  },
  {
   "cell_type": "code",
   "execution_count": 21,
   "metadata": {
    "collapsed": true
   },
   "outputs": [],
   "source": [
    "import matplotlib.pyplot as plt"
   ]
  },
  {
   "cell_type": "code",
   "execution_count": 22,
   "metadata": {
    "collapsed": true
   },
   "outputs": [],
   "source": [
    "%matplotlib inline"
   ]
  },
  {
   "cell_type": "markdown",
   "metadata": {},
   "source": [
    "## 주요 내용\n",
    "\n",
    "데이터 분석을 위해 가장 기본적으로 할 수 있고, 해야 하는 일이 데이터 시각화이다. \n",
    "데이터를 시각화하는 것은 어렵지 않지만, 적합한 시각화를 만드는 일은 매우 어려우며,\n",
    "많은 훈련과 직관이 요구된다.\n",
    "\n",
    "여기서는 데이터를 탐색하여 얻어진 데이터를 시각화하는 기본적인 방법 네 가지를 배운다.\n",
    "\n",
    "* 막대 그래프\n",
    "* 히스토그램\n",
    "* 선 그래프\n",
    "* 산점도"
   ]
  },
  {
   "cell_type": "markdown",
   "metadata": {},
   "source": [
    "## 오늘이 주요 예제\n",
    "\n",
    "아래 문장은 데이터 과학에서 파이썬의 역할을 강조하는 설명을 담은 문장이다. \n",
    "\n",
    "```\n",
    "about_python = 'Python is a general-purpose programming language. \\\n",
    "                It is becoming more and more popular \\\n",
    "                for doing data science. \\\n",
    "                Companies worldwide are using Python to get \\\n",
    "                information from their data.'\n",
    "```                \n",
    "\n",
    "위 문장에 사용된 단어들의 길이를 분석하여 길이별로 몇 개의 단어가 사용되었는가를 분석하면 아래의 결과가 나온다. \n",
    "```\n",
    "길이   단어개수\n",
    "------------\n",
    "1     1\n",
    "2     8\n",
    "3     6\n",
    "4     11\n",
    "5     6\n",
    "6     3\n",
    "7     2\n",
    "8     5\n",
    "9     2\n",
    "10    1\n",
    "11    2\n",
    "15    1\n",
    "```\n",
    "\n",
    "위 데이터를 아래와 같이 막대 그래프로 시각화하면 색다른 정보를 쉽게 전달할 수 있다.\n",
    "여기서는 어떻게 아래와 같은 막대 그래프를 그릴 수 있는지를 배운다."
   ]
  },
  {
   "cell_type": "markdown",
   "metadata": {},
   "source": [
    "<p>\n",
    "<table cellspacing=\"20\">\n",
    "\n",
    "<tr>\n",
    "<td>\n",
    "<img src=\"../../images/pyplot/pyplot_bar_chart.png\", width=360>\n",
    "</td>\n",
    "</tr>\n",
    "\n",
    "</table>\n",
    "</p>"
   ]
  },
  {
   "cell_type": "markdown",
   "metadata": {},
   "source": [
    "## 데이터 시각화 도구 소개: `matplotlib` 라이브러리\n",
    "\n",
    "데이터 시각화를 위한 도구 중에서 간단한 막대 그래프, 히스토그램, 선 그래프, 산점도를 쉽게 그릴 수 있는\n",
    "많은 도구들을 포함한 라이브러리이다. \n",
    "이 라이브러리에 포함된 모듈 중에서 여기서는 `pyplot` 모듈에 포함된 가장 기본적인 몇 개의 도구들의 활용법을\n",
    "간단한 예제를 배우고자 한다."
   ]
  },
  {
   "cell_type": "code",
   "execution_count": null,
   "metadata": {
    "collapsed": true
   },
   "outputs": [],
   "source": []
  },
  {
   "cell_type": "code",
   "execution_count": null,
   "metadata": {
    "collapsed": true
   },
   "outputs": [],
   "source": []
  },
  {
   "cell_type": "code",
   "execution_count": null,
   "metadata": {
    "collapsed": true
   },
   "outputs": [],
   "source": []
  },
  {
   "cell_type": "code",
   "execution_count": 12,
   "metadata": {
    "collapsed": true
   },
   "outputs": [],
   "source": [
    "about_python = 'Python is a general-purpose programming language. \\\n",
    "                It is becoming more and more popular \\\n",
    "                for doing data science. \\\n",
    "                Companies worldwide are using Python to get \\\n",
    "                information from their data. \\\n",
    "                Python provides powerful ways to store and manipulate data \\\n",
    "                as well as cool tools to start your own data analyses.'"
   ]
  },
  {
   "cell_type": "code",
   "execution_count": 31,
   "metadata": {},
   "outputs": [],
   "source": [
    "words = about_python.split()\n",
    "words_length = [(x.strip('.'), len(x.strip('.'))) for x in words]\n",
    "\n",
    "WL_dict = {}\n",
    "for item in words_length:\n",
    "    if item[1] in WL_dict.keys():\n",
    "        WL_dict[item[1]] = WL_dict[item[1]] + 1\n",
    "    else:\n",
    "        WL_dict[item[1]] = 1\n",
    "        \n",
    "xs = WL_dict.keys()\n",
    "ys = WL_dict.values()"
   ]
  },
  {
   "cell_type": "code",
   "execution_count": 32,
   "metadata": {},
   "outputs": [
    {
     "data": {
      "text/plain": [
       "{1: 1, 2: 8, 3: 6, 4: 11, 5: 6, 6: 3, 7: 2, 8: 5, 9: 2, 10: 1, 11: 2, 15: 1}"
      ]
     },
     "execution_count": 32,
     "metadata": {},
     "output_type": "execute_result"
    }
   ],
   "source": [
    "WL_dict"
   ]
  },
  {
   "cell_type": "code",
   "execution_count": 30,
   "metadata": {},
   "outputs": [
    {
     "data": {
      "image/png": "[encoded data removed]",
      "text/plain": [
       "<matplotlib.figure.Figure at 0x117c211d0>"
      ]
     },
     "metadata": {},
     "output_type": "display_data"
    }
   ],
   "source": [
    "fig = plt.figure()\n",
    "ax = fig.add_subplot(1, 1, 1)\n",
    "\n",
    "plt.bar(xs, ys)\n",
    "plt.axis([0, 16, 0, 12])\n",
    "plt.xticks([i for i in range(16)])\n",
    "plt.yticks([i for i in range(13)])\n",
    "plt.show()"
   ]
  }
 ],
 "metadata": {
  "kernelspec": {
   "display_name": "Python 2",
   "language": "python",
   "name": "python2"
  },
  "language_info": {
   "codemirror_mode": {
    "name": "ipython",
    "version": 2
   },
   "file_extension": ".py",
   "mimetype": "text/x-python",
   "name": "python",
   "nbconvert_exporter": "python",
   "pygments_lexer": "ipython2",
   "version": "2.7.13"
  }
 },
 "nbformat": 4,
 "nbformat_minor": 2
}
