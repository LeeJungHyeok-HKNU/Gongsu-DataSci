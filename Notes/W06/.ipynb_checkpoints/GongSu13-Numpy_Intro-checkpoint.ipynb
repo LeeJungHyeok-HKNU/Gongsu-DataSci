{
 "cells": [
  {
   "cell_type": "code",
   "execution_count": 1,
   "metadata": {
    "collapsed": true
   },
   "outputs": [],
   "source": [
    "from __future__ import division, print_function"
   ]
  },
  {
   "cell_type": "markdown",
   "metadata": {},
   "source": [
    "# 넘파이(Numpy) 소개"
   ]
  },
  {
   "cell_type": "markdown",
   "metadata": {},
   "source": [
    "파이썬에서 여러 개의 숫자를 동시에 다룰 수 있는 자료형은 크게 두 종류로 나뉘어진다.\n",
    "\n",
    "* 튜플(`tuple`), 리스트(`list`), 사전(`dictrionary`) 등 숫자들을 담을 수 있는 컬렉션 자료형\n",
    "\n",
    "그런데 튜플, 리스트, 사전은 다음과 같은 단점을 갖고 있다.\n",
    "\n",
    "* 튜플: 수정이 안되어 유연성이 떨어짐.\n",
    "* 리스트: 길이가 몇 만, 몇 십만, 몇 백만 처럼 매우 길어지면 데이터를 조작하는 데에 많은 시간이 소요됨.\n",
    "* 사전: 데이터 조작 속도는 매우 빠르나 키와 키값을 항상 사용해야 하는 문법상 제약이 따름\n",
    "    또한 행렬 등 다차원 데이터는 처리하기 힘들다.\n",
    "\n",
    "넘파이(numpy) 모듈은 언급한 단점들을 극복하기 위해 만들어진 라이브러리이며, 다음의 특징을 갖고 있다.\n",
    "\n",
    "* 다차원 어레이 지원\n",
    "* 빠른 처리 속도\n",
    "* 과학용 수치 계산에 활용 용이"
   ]
  },
  {
   "cell_type": "markdown",
   "metadata": {},
   "source": [
    "## 주요 내용\n",
    "\n",
    "숫자 데이터(numerical data)를 생성하고 조작하는 데에 매우 효율적으로 사용되는 라이브러리이다.\n",
    "넘파이(Numpy)는 파이썬 표준라이브러리를 확장하는 모듈이며, 추가로 설치해야 하지만, \n",
    "아나콘다 팩키지에 기본적으로 포함되어 있다.\n",
    "\n",
    "이번 장에서는 넘파이 모듈의 기본 사용법을 소개한다."
   ]
  },
  {
   "cell_type": "markdown",
   "metadata": {},
   "source": [
    "## 넘파이 기본 사용법"
   ]
  },
  {
   "cell_type": "markdown",
   "metadata": {},
   "source": [
    "### numpy 모듈 임포트 하기\n",
    "\n",
    "넘파이 모듈을 사용하려면 먼저 numpy 모듈을 추가 설치해야 한다.\n",
    "하지만 Anaconda 등을 사용하면 이미 설치되어 있고 넘파이 모듈을 임포트하기만 하면 된다.\n",
    "numpy 모듈의 약칭으로 np를 관례적으로 사용한다."
   ]
  },
  {
   "cell_type": "code",
   "execution_count": 2,
   "metadata": {
    "collapsed": true
   },
   "outputs": [],
   "source": [
    "import numpy as np"
   ]
  },
  {
   "cell_type": "markdown",
   "metadata": {},
   "source": [
    "### 넘파이 어레이(Array)  소개"
   ]
  },
  {
   "cell_type": "markdown",
   "metadata": {},
   "source": [
    "넘파이 모듈에서 가장 주요한 요소는 어레이(array)이다.\n",
    "어레이의 사용법은 리스트의 경우와 기본적으로 비슷하다. "
   ]
  },
  {
   "cell_type": "markdown",
   "metadata": {},
   "source": [
    "#### 어레이 예제\n",
    "\n",
    "예를 들어, `0, 1, 2, 3`으로 구성된 어레이를 생성하고자 하면 `array` 함수를 \n",
    "사용하면 된다. "
   ]
  },
  {
   "cell_type": "code",
   "execution_count": 4,
   "metadata": {
    "collapsed": true
   },
   "outputs": [],
   "source": [
    "a = np.array([0, 1, 2, 3])"
   ]
  },
  {
   "cell_type": "markdown",
   "metadata": {},
   "source": [
    "어레이의 모양과 활용은 리스트와 비슷하다. "
   ]
  },
  {
   "cell_type": "code",
   "execution_count": 7,
   "metadata": {},
   "outputs": [
    {
     "name": "stdout",
     "output_type": "stream",
     "text": [
      "[0 1 2 3]\n"
     ]
    }
   ],
   "source": [
    "print(a)"
   ]
  },
  {
   "cell_type": "markdown",
   "metadata": {},
   "source": [
    "하지만 자료형은 넘파이 모듈에서 정의된 어레이인 `ndarray` 이다."
   ]
  },
  {
   "cell_type": "code",
   "execution_count": 8,
   "metadata": {},
   "outputs": [
    {
     "name": "stdout",
     "output_type": "stream",
     "text": [
      "<type 'numpy.ndarray'>\n"
     ]
    }
   ],
   "source": [
    "print(type(a))"
   ]
  },
  {
   "cell_type": "markdown",
   "metadata": {},
   "source": [
    "#### 어레이로 형변환 하기"
   ]
  },
  {
   "cell_type": "markdown",
   "metadata": {},
   "source": [
    "`array` 함수는 리스트와 더불어 튜플도 입력받는다.\n",
    "리스트와 튜플 어느 것을 써도 리턴값은 언제나 어레이이다.\n",
    "\n",
    "예를 들어, 위 정의를 튜플을 이용하여 정의할 수 있다."
   ]
  },
  {
   "cell_type": "code",
   "execution_count": 9,
   "metadata": {
    "collapsed": true
   },
   "outputs": [],
   "source": [
    "b = np.array((0, 1, 2, 3))"
   ]
  },
  {
   "cell_type": "markdown",
   "metadata": {},
   "source": [
    "`a`와 `b`가 동일한 항목으로 구성된 리스트임을 아래와 같이 확인할 수 있다."
   ]
  },
  {
   "cell_type": "code",
   "execution_count": 15,
   "metadata": {},
   "outputs": [
    {
     "data": {
      "text/plain": [
       "array([ True,  True,  True,  True], dtype=bool)"
      ]
     },
     "execution_count": 15,
     "metadata": {},
     "output_type": "execute_result"
    }
   ],
   "source": [
    "c = (a == b)\n",
    "c"
   ]
  },
  {
   "cell_type": "markdown",
   "metadata": {},
   "source": [
    "** 주의사항 1: 어레이 객체들 사이의 비교는 각 항목별로 실행된다.**\n",
    "\n",
    "`a == b`의 실행결과는 새로운 어레이이며 각 항목별로 비교한 결과인 불(bool) 값을\n",
    "갖게 된다.\n",
    "\n",
    "`c`의 실행결과를 보면 `dtype`이라는 키워드 인자가 추가되어 있다. \n",
    "`dtype` 키워드는 생성된 어레이 객체의 각 항목의 자료형을 갖고 있다. "
   ]
  },
  {
   "cell_type": "markdown",
   "metadata": {},
   "source": [
    "** 주의사항 2: 어레이 객체의 각 항목들은 모두 동일한 자료형이어야 한다.**\n",
    "\n",
    "리스트, 튜플과는 달리 어레이의 각 항목은 동일한 자료형들로 구성되어 있다."
   ]
  },
  {
   "cell_type": "markdown",
   "metadata": {},
   "source": [
    "#### 어레이의 자료형 예제\n",
    "\n",
    "변수 `a`에 할당된 어레이에는 `int`형 숫자들이 들어있는데, \n",
    "어레이의 자료형을 확인하는 방법은 다음과 같이 `dtype`이라는 속성을 이용한다. "
   ]
  },
  {
   "cell_type": "code",
   "execution_count": 12,
   "metadata": {},
   "outputs": [
    {
     "data": {
      "text/plain": [
       "dtype('int64')"
      ]
     },
     "execution_count": 12,
     "metadata": {},
     "output_type": "execute_result"
    }
   ],
   "source": [
    "a.dtype"
   ]
  },
  {
   "cell_type": "markdown",
   "metadata": {},
   "source": [
    "**주의:** `int64` 처럼 `int` 다음에 숫자가 붙는 경우가 있다. 몇 비트 숫자들인지를 보여주는 정보이다.\n",
    "즉, 여기서는 64비트 정수라는 의미이다."
   ]
  },
  {
   "cell_type": "markdown",
   "metadata": {},
   "source": [
    "변수 `b`에도 int형 숫자들로 구성된 어레이가 할당되어 있다."
   ]
  },
  {
   "cell_type": "code",
   "execution_count": 13,
   "metadata": {},
   "outputs": [
    {
     "data": {
      "text/plain": [
       "dtype('int64')"
      ]
     },
     "execution_count": 13,
     "metadata": {},
     "output_type": "execute_result"
    }
   ],
   "source": [
    "b.dtype"
   ]
  },
  {
   "cell_type": "markdown",
   "metadata": {},
   "source": [
    "반면에 변수 `c`는 불값(bool)으로 구성되어 있다."
   ]
  },
  {
   "cell_type": "code",
   "execution_count": 16,
   "metadata": {},
   "outputs": [
    {
     "data": {
      "text/plain": [
       "dtype('bool')"
      ]
     },
     "execution_count": 16,
     "metadata": {},
     "output_type": "execute_result"
    }
   ],
   "source": [
    "c.dtype"
   ]
  },
  {
   "cell_type": "markdown",
   "metadata": {},
   "source": [
    "`a` 또는 `b`와는 달리 `c`의 경우 `dtype`이 명시되는 이유는 \n",
    "`True, False`가 참, 거짓의 의미 외에 `1, 0`의 의미 또한 가질 수 있기 때문이다.\n",
    "\n",
    "다음의 경우 `dtype` 키워드 인자값으로 `int`를 입력하면 자료형이 달리지는 것을\n",
    "확인할 수 있다."
   ]
  },
  {
   "cell_type": "code",
   "execution_count": 19,
   "metadata": {},
   "outputs": [
    {
     "data": {
      "text/plain": [
       "array([1, 1, 1, 1])"
      ]
     },
     "execution_count": 19,
     "metadata": {},
     "output_type": "execute_result"
    }
   ],
   "source": [
    "d = np.array([ True,  True,  True,  True], dtype=int)\n",
    "d"
   ]
  },
  {
   "cell_type": "markdown",
   "metadata": {},
   "source": [
    "#### 어레이의 속성들"
   ]
  },
  {
   "cell_type": "markdown",
   "metadata": {},
   "source": [
    "`array` 자료형은 `dtype` 이외에 `ndim`, `shapre`등 다양한 속성을 포함한다.\n",
    "각 속성들의 의미와 활용은 필요할 때마다 추가로 설명될 것이다."
   ]
  },
  {
   "cell_type": "markdown",
   "metadata": {},
   "source": [
    "### 넘파이 어레이의 장점: 빠른 처리 속도\n",
    "\n",
    "어레이는 리스트보다 빠르게 데이터를 처리한다. \n",
    "아래의 예제는 5천만 개의 홀수들로 이루어진 리스트와 어레이를 조작하는 속도를 비교한 것이다.\n",
    "어레이를 이용하는 경우가 10~20배 이상 빠름을 확인할 수 있다."
   ]
  },
  {
   "cell_type": "code",
   "execution_count": 20,
   "metadata": {},
   "outputs": [
    {
     "name": "stdout",
     "output_type": "stream",
     "text": [
      "4.402711\n"
     ]
    }
   ],
   "source": [
    "import time\n",
    "\n",
    "start_time = time.clock()\n",
    "a_list = range(0, 100000000, 2)\n",
    "a_list_square = [i**2 for i in a_list]\n",
    "end_time = time.clock()\n",
    "\n",
    "list_time = end_time - start_time\n",
    "print(list_time)"
   ]
  },
  {
   "cell_type": "markdown",
   "metadata": {},
   "source": [
    "넘파이의 `arange` 함수는 `range`와 동일한 기능을 수행한다.\n",
    "다만 리스트가 아닌 어레이를 리턴한다."
   ]
  },
  {
   "cell_type": "code",
   "execution_count": 21,
   "metadata": {},
   "outputs": [
    {
     "name": "stdout",
     "output_type": "stream",
     "text": [
      "0.280468\n"
     ]
    }
   ],
   "source": [
    "import time\n",
    "\n",
    "start_time = time.clock()\n",
    "an_array = np.arange(0, 100000000, 2)\n",
    "an_array**2\n",
    "end_time = time.clock()\n",
    "\n",
    "array_time = end_time - start_time\n",
    "print(array_time)"
   ]
  },
  {
   "cell_type": "markdown",
   "metadata": {},
   "source": [
    "**주의:** 앞서 두 개의 리스트를 비교할 때 처럼 어레이 관련 연산은 기본적으로 각 항목별로 실행된다. \n",
    "따라사 `a ** 2`는 각 항목을 제곱하라는 의미이다."
   ]
  },
  {
   "cell_type": "markdown",
   "metadata": {},
   "source": [
    "## 어레이 생성하기"
   ]
  },
  {
   "cell_type": "markdown",
   "metadata": {},
   "source": [
    "### 수동 생성"
   ]
  },
  {
   "cell_type": "markdown",
   "metadata": {},
   "source": [
    "#### 수동으로 1차원 어레이 생성하기"
   ]
  },
  {
   "cell_type": "code",
   "execution_count": 22,
   "metadata": {},
   "outputs": [
    {
     "data": {
      "text/plain": [
       "array([0, 1, 2, 3])"
      ]
     },
     "execution_count": 22,
     "metadata": {},
     "output_type": "execute_result"
    }
   ],
   "source": [
    "a_1dim = np.array([0, 1, 2, 3])\n",
    "a_1dim"
   ]
  },
  {
   "cell_type": "markdown",
   "metadata": {},
   "source": [
    "#### 생성된 어레이의 차원 확인\n",
    "\n",
    "`a`에는 1차원 어레이가 할당되었다. \n",
    "차원 정보는 `ndim`이라는 속성에 담겨져 있다. "
   ]
  },
  {
   "cell_type": "code",
   "execution_count": 23,
   "metadata": {},
   "outputs": [
    {
     "data": {
      "text/plain": [
       "1"
      ]
     },
     "execution_count": 23,
     "metadata": {},
     "output_type": "execute_result"
    }
   ],
   "source": [
    "a_1dim.ndim"
   ]
  },
  {
   "cell_type": "markdown",
   "metadata": {},
   "source": [
    "#### 생성된 어레이의 모양(shape) 확인\n",
    "\n",
    "생성된 어레의 **모양(shape)**은 `shape`라는 속성을 이용하여 확인한다."
   ]
  },
  {
   "cell_type": "code",
   "execution_count": 24,
   "metadata": {},
   "outputs": [
    {
     "data": {
      "text/plain": [
       "(4,)"
      ]
     },
     "execution_count": 24,
     "metadata": {},
     "output_type": "execute_result"
    }
   ],
   "source": [
    "a_1dim.shape"
   ]
  },
  {
   "cell_type": "markdown",
   "metadata": {},
   "source": [
    "즉, 변수 `a_1dim`에 할당된 어레이인 `array([0, 1, 2, 3])`는\n",
    "\n",
    "* 1차원 어레이이며,\n",
    "* 길이가 4이다. \n",
    "    경우에 따라, 숫자 4에 추가로 알파벳 L이 붙을 수 있다. \n",
    "    이는 long int를 의미하며, 사용하는 컴퓨터마다 다른 형식을 사용할 수 있다.\n",
    "\n",
    "위 어레이를 1차원 리스트와 동일한 모양이다.\n",
    "```\n",
    "[0, 1, 2, 3]\n",
    "```\n",
    "\n",
    "즉, 길이가 `d`인 1차원 어레이는 길이가 `d`인 리스트에 대응한다."
   ]
  },
  {
   "cell_type": "markdown",
   "metadata": {},
   "source": [
    "#### 수동으로 2차원 어레이 생성하기\n",
    "\n",
    "예를들어, 아래와 같은 `3 x 2` 행렬을 2차원 어레이로 구현할 수 있다.\n",
    "\n",
    "$$\\left [ \\begin{matrix} 0 & 1 \\\\ 2 & 3\n",
    "\\\\ 4 & 5\\end{matrix} \\right ]$$"
   ]
  },
  {
   "cell_type": "code",
   "execution_count": 35,
   "metadata": {},
   "outputs": [
    {
     "data": {
      "text/plain": [
       "array([[0, 1],\n",
       "       [2, 3],\n",
       "       [4, 5]])"
      ]
     },
     "execution_count": 35,
     "metadata": {},
     "output_type": "execute_result"
    }
   ],
   "source": [
    "a_2dim = np.array([[0, 1], [2, 3], [4, 5]])\n",
    "a_2dim"
   ]
  },
  {
   "cell_type": "markdown",
   "metadata": {},
   "source": [
    "즉, 앞서 언급된 행렬의 첫째 행이 위 어레이의 첫 번째 리스트로, \n",
    "그리고 둘째 행이 어레이의 두 번째 리스트에 해당한다.\n",
    "\n",
    "어레이의 차원은 `ndim` 인스턴스변수를 이용하여 확인한다."
   ]
  },
  {
   "cell_type": "code",
   "execution_count": 36,
   "metadata": {},
   "outputs": [
    {
     "data": {
      "text/plain": [
       "2"
      ]
     },
     "execution_count": 36,
     "metadata": {},
     "output_type": "execute_result"
    }
   ],
   "source": [
    "a_2dim.ndim"
   ]
  },
  {
   "cell_type": "markdown",
   "metadata": {},
   "source": [
    "변수 `a_2dim`에 할당된 어레이의 모양(shape)은 `3 x 2` 행령에 해당하는 `(3, 2)`이다."
   ]
  },
  {
   "cell_type": "code",
   "execution_count": 27,
   "metadata": {},
   "outputs": [
    {
     "data": {
      "text/plain": [
       "(3, 2)"
      ]
     },
     "execution_count": 27,
     "metadata": {},
     "output_type": "execute_result"
    }
   ],
   "source": [
    "a_2dim.shape"
   ]
  },
  {
   "cell_type": "markdown",
   "metadata": {},
   "source": [
    "** 주의:** `len` 함수는 마치 리스트의 길이를 리턴해 주는 것처럼 어레이 인자를 받으면, 첫 번째 차원의 길이를 리턴한다. \n",
    "```\n",
    "len(a_2dim) = len([[0, 1], [2, 3], [4, 5]]) = 3\n",
    "```"
   ]
  },
  {
   "cell_type": "code",
   "execution_count": 28,
   "metadata": {},
   "outputs": [
    {
     "data": {
      "text/plain": [
       "3"
      ]
     },
     "execution_count": 28,
     "metadata": {},
     "output_type": "execute_result"
    }
   ],
   "source": [
    "len(a_2dim)"
   ]
  },
  {
   "cell_type": "markdown",
   "metadata": {},
   "source": [
    "** 주의:** 넘파이 모듈에는 어레이의 모양 정보를 리턴하는 `shape()` 라는 함수가 따로 존재한다.\n",
    "즉, 이 함수는 어레이의 `shape` 속성 정보를 리턴한다. "
   ]
  },
  {
   "cell_type": "code",
   "execution_count": 29,
   "metadata": {},
   "outputs": [
    {
     "data": {
      "text/plain": [
       "(3, 2)"
      ]
     },
     "execution_count": 29,
     "metadata": {},
     "output_type": "execute_result"
    }
   ],
   "source": [
    "np.shape(a_2dim)"
   ]
  },
  {
   "cell_type": "markdown",
   "metadata": {},
   "source": [
    "#### 예제\n",
    "\n",
    "`len()` 함수와 `np.shape()` 함수, 그리고 `ndim` 인스턴스변수들 사이에 어떤 관계가 \n",
    "있는지 설명하라."
   ]
  },
  {
   "cell_type": "markdown",
   "metadata": {},
   "source": [
    "견본답안:"
   ]
  },
  {
   "cell_type": "markdown",
   "metadata": {},
   "source": [
    "`np.shape()` 함수의 리턴값의 첫 번째 인자가 `len()` 함수의 리턴값과 동일하다."
   ]
  },
  {
   "cell_type": "code",
   "execution_count": 39,
   "metadata": {},
   "outputs": [
    {
     "data": {
      "text/plain": [
       "True"
      ]
     },
     "execution_count": 39,
     "metadata": {},
     "output_type": "execute_result"
    }
   ],
   "source": [
    "np.shape(a_2dim)[0] == len(a_2dim)"
   ]
  },
  {
   "cell_type": "markdown",
   "metadata": {},
   "source": [
    "반면에 `ndim` 속성 값은 `np.shape()` 함수의 리턴값인 튜플의 길이와 동일하다."
   ]
  },
  {
   "cell_type": "code",
   "execution_count": 38,
   "metadata": {},
   "outputs": [
    {
     "data": {
      "text/plain": [
       "True"
      ]
     },
     "execution_count": 38,
     "metadata": {},
     "output_type": "execute_result"
    }
   ],
   "source": [
    "len(np.shape(a_2dim)) == a_2dim.ndim"
   ]
  },
  {
   "cell_type": "markdown",
   "metadata": {},
   "source": [
    "#### 예제\n",
    "\n",
    "아래에 묘사된 행렬을 2차원 어레이로 구현하라.\n",
    "\n",
    "$$\\left [ \\begin{matrix} 5 & 3 & 1 \\\\ 2 & 4 & 6 \\end{matrix} \\right ]$$"
   ]
  },
  {
   "cell_type": "markdown",
   "metadata": {},
   "source": [
    "아래와 같이 수동으로 구현할 수 있다."
   ]
  },
  {
   "cell_type": "code",
   "execution_count": 31,
   "metadata": {},
   "outputs": [
    {
     "data": {
      "text/plain": [
       "array([[5, 3, 1],\n",
       "       [2, 4, 6]])"
      ]
     },
     "execution_count": 31,
     "metadata": {},
     "output_type": "execute_result"
    }
   ],
   "source": [
    "a_2dim_exp = np.array([[5, 3, 1], [2, 4, 6]])\n",
    "a_2dim_exp"
   ]
  },
  {
   "cell_type": "markdown",
   "metadata": {},
   "source": [
    "### 자동 생성"
   ]
  },
  {
   "cell_type": "markdown",
   "metadata": {},
   "source": [
    "수동으로 어레이를 생성하는 방법은 실전에서는 거의 사용하지 못한다.\n",
    "이유는 실전에서 다루는 데이터는 매우 크기 때문이다.\n",
    "따라서 보다 간단하게 원하는 어레이를 생성하는 다양한 방법을 살펴 보자."
   ]
  },
  {
   "cell_type": "markdown",
   "metadata": {},
   "source": [
    "#### `arange()` 함수 활용\n",
    "\n",
    "넘파이의 `arange()` 함수는 `range()` 함수와 기본적으로 동일하게 작동한다.\n",
    "다만 어레이를 활용할 뿐이며, 앞서 살펴 보았듯이 보다 빠르게 데이터를 처리한다."
   ]
  },
  {
   "cell_type": "code",
   "execution_count": 40,
   "metadata": {},
   "outputs": [
    {
     "data": {
      "text/plain": [
       "array([0, 1, 2, 3, 4, 5, 6, 7, 8, 9])"
      ]
     },
     "execution_count": 40,
     "metadata": {},
     "output_type": "execute_result"
    }
   ],
   "source": [
    "a = np.arange(10)   # range(10)과 동일\n",
    "a"
   ]
  },
  {
   "cell_type": "code",
   "execution_count": 41,
   "metadata": {},
   "outputs": [
    {
     "data": {
      "text/plain": [
       "array([1, 3, 5, 7])"
      ]
     },
     "execution_count": 41,
     "metadata": {},
     "output_type": "execute_result"
    }
   ],
   "source": [
    "b = np.arange(1, 9, 2)   # range(1, 9, 2)와 동일\n",
    "b"
   ]
  },
  {
   "cell_type": "markdown",
   "metadata": {},
   "source": [
    "#### `linspace()` 함수 활용\n",
    "\n",
    "특정 구간을 일정한 크기로 쪼개어 어레이를 생성할 수 있다.\n",
    "예를 들어, 0과 1 구간을 6개의 점으로 균등하게 쪼개어 어레이를 만들려면 아래와 같이 실행하면 된다."
   ]
  },
  {
   "cell_type": "code",
   "execution_count": 42,
   "metadata": {},
   "outputs": [
    {
     "data": {
      "text/plain": [
       "array([ 0. ,  0.2,  0.4,  0.6,  0.8,  1. ])"
      ]
     },
     "execution_count": 42,
     "metadata": {},
     "output_type": "execute_result"
    }
   ],
   "source": [
    "c = np.linspace(0, 1, 6)   # 구간의 시작, 구간의 끝, 점의 개수\n",
    "c"
   ]
  },
  {
   "cell_type": "markdown",
   "metadata": {},
   "source": [
    "반면에 구간의 오른쪽 끝을 제외하고 6개의 점으로 균등하게 쪼개어 어레이를 만들려면\n",
    "    아래와 같이 실행하면 된다."
   ]
  },
  {
   "cell_type": "code",
   "execution_count": 27,
   "metadata": {},
   "outputs": [
    {
     "data": {
      "text/plain": [
       "array([ 0.        ,  0.16666667,  0.33333333,  0.5       ,  0.66666667,\n",
       "        0.83333333])"
      ]
     },
     "execution_count": 27,
     "metadata": {},
     "output_type": "execute_result"
    }
   ],
   "source": [
    "d = np.linspace(0, 1, 6, endpoint=False)\n",
    "d"
   ]
  },
  {
   "cell_type": "markdown",
   "metadata": {},
   "source": [
    "**주의:** 위 결과는 아래 결과에서 마지막 구간을 생략한 결과와 동일하다."
   ]
  },
  {
   "cell_type": "code",
   "execution_count": 44,
   "metadata": {},
   "outputs": [
    {
     "data": {
      "text/plain": [
       "array([ 0.        ,  0.16666667,  0.33333333,  0.5       ,  0.66666667,\n",
       "        0.83333333,  1.        ])"
      ]
     },
     "execution_count": 44,
     "metadata": {},
     "output_type": "execute_result"
    }
   ],
   "source": [
    "c = np.linspace(0, 1, 7)\n",
    "c"
   ]
  },
  {
   "cell_type": "markdown",
   "metadata": {},
   "source": [
    "#### 1로 채워진 어레이 생성\n",
    "\n",
    "`ones()` 함수는 원하는 모양의 어레이를 생성한다. 다만, 모든 항목은 1로 채워진다.\n",
    "예를 들어, 1로 채워진 `3 x 4` 모양의 2차원 행렬에 대응하는 어레이는 아래와 같이 생성한다. \n",
    "\n",
    "**주의:** 인자는 원하는 모양(shape)의 튜플을 사용한다."
   ]
  },
  {
   "cell_type": "code",
   "execution_count": 51,
   "metadata": {},
   "outputs": [
    {
     "data": {
      "text/plain": [
       "array([[ 1.,  1.,  1.,  1.],\n",
       "       [ 1.,  1.,  1.,  1.],\n",
       "       [ 1.,  1.,  1.,  1.]])"
      ]
     },
     "execution_count": 51,
     "metadata": {},
     "output_type": "execute_result"
    }
   ],
   "source": [
    "e = np.ones((3, 4))\n",
    "e"
   ]
  },
  {
   "cell_type": "markdown",
   "metadata": {},
   "source": [
    "#### 0으로 채워진 어레이 생성\n",
    "\n",
    "`zeros()` 함수는 원하는 모양의 어레이를 생성한다. 다만, 모든 항목은 0으로 채워진다.\n",
    "예를 들어, 1로 채워진 `2 x 3` 모양의 2차원 행렬에 대응하는 어레이는 아래와 같이 생성한다. \n",
    "\n",
    "**주의:** 인자는 원하는 모양(shape)의 튜플을 사용한다."
   ]
  },
  {
   "cell_type": "code",
   "execution_count": 50,
   "metadata": {},
   "outputs": [
    {
     "data": {
      "text/plain": [
       "array([[ 0.,  0.,  0.],\n",
       "       [ 0.,  0.,  0.]])"
      ]
     },
     "execution_count": 50,
     "metadata": {},
     "output_type": "execute_result"
    }
   ],
   "source": [
    "e = np.zeros((2, 3))\n",
    "e"
   ]
  },
  {
   "cell_type": "markdown",
   "metadata": {},
   "source": [
    "#### 단위행렬 생성\n",
    "\n",
    "선형대수에서 중요한 역할을 수행하는 단위행렬(unit matrix)은 대각선은 1로 채우고 나머지는 모두 0으로 채워진다. \n",
    "`eye()` 함수를 이용하여 원하는 모양의 단위행렬에 해당하는 어레이를 생성할 수 있다.\n",
    "\n",
    "**주의:** 인자는 원하는 모양(shape)의 어레이의 길이(len)를 사용한다."
   ]
  },
  {
   "cell_type": "code",
   "execution_count": 53,
   "metadata": {},
   "outputs": [
    {
     "data": {
      "text/plain": [
       "array([[ 1.,  0.,  0.,  0.],\n",
       "       [ 0.,  1.,  0.,  0.],\n",
       "       [ 0.,  0.,  1.,  0.],\n",
       "       [ 0.,  0.,  0.,  1.]])"
      ]
     },
     "execution_count": 53,
     "metadata": {},
     "output_type": "execute_result"
    }
   ],
   "source": [
    "e = np.eye(4)\n",
    "e"
   ]
  },
  {
   "cell_type": "markdown",
   "metadata": {},
   "source": [
    "* 리수트가 주어졌을 경우 리스트의 항목들을 대각선 값으로 갖는 어레이를 구현해 보자."
   ]
  },
  {
   "cell_type": "code",
   "execution_count": 31,
   "metadata": {},
   "outputs": [
    {
     "data": {
      "text/plain": [
       "array([[1, 0, 0, 0],\n",
       "       [0, 2, 0, 0],\n",
       "       [0, 0, 3, 0],\n",
       "       [0, 0, 0, 4]])"
      ]
     },
     "execution_count": 31,
     "metadata": {},
     "output_type": "execute_result"
    }
   ],
   "source": [
    "e1 = np.diag((1, 2, 3, 4)) # 인자: 튜플, 리스트 또는 1차원 어레이\n",
    "e1"
   ]
  },
  {
   "cell_type": "code",
   "execution_count": 32,
   "metadata": {},
   "outputs": [
    {
     "data": {
      "text/plain": [
       "array([[1, 0, 0, 0],\n",
       "       [0, 2, 0, 0],\n",
       "       [0, 0, 3, 0],\n",
       "       [0, 0, 0, 4]])"
      ]
     },
     "execution_count": 32,
     "metadata": {},
     "output_type": "execute_result"
    }
   ],
   "source": [
    "e2 = np.diag([1, 2, 3, 4]) # 인자: 튜플, 리스트 또는 1차원 어레이\n",
    "e2"
   ]
  },
  {
   "cell_type": "code",
   "execution_count": 33,
   "metadata": {},
   "outputs": [
    {
     "data": {
      "text/plain": [
       "array([[1, 0, 0, 0],\n",
       "       [0, 2, 0, 0],\n",
       "       [0, 0, 3, 0],\n",
       "       [0, 0, 0, 4]])"
      ]
     },
     "execution_count": 33,
     "metadata": {},
     "output_type": "execute_result"
    }
   ],
   "source": [
    "e3 = np.diag(np.arange(1,5)) # 인자: 튜플, 리스트 또는 1차원 어레이\n",
    "e3"
   ]
  },
  {
   "cell_type": "code",
   "execution_count": 34,
   "metadata": {},
   "outputs": [
    {
     "data": {
      "text/plain": [
       "array([[ True,  True,  True,  True],\n",
       "       [ True,  True,  True,  True],\n",
       "       [ True,  True,  True,  True],\n",
       "       [ True,  True,  True,  True]], dtype=bool)"
      ]
     },
     "execution_count": 34,
     "metadata": {},
     "output_type": "execute_result"
    }
   ],
   "source": [
    "e1 == e2"
   ]
  },
  {
   "cell_type": "code",
   "execution_count": 35,
   "metadata": {},
   "outputs": [
    {
     "data": {
      "text/plain": [
       "array([[ True,  True,  True,  True],\n",
       "       [ True,  True,  True,  True],\n",
       "       [ True,  True,  True,  True],\n",
       "       [ True,  True,  True,  True]], dtype=bool)"
      ]
     },
     "execution_count": 35,
     "metadata": {},
     "output_type": "execute_result"
    }
   ],
   "source": [
    "e2 == e3"
   ]
  },
  {
   "cell_type": "markdown",
   "metadata": {},
   "source": [
    "* 난수(random number)들로 이루어진 어레이를 구할 수 있다. \n",
    "    `numpy.random` 모듈에 있는 `rand`, `randn` 함수를 활용할 수 있다.\n",
    "\n",
    "    - `numpy.random.rand` 함수: 0과 1사이에서 난수를 구한다. 방식은 균등분포를 \n",
    "        사용한다.\n",
    "    - `numpy.random.randn` 함수: 가우시안(Gaussian) 정규분포 방식을 사용하여\n",
    "        난수를 구한다. \n",
    "        \n",
    "  각 함수의 인자는 원하는 모양(shape)에 해당하는 튜플이다. \n",
    "  단, `numpy.ones` 또는 `numpy.zeros` 함수들과는 달리 괄호를 사용하지 않는다. "
   ]
  },
  {
   "cell_type": "code",
   "execution_count": 36,
   "metadata": {},
   "outputs": [
    {
     "data": {
      "text/plain": [
       "array([ 0.87944938,  0.99688606,  0.26486627,  0.34792906])"
      ]
     },
     "execution_count": 36,
     "metadata": {},
     "output_type": "execute_result"
    }
   ],
   "source": [
    "f = np.random.rand(4) \n",
    "f"
   ]
  },
  {
   "cell_type": "code",
   "execution_count": 37,
   "metadata": {},
   "outputs": [
    {
     "data": {
      "text/plain": [
       "array([[ 0.47651474,  0.37403808,  0.62014532],\n",
       "       [ 0.05074769,  0.04194931,  0.57250503]])"
      ]
     },
     "execution_count": 37,
     "metadata": {},
     "output_type": "execute_result"
    }
   ],
   "source": [
    "f1 = np.random.rand(2, 3)\n",
    "f1"
   ]
  },
  {
   "cell_type": "code",
   "execution_count": 38,
   "metadata": {},
   "outputs": [
    {
     "data": {
      "text/plain": [
       "array([-0.10619318,  0.55775992, -0.95435902,  0.70275379])"
      ]
     },
     "execution_count": 38,
     "metadata": {},
     "output_type": "execute_result"
    }
   ],
   "source": [
    "g = np.random.randn(4) \n",
    "g"
   ]
  },
  {
   "cell_type": "code",
   "execution_count": 39,
   "metadata": {},
   "outputs": [
    {
     "data": {
      "text/plain": [
       "array([[ 1.01103717,  0.13653793]])"
      ]
     },
     "execution_count": 39,
     "metadata": {},
     "output_type": "execute_result"
    }
   ],
   "source": [
    "g1 = np.random.randn(1, 2)\n",
    "g1"
   ]
  },
  {
   "cell_type": "markdown",
   "metadata": {},
   "source": [
    "* _**주의**_ \n",
    "    \n",
    "    난수 관련 함수들이 생성하는 난수는 사실 정말로 무작위로 \n",
    "    생성되지는 않는다.\n",
    "    각 프로그래밍 언어마다 난수를 만드는 방식이 정해져 있고,\n",
    "    정해진 방식에 맞추어 이미 난수표를 갖고 있다.\n",
    "    즉, `rand` 함수가 호출되는 순서에 따라 사실 동일한 숫자를 \n",
    "    생성하지만 사람 눈에는 무작위 숫자들로 보이는 것 뿐이다.\n",
    "\n",
    "    이런 현상을 해결하기 위해 시드(seed) 값을 사용하여 \n",
    "    생성되는 난수의 순서를 보다 무작위적으로 보여지게 할 수 \n",
    "    있다. 예를 들어 시드값을 0을로 하면 매번 동일한 난수들이 \n",
    "    생성되는 것을 아래와 같이 확인할 수 있다."
   ]
  },
  {
   "cell_type": "code",
   "execution_count": 40,
   "metadata": {},
   "outputs": [
    {
     "data": {
      "text/plain": [
       "array([ 0.5488135 ,  0.71518937,  0.60276338,  0.54488318])"
      ]
     },
     "execution_count": 40,
     "metadata": {},
     "output_type": "execute_result"
    }
   ],
   "source": [
    "np.random.seed(0) ; np.random.rand(4)"
   ]
  },
  {
   "cell_type": "code",
   "execution_count": 41,
   "metadata": {},
   "outputs": [
    {
     "data": {
      "text/plain": [
       "array([ 0.5488135 ,  0.71518937,  0.60276338,  0.54488318])"
      ]
     },
     "execution_count": 41,
     "metadata": {},
     "output_type": "execute_result"
    }
   ],
   "source": [
    "np.random.seed(0) ; np.random.rand(4)"
   ]
  },
  {
   "cell_type": "markdown",
   "metadata": {},
   "source": [
    "시드값을 변경하면 생성되는 난수들을 정말로 무작위처럼 보이게 할 수 있다."
   ]
  },
  {
   "cell_type": "code",
   "execution_count": 42,
   "metadata": {},
   "outputs": [
    {
     "data": {
      "text/plain": [
       "array([ 0.19151945,  0.62210877,  0.43772774,  0.78535858])"
      ]
     },
     "execution_count": 42,
     "metadata": {},
     "output_type": "execute_result"
    }
   ],
   "source": [
    "np.random.seed(1234) ; np.random.rand(4)"
   ]
  },
  {
   "cell_type": "code",
   "execution_count": 43,
   "metadata": {},
   "outputs": [
    {
     "data": {
      "text/plain": [
       "array([ 0.57051729,  0.56452876,  0.48844183,  0.33647775])"
      ]
     },
     "execution_count": 43,
     "metadata": {},
     "output_type": "execute_result"
    }
   ],
   "source": [
    "np.random.seed(2000) ; np.random.rand(4)"
   ]
  },
  {
   "cell_type": "markdown",
   "metadata": {},
   "source": [
    "### 연습문제\n",
    "\n",
    "`np.empty` 함수의 정의 및 활용법을 살펴 본 후 어떻게 활용하면 좋을지를 설명하라."
   ]
  },
  {
   "cell_type": "markdown",
   "metadata": {},
   "source": [
    "## 어레이에서 사용되는 기본 자료형\n",
    "\n",
    "어레이 객체에서 사용되는 항목들의 자료형을 알아보고자 한다. \n",
    "`dtype` 인스턴스변수에 저장되는 자료형값들이다.\n",
    "\n",
    "앞선 예제에서 `2., 3.` 등등 정수에 점이 사용되는 경우를 본 적이 있는데,\n",
    "이는 어레이의 자료형이 int가 아닌 float임을 보여주려 하기 때문이다."
   ]
  },
  {
   "cell_type": "code",
   "execution_count": 44,
   "metadata": {},
   "outputs": [
    {
     "data": {
      "text/plain": [
       "dtype('int64')"
      ]
     },
     "execution_count": 44,
     "metadata": {},
     "output_type": "execute_result"
    }
   ],
   "source": [
    "a = np.array([1, 2, 3])\n",
    "a.dtype"
   ]
  },
  {
   "cell_type": "markdown",
   "metadata": {},
   "source": [
    "위 어레이의 `dtype`을 `float`로 바꾸고자 한다면 dtype 키워드 인자를 사용해야 한다."
   ]
  },
  {
   "cell_type": "code",
   "execution_count": 45,
   "metadata": {},
   "outputs": [
    {
     "data": {
      "text/plain": [
       "dtype('float64')"
      ]
     },
     "execution_count": 45,
     "metadata": {},
     "output_type": "execute_result"
    }
   ],
   "source": [
    "b = np.array([1, 2, 3], dtype=float)\n",
    "b.dtype"
   ]
  },
  {
   "cell_type": "markdown",
   "metadata": {},
   "source": [
    "새로 생성된 어레이의 모양도 다르다."
   ]
  },
  {
   "cell_type": "code",
   "execution_count": 46,
   "metadata": {},
   "outputs": [
    {
     "data": {
      "text/plain": [
       "array([ 1.,  2.,  3.])"
      ]
     },
     "execution_count": 46,
     "metadata": {},
     "output_type": "execute_result"
    }
   ],
   "source": [
    "b"
   ]
  },
  {
   "cell_type": "markdown",
   "metadata": {},
   "source": [
    "물론 애초부터 float 자료형으로 선언할 수 있다."
   ]
  },
  {
   "cell_type": "code",
   "execution_count": 47,
   "metadata": {},
   "outputs": [
    {
     "data": {
      "text/plain": [
       "dtype('float64')"
      ]
     },
     "execution_count": 47,
     "metadata": {},
     "output_type": "execute_result"
    }
   ],
   "source": [
    "a = np.array([1., 2, 3.])\n",
    "a.dtype"
   ]
  },
  {
   "cell_type": "markdown",
   "metadata": {},
   "source": [
    "어레이가 기본적으로 사용하는 자료형은 `float`이다."
   ]
  },
  {
   "cell_type": "code",
   "execution_count": 48,
   "metadata": {},
   "outputs": [
    {
     "data": {
      "text/plain": [
       "dtype('float64')"
      ]
     },
     "execution_count": 48,
     "metadata": {},
     "output_type": "execute_result"
    }
   ],
   "source": [
    "a = np.ones((3,3))\n",
    "a.dtype"
   ]
  },
  {
   "cell_type": "markdown",
   "metadata": {},
   "source": [
    "`np.ones` 함수의 기본 정의를 확인하면 보다 정확히 알 수 있다."
   ]
  },
  {
   "cell_type": "code",
   "execution_count": 49,
   "metadata": {
    "collapsed": true
   },
   "outputs": [],
   "source": [
    "np.ones?"
   ]
  },
  {
   "cell_type": "markdown",
   "metadata": {},
   "source": [
    "`int`와 `float` 이외에도 다음의 자료형들이 어레이에서 지원된다.\n",
    "\n",
    "* complex: 복소수 자료형\n",
    "\n",
    "        In [58]: d = np.array([1+2j, 3+4j, 5+6j]).dtype\n",
    "        Out[58]: dtype('complex128')\n",
    "        \n",
    "* bool: 불리언 자료형\n",
    "\n",
    "        In [59]: e = np.array([True, False, False, True]).dtype\n",
    "        Out[59]: dtype(’bool’)\n",
    "        \n",
    "* S: 문자열 자료형\n",
    "\n",
    "        In [60]: f = np.array([’Bonjour’, ’Hello’]).dtype\n",
    "        Out[60]: dtype(’S7’)\n",
    "\n",
    "등등.\n",
    "\n",
    "_**주의:**_\n",
    "\n",
    "`int32, int64, float64, S8, S12` 자료형 이름 뒤에 숫자가 사용되기도 한다.\n",
    "이는 어레이에서 사용되는 각각의 항목의 값들이 가질 수 있는 최대 크기를 의미한다. \n",
    "즉, 사용된 정수들이 32비트로 모두 담을 수 있는지, 또는 사용된 문자열들의 길이가 최대 8바이트 또는 12바이트 인지를 나타낸다. \n",
    "\n",
    "예를 들어 아래 문자열로 이루어진 어레이에서 가장 긴 문자열이 4바이트이기 때문에, \n",
    "dtype이 `'S4'`이다."
   ]
  },
  {
   "cell_type": "code",
   "execution_count": 50,
   "metadata": {},
   "outputs": [
    {
     "data": {
      "text/plain": [
       "dtype('S4')"
      ]
     },
     "execution_count": 50,
     "metadata": {},
     "output_type": "execute_result"
    }
   ],
   "source": [
    "np.array(['ab', 'abc', 'abcd']).dtype"
   ]
  }
 ],
 "metadata": {
  "kernelspec": {
   "display_name": "Python 2",
   "language": "python",
   "name": "python2"
  },
  "language_info": {
   "codemirror_mode": {
    "name": "ipython",
    "version": 2
   },
   "file_extension": ".py",
   "mimetype": "text/x-python",
   "name": "python",
   "nbconvert_exporter": "python",
   "pygments_lexer": "ipython2",
   "version": "2.7.13"
  }
 },
 "nbformat": 4,
 "nbformat_minor": 1
}
