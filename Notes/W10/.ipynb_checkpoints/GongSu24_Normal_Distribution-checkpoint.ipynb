{
 "cells": [
  {
   "cell_type": "code",
   "execution_count": 1,
   "metadata": {
    "collapsed": true
   },
   "outputs": [],
   "source": [
    "from __future__ import print_function, division"
   ]
  },
  {
   "cell_type": "code",
   "execution_count": 2,
   "metadata": {
    "collapsed": true
   },
   "outputs": [],
   "source": [
    "from GongSu21_Statistics_Averages import *"
   ]
  },
  {
   "cell_type": "markdown",
   "metadata": {},
   "source": [
    "# 주제\n",
    "\n",
    "모집단과 표본 추정하기\n",
    "    * 표본 평균값과 분산\n",
    "    * 공분산\n",
    "    * 상관관계와 인과관계"
   ]
  },
  {
   "cell_type": "markdown",
   "metadata": {},
   "source": [
    "## 오늘의 주요 예제"
   ]
  },
  {
   "cell_type": "markdown",
   "metadata": {},
   "source": [
    "미국의 51개 주에서 판매되는 담배(식물)의 도매가에 대한 데이터를 분석한다. "
   ]
  },
  {
   "cell_type": "markdown",
   "metadata": {},
   "source": [
    "## 주요 모듈\n",
    "\n",
    "* pandas: 통계분석 전용 모듈\n",
    "    * numpy 모듈을 바탕으로 하여 통계분석에 특화된 모듈임.\n",
    "    * 마이크로소프트의 엑셀처럼 작동하는 기능을 지원함\n",
    "* datetime: 날짜와 시간을 적절하게 표시하도록 도와주는 기능을 지원하는 모듈\n",
    "* scipy: 수치계산, 공업수학 등을 지원하는 모듈\n",
    "\n",
    "**주의:** 언급된 모듈은 이미 GongSu21_Statistics_Averages.py 모듈에서 임포트 되었음."
   ]
  },
  {
   "cell_type": "markdown",
   "metadata": {},
   "source": [
    "### 오늘 사용할 데이터\n",
    "\n",
    "* 주별 담배(식물) 도매가격 및 판매일자: Weed_price.csv\n",
    "* 주별 인구분포 및 월소득: Demographics_State.csv\n",
    "* 주별 인구수: Population_State.csv\n",
    "\n",
    "\n",
    "아래 그림은 미국의 주별 담배(식물) 판매 데이터를 담은 Weed_Price.csv 파일를 엑셀로 읽었을 때의 일부를 보여준다.\n",
    "실제 데이터량은 22899개이며, 아래 그림에는 5개의 데이터만을 보여주고 있다.\n",
    "* 주의: 1번줄은 테이블의 열별 목록(column names)을 담고 있다.\n",
    "* 열별 목록: State, HighQ, HighQN, MedQ, MedQN, LowQ, LowQN, date\n",
    "\n",
    "<p>\n",
    "<table cellspacing=\"20\">\n",
    "<tr>\n",
    "<td>\n",
    "<img src=\"img/weed_price.png\", width=600>\n",
    "</td>\n",
    "</tr>\n",
    "</table>\n",
    "</p>"
   ]
  },
  {
   "cell_type": "markdown",
   "metadata": {},
   "source": [
    "### csv 파일 불러오기\n",
    "\n",
    "* pandas 모듈의 read_csv 함수 활용\n",
    "* read_csv 함수의 리턴값은 DataFrame 이라는 특수한 자료형임\n",
    "    * 엑셀의 위 그림 모양의 스프레드시트(spreadsheet)라고 생각하면 됨.\n",
    "\n",
    "언급한 세 개의 csv 파일을 pandas의 read_csv 함수를 이용하여 불러들이자.\n",
    "\n",
    "**주의**: Weed_Price.csv 파일을 불러들일 때, parse_dates라는 키워드 인자가 사용되었다. \n",
    "* parse_dates 키워드 인자: 날짜를 읽어들일 때 다양한 방식을 사용하도록 하는 기능을 갖고 있다.\n",
    "    * 여기서 값을 [-1]로 준 것은 소스 데이터에 있는 날짜 데이터를 변경하지 말고 그대로 불러오라는 의미이다.\n",
    "    * 위 엑셀파일에서 볼 수 있듯이, 마지막 열에 포함된 날짜표시는 굳이 변경을 요하지 않는다."
   ]
  },
  {
   "cell_type": "code",
   "execution_count": 3,
   "metadata": {
    "collapsed": true
   },
   "outputs": [],
   "source": [
    "demography_pd = pd.read_csv(\"data/Demographics_State.csv\")\n",
    "population_pd = pd.read_csv(\"data/Population_State.csv\")"
   ]
  }
 ],
 "metadata": {
  "kernelspec": {
   "display_name": "Python 2",
   "language": "python",
   "name": "python2"
  },
  "language_info": {
   "codemirror_mode": {
    "name": "ipython",
    "version": 2
   },
   "file_extension": ".py",
   "mimetype": "text/x-python",
   "name": "python",
   "nbconvert_exporter": "python",
   "pygments_lexer": "ipython2",
   "version": "2.7.13"
  }
 },
 "nbformat": 4,
 "nbformat_minor": 1
}
