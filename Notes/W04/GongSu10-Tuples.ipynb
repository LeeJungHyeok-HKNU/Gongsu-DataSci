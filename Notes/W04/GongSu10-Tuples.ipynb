{
 "cells": [
  {
   "cell_type": "markdown",
   "metadata": {},
   "source": [
    "# 튜플 활용"
   ]
  },
  {
   "cell_type": "markdown",
   "metadata": {},
   "source": [
    "## 주요 내용"
   ]
  },
  {
   "cell_type": "markdown",
   "metadata": {},
   "source": [
    "파이썬에 내장되어 있는 컬렉션 자료형 중에서 튜플에 대해 알아 본다.\n",
    "    \n",
    "**튜플(tuples)**: 리스트와 비슷. 하지만 수정 불가능(immutable).\n",
    "* 사용 형태: 소괄호 사용\n",
    "```\n",
    "even_numbers_tuple = (2, 4, 6, 8, 10)\n",
    "todays_datatypes_tuple = ('list', 'tuple', 'dictionary')\n",
    "```\n",
    "\n",
    "* 특징: 임의의 자료형 값들을 섞어서 항목으로 사용 가능\n",
    "```\n",
    "mixed_tuple = (1, 'abs', [2.1, 4.5])\n",
    "```\n",
    "\n",
    "* 인덱스 또는 슬라이싱을 이용하여 각각의 항목에 또는 여러 개의 항목에 대한 \n",
    "    정보를 활용할 수 있다. 사용법은 문자열의 경우와 동일.\n",
    "\n",
    "* 튜플은 수정 불가능하다. 즉, 불변 자료형이다. \n",
    "\n",
    "* 튜플 자료형은 불변 자료형이라서 메소드가 별로 없다. \n",
    "    많이 사용되는 두 개이다.\n",
    "    * `count()`: 튜플에 포함된 특정 항목이 몇 번 나타나는지 세어 줌.\n",
    "    * `index()`: 특정 항목의 인덱스가 몇 번인지 확인해 줌."
   ]
  },
  {
   "cell_type": "markdown",
   "metadata": {},
   "source": [
    "## 오늘의 주요 예제\n",
    "\n",
    "`Byun_Sato.txt` 파일에는 변사또 학생의 개인 신상정보가 아래와 같이 들어 있다. \n",
    "\n",
    "```\n",
    "# 학생들의 중요 개인정보이며, 배포 금지함.\n",
    "\n",
    "Name:\tByun Sato\n",
    "Date of Birth:\t95.4.28\n",
    "Email:\tSatoByun@hknu.ac.kr\n",
    "Department: Computer\n",
    "Student ID: 201700251003 \n",
    "```\n",
    "\n",
    "파일의 내용을 읽어서 아래와 같은 형식으로 리턴하는 함수를 구현하고자 한다.\n",
    "\n",
    "\n",
    "```\n",
    "{'Date of Birth': (1995, 4, 28),\n",
    " 'Department': 'Computer',\n",
    " 'Email': 'SatoByun@hknu.ac.kr',\n",
    " 'Name': 'Byun Sato',\n",
    " 'Student ID': '201700251003'}\n",
    "```"
   ]
  },
  {
   "cell_type": "code",
   "execution_count": 93,
   "metadata": {
    "collapsed": true
   },
   "outputs": [],
   "source": [
    "from __future__ import print_function"
   ]
  },
  {
   "cell_type": "markdown",
   "metadata": {},
   "source": [
    "## 튜플의 기본 활용"
   ]
  },
  {
   "cell_type": "markdown",
   "metadata": {},
   "source": [
    "튜플은 순서쌍이라고도 불린다. 리스트와 99% 비슷한 용도를 가짐.\n",
    "\n",
    "즉, 여러 개의 값들을 동시에 처리한다."
   ]
  },
  {
   "cell_type": "code",
   "execution_count": 97,
   "metadata": {},
   "outputs": [
    {
     "name": "stdout",
     "output_type": "stream",
     "text": [
      "(3, 50, 'yellow')\n"
     ]
    }
   ],
   "source": [
    "t = (3, 50, \"yellow\")\n",
    "print(t)"
   ]
  },
  {
   "cell_type": "code",
   "execution_count": 98,
   "metadata": {},
   "outputs": [
    {
     "data": {
      "text/plain": [
       "tuple"
      ]
     },
     "execution_count": 98,
     "metadata": {},
     "output_type": "execute_result"
    }
   ],
   "source": [
    "type(t)"
   ]
  },
  {
   "cell_type": "code",
   "execution_count": 99,
   "metadata": {},
   "outputs": [
    {
     "data": {
      "text/plain": [
       "[3, 50, 'yellow']"
      ]
     },
     "execution_count": 99,
     "metadata": {},
     "output_type": "execute_result"
    }
   ],
   "source": [
    "l = [3, 50, \"yellow\"]\n",
    "l"
   ]
  },
  {
   "cell_type": "code",
   "execution_count": 101,
   "metadata": {},
   "outputs": [
    {
     "data": {
      "text/plain": [
       "list"
      ]
     },
     "execution_count": 101,
     "metadata": {},
     "output_type": "execute_result"
    }
   ],
   "source": [
    "type(l)"
   ]
  },
  {
   "cell_type": "markdown",
   "metadata": {},
   "source": [
    "튜플의 경우 인덱싱과 슬라이싱은 문자열 또는 리스트에서의 활용과 100% 동일"
   ]
  },
  {
   "cell_type": "code",
   "execution_count": 50,
   "metadata": {},
   "outputs": [
    {
     "data": {
      "text/plain": [
       "4"
      ]
     },
     "execution_count": 50,
     "metadata": {},
     "output_type": "execute_result"
    }
   ],
   "source": [
    "t[1]"
   ]
  },
  {
   "cell_type": "code",
   "execution_count": 51,
   "metadata": {},
   "outputs": [
    {
     "data": {
      "text/plain": [
       "50"
      ]
     },
     "execution_count": 51,
     "metadata": {},
     "output_type": "execute_result"
    }
   ],
   "source": [
    "t[-1]"
   ]
  },
  {
   "cell_type": "code",
   "execution_count": 103,
   "metadata": {},
   "outputs": [
    {
     "data": {
      "text/plain": [
       "(3, 50)"
      ]
     },
     "execution_count": 103,
     "metadata": {},
     "output_type": "execute_result"
    }
   ],
   "source": [
    "t[:2]"
   ]
  },
  {
   "cell_type": "code",
   "execution_count": 104,
   "metadata": {},
   "outputs": [
    {
     "data": {
      "text/plain": [
       "(3, 'yellow')"
      ]
     },
     "execution_count": 104,
     "metadata": {},
     "output_type": "execute_result"
    }
   ],
   "source": [
    "t[: : 2]"
   ]
  },
  {
   "cell_type": "markdown",
   "metadata": {},
   "source": [
    "튜플을 사용할 때 소괄호를 생략해도 된다. 하지만 기본적으로 소괄을 사용한다."
   ]
  },
  {
   "cell_type": "code",
   "execution_count": 52,
   "metadata": {},
   "outputs": [
    {
     "data": {
      "text/plain": [
       "tuple"
      ]
     },
     "execution_count": 52,
     "metadata": {},
     "output_type": "execute_result"
    }
   ],
   "source": [
    "a = 10, 20, 30\n",
    "type(a)"
   ]
  },
  {
   "cell_type": "code",
   "execution_count": 53,
   "metadata": {},
   "outputs": [
    {
     "name": "stdout",
     "output_type": "stream",
     "text": [
      "(10, 20, 30)\n"
     ]
    }
   ],
   "source": [
    "print(a)"
   ]
  },
  {
   "cell_type": "markdown",
   "metadata": {},
   "source": [
    "#### 튜플은 불변 자료형이다.\n",
    "\n",
    "리스트와는 달리 인덱싱을 사용하여 튜플 특정 원소의 값을 변경할 수 없다. "
   ]
  },
  {
   "cell_type": "code",
   "execution_count": 55,
   "metadata": {},
   "outputs": [
    {
     "ename": "TypeError",
     "evalue": "'tuple' object does not support item assignment",
     "output_type": "error",
     "traceback": [
      "\u001b[0;31m---------------------------------------------------------------------------\u001b[0m",
      "\u001b[0;31mTypeError\u001b[0m                                 Traceback (most recent call last)",
      "\u001b[0;32m<ipython-input-55-e9323da3946c>\u001b[0m in \u001b[0;36m<module>\u001b[0;34m()\u001b[0m\n\u001b[0;32m----> 1\u001b[0;31m \u001b[0mt\u001b[0m\u001b[0;34m[\u001b[0m\u001b[0;36m1\u001b[0m\u001b[0;34m]\u001b[0m \u001b[0;34m=\u001b[0m \u001b[0;36m5\u001b[0m\u001b[0;34m\u001b[0m\u001b[0m\n\u001b[0m",
      "\u001b[0;31mTypeError\u001b[0m: 'tuple' object does not support item assignment"
     ]
    }
   ],
   "source": [
    "t[1] = 5"
   ]
  },
  {
   "cell_type": "markdown",
   "metadata": {},
   "source": [
    "#### 튜플 자료형 활용 예제 1\n",
    "\n",
    "* 절대로 변경되지 않거나 변경되어서는 안되는 값들을 저장할 때 사용\n",
    "    * 예를 들어, 생년월일, 학과 전공 등등."
   ]
  },
  {
   "cell_type": "code",
   "execution_count": 56,
   "metadata": {
    "collapsed": true
   },
   "outputs": [],
   "source": [
    "So_Ritgun_dob = (1996, 12, 16)"
   ]
  },
  {
   "cell_type": "markdown",
   "metadata": {},
   "source": [
    "#### 튜플 자료형 활용 예제 2\n",
    "\n",
    "* 여러 개의 변수들에 여러 개의 값들을 한 줄에 동시에 할당하기 위해 사용"
   ]
  },
  {
   "cell_type": "code",
   "execution_count": 58,
   "metadata": {
    "collapsed": true
   },
   "outputs": [],
   "source": [
    "a, b = 1, 2"
   ]
  },
  {
   "cell_type": "code",
   "execution_count": 59,
   "metadata": {},
   "outputs": [
    {
     "data": {
      "text/plain": [
       "1"
      ]
     },
     "execution_count": 59,
     "metadata": {},
     "output_type": "execute_result"
    }
   ],
   "source": [
    "a"
   ]
  },
  {
   "cell_type": "markdown",
   "metadata": {},
   "source": [
    "튜플을 이용하면 두 변수에 할당된 값을 스왑(swap)하는 것이 매우 간단하다."
   ]
  },
  {
   "cell_type": "code",
   "execution_count": 60,
   "metadata": {
    "collapsed": true
   },
   "outputs": [],
   "source": [
    "a, b = b, a"
   ]
  },
  {
   "cell_type": "code",
   "execution_count": 61,
   "metadata": {},
   "outputs": [
    {
     "data": {
      "text/plain": [
       "2"
      ]
     },
     "execution_count": 61,
     "metadata": {},
     "output_type": "execute_result"
    }
   ],
   "source": [
    "a"
   ]
  },
  {
   "cell_type": "markdown",
   "metadata": {},
   "source": [
    "**주의:** `C, C#, Java` 등에서 앞서의 예제와 같은 스왑기능을 구현하려면 포인터를 사용해야 한다."
   ]
  },
  {
   "cell_type": "markdown",
   "metadata": {},
   "source": [
    "#### 튜플 자료형 활용 예제 3\n",
    "\n",
    "* 여러 개의 값들을 리턴하는 함수를 정의할 때 사용\n",
    "\n",
    "함수의 리턴값은 무조건 하나이다. \n",
    "예를 들어, 2를 입력 받아서 2의 제곱과 2의 세제곱을 동시에 리턴하는 함수는 정의할 수 없다.\n",
    "하지만, 두 개의 값을 튜플로 묶어서 하나의 값으로 리턴할 수는 있다.\n",
    "\n",
    "아래 함수는 입력받은 값의 제곱과 세제곱을 튜플로 묶어서 리턴한다.\n",
    "\n",
    "**주의:** 소괄호 기호는 생략이 가능하다는 것에 주의한다."
   ]
  },
  {
   "cell_type": "code",
   "execution_count": 64,
   "metadata": {
    "collapsed": true
   },
   "outputs": [],
   "source": [
    "def f(x):\n",
    "    return x**2, x**3"
   ]
  },
  {
   "cell_type": "markdown",
   "metadata": {},
   "source": [
    "이제 아래와 같이 리턴값 각각의 항목에 변수를 할당하여 사용할 수 있다."
   ]
  },
  {
   "cell_type": "code",
   "execution_count": 67,
   "metadata": {
    "collapsed": true
   },
   "outputs": [],
   "source": [
    "a, b = f(2)"
   ]
  },
  {
   "cell_type": "code",
   "execution_count": 68,
   "metadata": {},
   "outputs": [
    {
     "data": {
      "text/plain": [
       "4"
      ]
     },
     "execution_count": 68,
     "metadata": {},
     "output_type": "execute_result"
    }
   ],
   "source": [
    "a"
   ]
  },
  {
   "cell_type": "markdown",
   "metadata": {},
   "source": [
    "### 불변성(immutability)대 가변성(mutability)\n",
    "\n",
    "튜플과 문자열은 불변성 자료형이다.\n",
    "즉, 이미 생성된 값들을 절대 수정할 수 없다.\n",
    "\n",
    "예를 들어, 아래와 같이 튜플의 특정 항목을 대체하려거나\n",
    "문자열의 일부를 다른 문자열로 대체하려는 시도는 오류를 발생시킨다."
   ]
  },
  {
   "cell_type": "code",
   "execution_count": 83,
   "metadata": {},
   "outputs": [
    {
     "ename": "TypeError",
     "evalue": "'tuple' object does not support item assignment",
     "output_type": "error",
     "traceback": [
      "\u001b[0;31m---------------------------------------------------------------------------\u001b[0m",
      "\u001b[0;31mTypeError\u001b[0m                                 Traceback (most recent call last)",
      "\u001b[0;32m<ipython-input-83-155a99192be8>\u001b[0m in \u001b[0;36m<module>\u001b[0;34m()\u001b[0m\n\u001b[1;32m      1\u001b[0m \u001b[0ma\u001b[0m \u001b[0;34m=\u001b[0m \u001b[0;34m(\u001b[0m\u001b[0;34m'Hello'\u001b[0m\u001b[0;34m,\u001b[0m \u001b[0;34m'World'\u001b[0m\u001b[0;34m)\u001b[0m\u001b[0;34m\u001b[0m\u001b[0m\n\u001b[0;32m----> 2\u001b[0;31m \u001b[0ma\u001b[0m\u001b[0;34m[\u001b[0m\u001b[0;36m0\u001b[0m\u001b[0;34m]\u001b[0m \u001b[0;34m=\u001b[0m \u001b[0;34m'Hi'\u001b[0m\u001b[0;34m\u001b[0m\u001b[0m\n\u001b[0m",
      "\u001b[0;31mTypeError\u001b[0m: 'tuple' object does not support item assignment"
     ]
    }
   ],
   "source": [
    "a = ('Hello', 'World')\n",
    "a[0] = 'Hi'"
   ]
  },
  {
   "cell_type": "code",
   "execution_count": 72,
   "metadata": {},
   "outputs": [
    {
     "ename": "TypeError",
     "evalue": "'str' object does not support item assignment",
     "output_type": "error",
     "traceback": [
      "\u001b[0;31m---------------------------------------------------------------------------\u001b[0m",
      "\u001b[0;31mTypeError\u001b[0m                                 Traceback (most recent call last)",
      "\u001b[0;32m<ipython-input-72-a63d8388a298>\u001b[0m in \u001b[0;36m<module>\u001b[0;34m()\u001b[0m\n\u001b[1;32m      1\u001b[0m \u001b[0ma\u001b[0m \u001b[0;34m=\u001b[0m \u001b[0;34m(\u001b[0m\u001b[0;34m'Hello'\u001b[0m\u001b[0;34m,\u001b[0m \u001b[0;34m'World'\u001b[0m\u001b[0;34m)\u001b[0m\u001b[0;34m\u001b[0m\u001b[0m\n\u001b[0;32m----> 2\u001b[0;31m \u001b[0ma\u001b[0m\u001b[0;34m[\u001b[0m\u001b[0;36m1\u001b[0m\u001b[0;34m]\u001b[0m\u001b[0;34m[\u001b[0m\u001b[0;36m0\u001b[0m\u001b[0;34m]\u001b[0m \u001b[0;34m=\u001b[0m \u001b[0;34m'w'\u001b[0m\u001b[0;34m\u001b[0m\u001b[0m\n\u001b[0m",
      "\u001b[0;31mTypeError\u001b[0m: 'str' object does not support item assignment"
     ]
    }
   ],
   "source": [
    "a = ('Hello', 'World')\n",
    "a[1][0] = 'w'"
   ]
  },
  {
   "cell_type": "markdown",
   "metadata": {},
   "source": [
    "만약에 튜플의 특정 항목 또는 문자열의 일부를 다른 문자열로 대체하고 싶다면, \n",
    "기존의 값들을 이용하여 새로운 튜플과 문자열을 생성해야 한다. "
   ]
  },
  {
   "cell_type": "code",
   "execution_count": 85,
   "metadata": {},
   "outputs": [
    {
     "data": {
      "text/plain": [
       "('Hi', 'World')"
      ]
     },
     "execution_count": 85,
     "metadata": {},
     "output_type": "execute_result"
    }
   ],
   "source": [
    "b = ('Hi', a[1])\n",
    "b"
   ]
  },
  {
   "cell_type": "code",
   "execution_count": 105,
   "metadata": {},
   "outputs": [
    {
     "data": {
      "text/plain": [
       "('Hi', 'world')"
      ]
     },
     "execution_count": 105,
     "metadata": {},
     "output_type": "execute_result"
    }
   ],
   "source": [
    "b = ('Hi',) + (a[1],)\n",
    "b"
   ]
  },
  {
   "cell_type": "markdown",
   "metadata": {},
   "source": [
    "**주의:** 길이가 1인 튜플에는 반드시 콤마를 사용해야 한다.\n",
    "그렇지 않으면 튜플로 간주하지 않는다."
   ]
  },
  {
   "cell_type": "code",
   "execution_count": 87,
   "metadata": {},
   "outputs": [
    {
     "data": {
      "text/plain": [
       "('Hi', 'world')"
      ]
     },
     "execution_count": 87,
     "metadata": {},
     "output_type": "execute_result"
    }
   ],
   "source": [
    "a = (a[0], 'w' + a[1][1:])\n",
    "a"
   ]
  },
  {
   "cell_type": "markdown",
   "metadata": {},
   "source": [
    "비유해서 설명하면, 아파트가 문자열 또는 튜플 자료형이라면 아파트를 수선할 수는 없고, 대신에 기존 아파트를 부신 다음에 새로 원하는 대로 지어야 함을 의미한다."
   ]
  },
  {
   "cell_type": "markdown",
   "metadata": {},
   "source": [
    "## 튜플과 사전 활용 예제\n",
    "\n",
    "학생들의 신상정보 등을 저장할 때 유용함.\n",
    "\n",
    "학생이름 또는 학번을 키로 사용하고, 값에는 생일, 나이, 등을 저장할 수 있음.\n",
    "\n",
    "아래 코드는 학생들의 신정정보 파일을 모두 읽어들여서 활용하는 프로그램을 위한 함수들임."
   ]
  },
  {
   "cell_type": "code",
   "execution_count": 1,
   "metadata": {
    "collapsed": true
   },
   "outputs": [],
   "source": [
    "from __future__ import print_function\n",
    "import glob\n",
    "import string"
   ]
  },
  {
   "cell_type": "code",
   "execution_count": 12,
   "metadata": {
    "collapsed": true
   },
   "outputs": [],
   "source": [
    "def std_record_list(dir):\n",
    "    \"\"\"\n",
    "    지정된 디렉토리에 포함된 모든 학생들의 신상정보 파일명을 읽어드림.\n",
    "    \n",
    "    입력값:\n",
    "        디렉토리 이름 - 문자열 이용.\n",
    "    리턴값:\n",
    "        학생들 신상정보 파일이름으로 구성된 리스트\n",
    "    \"\"\"\n",
    "    files = glob.glob(dir + '/*.txt')\n",
    "    \n",
    "    return files"
   ]
  },
  {
   "cell_type": "code",
   "execution_count": 13,
   "metadata": {},
   "outputs": [
    {
     "data": {
      "text/plain": [
       "['Sample_Data/Students_Records/Byun_Sato.txt',\n",
       " 'Sample_Data/Students_Records/Pi_Matgol.txt',\n",
       " 'Sample_Data/Students_Records/So_Ritgun.txt']"
      ]
     },
     "execution_count": 13,
     "metadata": {},
     "output_type": "execute_result"
    }
   ],
   "source": [
    "filenames = std_record_list('Sample_Data/Students_Records/')\n",
    "filenames"
   ]
  },
  {
   "cell_type": "code",
   "execution_count": 107,
   "metadata": {
    "collapsed": true
   },
   "outputs": [],
   "source": [
    "def date_of_birth(date_birth):\n",
    "    '''\n",
    "    생년월일 정보를 (년, 월, 일) 형식으로 변경하는 함수\n",
    "\n",
    "    입력값:\n",
    "        * 생년월일 정보 문자열 - \"년.월.일\"\n",
    "    리턴값:\n",
    "        * 생년월일 정보 튜플 - (년, 월, 일)\n",
    "    '''\n",
    "    year, month, day = date_birth.split('.')\n",
    "    \n",
    "    year = int(year) + 1900\n",
    "    month = int(month)\n",
    "    day = int(day)\n",
    "\n",
    "    ymd = (year, month, day)\n",
    "    \n",
    "    return ymd"
   ]
  },
  {
   "cell_type": "code",
   "execution_count": 108,
   "metadata": {},
   "outputs": [
    {
     "data": {
      "text/plain": [
       "(3917, 9, 27)"
      ]
     },
     "execution_count": 108,
     "metadata": {},
     "output_type": "execute_result"
    }
   ],
   "source": [
    "date_of_birth(\"2017.09.27\")"
   ]
  },
  {
   "cell_type": "code",
   "execution_count": 109,
   "metadata": {
    "collapsed": true
   },
   "outputs": [],
   "source": [
    "def record_getter(filename):\n",
    "    '''\n",
    "    지정된 학생의 신상정보를 리스트로 출력함.\n",
    "    각 항목은 항목명과 내용의 튜플로 구성됨\n",
    "    \n",
    "    입력값:\n",
    "        파일명을 가리키는 경로\n",
    "    리턴값:\n",
    "        학생들의 신상정보의 각 항목을 담은 리스트\n",
    "    '''\n",
    "    std_data = []\n",
    "    a_file = open(filename, u\"r\")\n",
    "    \n",
    "    for line in a_file.readlines():\n",
    "        if line[0] == '#' or line in string.whitespace:\n",
    "            continue\n",
    "        else:\n",
    "            item, value = line.split(':')\n",
    "            item = item.strip()\n",
    "            value = value.strip()\n",
    "\n",
    "            if item.strip() == 'Date of Birth':\n",
    "                value = date_of_birth(value)\n",
    "            std_data.append((item, value))\n",
    "            \n",
    "    return std_data"
   ]
  },
  {
   "cell_type": "code",
   "execution_count": 110,
   "metadata": {},
   "outputs": [
    {
     "data": {
      "text/plain": [
       "[('Name', 'Byun Sato'),\n",
       " ('Date of Birth', (1995, 4, 28)),\n",
       " ('Email', 'SatoByun@hknu.ac.kr'),\n",
       " ('Department', 'Computer'),\n",
       " ('Student ID', '201700251003')]"
      ]
     },
     "execution_count": 110,
     "metadata": {},
     "output_type": "execute_result"
    }
   ],
   "source": [
    "record_getter('Sample_Data/Students_Records/Byun_Sato.txt')"
   ]
  },
  {
   "cell_type": "markdown",
   "metadata": {},
   "source": [
    "위 코드를 한 군데 모아서 아래와 같이 세 번째 학생의 정보를 얻을 수 있다."
   ]
  },
  {
   "cell_type": "code",
   "execution_count": 111,
   "metadata": {},
   "outputs": [
    {
     "data": {
      "text/plain": [
       "[('Name', 'Byun Sato'),\n",
       " ('Date of Birth', (1995, 4, 28)),\n",
       " ('Email', 'SatoByun@hknu.ac.kr'),\n",
       " ('Department', 'Computer'),\n",
       " ('Student ID', '201700251003')]"
      ]
     },
     "execution_count": 111,
     "metadata": {},
     "output_type": "execute_result"
    }
   ],
   "source": [
    "filenames = std_record_list('Sample_Data/Students_Records/')\n",
    "\n",
    "So_data = record_getter(filenames[0])\n",
    "So_data"
   ]
  },
  {
   "cell_type": "markdown",
   "metadata": {},
   "source": [
    "위 코드는 학생들의 신상정보의 정리해서 잘 보여준다. \n",
    "하지만 소속학과, 생년월일 등에 대한 구체적인 정보를 추출하는 일은 좀 번거롭다. \n",
    "\n",
    "예를 들어, `So Ritgun` 학생의 소속학과를 확인하려면 다음과 같이 해야 한다."
   ]
  },
  {
   "cell_type": "code",
   "execution_count": 112,
   "metadata": {},
   "outputs": [
    {
     "name": "stdout",
     "output_type": "stream",
     "text": [
      "전공은 Computer 입니다.\n"
     ]
    }
   ],
   "source": [
    "for i in range( len(So_data) ):\n",
    "    if So_data[i][0] == 'Department':\n",
    "        print(\"전공은\", So_data[i][1], \"입니다.\")\n",
    "        break"
   ]
  },
  {
   "cell_type": "markdown",
   "metadata": {},
   "source": [
    "그런데 사전을 이용하면 보다 쉽게 할 수 있다. \n",
    "\n",
    "먼저 `So_data`를 사전으로 만들어보자."
   ]
  },
  {
   "cell_type": "code",
   "execution_count": 113,
   "metadata": {},
   "outputs": [
    {
     "data": {
      "text/plain": [
       "{'Date of Birth': (1995, 4, 28),\n",
       " 'Department': 'Computer',\n",
       " 'Email': 'SatoByun@hknu.ac.kr',\n",
       " 'Name': 'Byun Sato',\n",
       " 'Student ID': '201700251003'}"
      ]
     },
     "execution_count": 113,
     "metadata": {},
     "output_type": "execute_result"
    }
   ],
   "source": [
    "So_data_dict = {}\n",
    "for i in range( len(So_data) ):\n",
    "    So_data_dict[So_data[i][0]] = So_data[i][1]\n",
    "\n",
    "So_data_dict"
   ]
  },
  {
   "cell_type": "markdown",
   "metadata": {},
   "source": [
    "그러면 소속학과 또는 좋아하는 색깔 등을 확인하는 일이 매우 쉽다."
   ]
  },
  {
   "cell_type": "code",
   "execution_count": 114,
   "metadata": {},
   "outputs": [
    {
     "data": {
      "text/plain": [
       "'Computer'"
      ]
     },
     "execution_count": 114,
     "metadata": {},
     "output_type": "execute_result"
    }
   ],
   "source": [
    "So_data_dict['Department']"
   ]
  },
  {
   "cell_type": "code",
   "execution_count": 115,
   "metadata": {},
   "outputs": [
    {
     "data": {
      "text/plain": [
       "'SatoByun@hknu.ac.kr'"
      ]
     },
     "execution_count": 115,
     "metadata": {},
     "output_type": "execute_result"
    }
   ],
   "source": [
    "So_data_dict['Email']"
   ]
  },
  {
   "cell_type": "markdown",
   "metadata": {},
   "source": [
    "**주의:** 하나의 항목의 키값을 변경하거나 새로운 (키, 값) 항목을 추가하려면 아래 형식을 이용한다.\n",
    "```\n",
    "사전이름[키] = 키값\n",
    "```\n",
    "\n",
    "반면에 여러 항목을 사전에 추가하려면 `update()` 메소드를 이용한다."
   ]
  },
  {
   "cell_type": "code",
   "execution_count": 116,
   "metadata": {},
   "outputs": [
    {
     "data": {
      "text/plain": [
       "{'Date of Birth': (1995, 4, 28),\n",
       " 'Department': 'Computer',\n",
       " 'Email': 'SatoByun@hknu.ac.kr',\n",
       " 'Name': 'Byun Sato',\n",
       " 'Residence': 'Anseong',\n",
       " 'Student ID': '201700251003'}"
      ]
     },
     "execution_count": 116,
     "metadata": {},
     "output_type": "execute_result"
    }
   ],
   "source": [
    "So_data_dict['Residence'] = 'Anseong'\n",
    "\n",
    "So_data_dict"
   ]
  },
  {
   "cell_type": "markdown",
   "metadata": {},
   "source": [
    "**주의:** 순서는 전혀 중요하지 않다."
   ]
  },
  {
   "cell_type": "code",
   "execution_count": 117,
   "metadata": {},
   "outputs": [
    {
     "data": {
      "text/plain": [
       "{'Date of Birth': (1995, 4, 28),\n",
       " 'Department': 'Computer',\n",
       " 'Email': 'SatoByun@hknu.ac.kr',\n",
       " 'Grade': '2',\n",
       " 'Name': 'Byun Sato',\n",
       " 'Residence': 'Anseong',\n",
       " 'Semester': '2',\n",
       " 'Student ID': '201700251003'}"
      ]
     },
     "execution_count": 117,
     "metadata": {},
     "output_type": "execute_result"
    }
   ],
   "source": [
    "So_data_dict.update({'Grade': '2', 'Semester': '2'})\n",
    "\n",
    "So_data_dict"
   ]
  },
  {
   "cell_type": "markdown",
   "metadata": {},
   "source": [
    "항목을 삭제하려면 `del` 함수 또는 `pop()` 메소드를 사용한다.\n",
    "존재하지 않는 `key`를 이용할 경우 어떤 일이 일어나는지 확인하라."
   ]
  },
  {
   "cell_type": "code",
   "execution_count": 118,
   "metadata": {},
   "outputs": [
    {
     "data": {
      "text/plain": [
       "{'Date of Birth': (1995, 4, 28),\n",
       " 'Department': 'Computer',\n",
       " 'Email': 'SatoByun@hknu.ac.kr',\n",
       " 'Grade': '2',\n",
       " 'Name': 'Byun Sato',\n",
       " 'Semester': '2',\n",
       " 'Student ID': '201700251003'}"
      ]
     },
     "execution_count": 118,
     "metadata": {},
     "output_type": "execute_result"
    }
   ],
   "source": [
    "del So_data_dict['Residence']\n",
    "\n",
    "So_data_dict"
   ]
  },
  {
   "cell_type": "code",
   "execution_count": 119,
   "metadata": {},
   "outputs": [
    {
     "name": "stdout",
     "output_type": "stream",
     "text": [
      "2\n"
     ]
    }
   ],
   "source": [
    "print(So_data_dict.pop('Grade'))"
   ]
  },
  {
   "cell_type": "code",
   "execution_count": 120,
   "metadata": {},
   "outputs": [
    {
     "name": "stdout",
     "output_type": "stream",
     "text": [
      "2\n"
     ]
    }
   ],
   "source": [
    "print(So_data_dict.pop('Semester'))"
   ]
  },
  {
   "cell_type": "code",
   "execution_count": 121,
   "metadata": {},
   "outputs": [
    {
     "data": {
      "text/plain": [
       "{'Date of Birth': (1995, 4, 28),\n",
       " 'Department': 'Computer',\n",
       " 'Email': 'SatoByun@hknu.ac.kr',\n",
       " 'Name': 'Byun Sato',\n",
       " 'Student ID': '201700251003'}"
      ]
     },
     "execution_count": 121,
     "metadata": {},
     "output_type": "execute_result"
    }
   ],
   "source": [
    "So_data_dict"
   ]
  },
  {
   "cell_type": "code",
   "execution_count": 122,
   "metadata": {},
   "outputs": [
    {
     "data": {
      "text/plain": [
       "(1995, 4, 28)"
      ]
     },
     "execution_count": 122,
     "metadata": {},
     "output_type": "execute_result"
    }
   ],
   "source": [
    "So_data_dict['Date of Birth']"
   ]
  },
  {
   "cell_type": "code",
   "execution_count": 123,
   "metadata": {},
   "outputs": [
    {
     "data": {
      "text/plain": [
       "'Byun Sato'"
      ]
     },
     "execution_count": 123,
     "metadata": {},
     "output_type": "execute_result"
    }
   ],
   "source": [
    "So_data_dict['Name']"
   ]
  },
  {
   "cell_type": "markdown",
   "metadata": {},
   "source": [
    "이제 사전 자료형을 이용하여 `record_getter` 함수를 수정하자."
   ]
  },
  {
   "cell_type": "code",
   "execution_count": 124,
   "metadata": {
    "collapsed": true
   },
   "outputs": [],
   "source": [
    "def record_getter(filename):\n",
    "    '''\n",
    "    지정된 학생의 신상정보를 리스트로 출력함.\n",
    "    각 항목은 항목명과 내용의 튜플로 구성됨\n",
    "    \n",
    "    입력값:\n",
    "        파일명을 가리키는 경로\n",
    "    리턴값:\n",
    "        학생들의 신상정보의 각 항목을 담은 사전 자료형\n",
    "    '''\n",
    "    std_data = {}\n",
    "    a_file = open(filename, u\"r\")\n",
    "    \n",
    "    for line in a_file.readlines():\n",
    "        if line[0] == '#' or line in string.whitespace:\n",
    "            continue\n",
    "        else:\n",
    "            item, value = line.split(':')\n",
    "            item = item.strip()\n",
    "            value = value.strip()\n",
    "\n",
    "            if item.strip() == 'Date of Birth':\n",
    "                value = date_of_birth(value)\n",
    "            std_data[item] = value\n",
    "            \n",
    "    return std_data"
   ]
  },
  {
   "cell_type": "code",
   "execution_count": 125,
   "metadata": {},
   "outputs": [
    {
     "data": {
      "text/plain": [
       "{'Date of Birth': (1995, 4, 28),\n",
       " 'Department': 'Computer',\n",
       " 'Email': 'SatoByun@hknu.ac.kr',\n",
       " 'Name': 'Byun Sato',\n",
       " 'Student ID': '201700251003'}"
      ]
     },
     "execution_count": 125,
     "metadata": {},
     "output_type": "execute_result"
    }
   ],
   "source": [
    "record_getter('Sample_Data/Students_Records/Byun_Sato.txt')"
   ]
  },
  {
   "cell_type": "markdown",
   "metadata": {},
   "source": [
    "아래 코드에서 `all_records` 변수에는 모든 학생의 신상정보를 리스트로 담고 있다.\n",
    "각 항목은 각 학생의 신상정보를 담은 사전 자료형이다. "
   ]
  },
  {
   "cell_type": "code",
   "execution_count": 43,
   "metadata": {},
   "outputs": [
    {
     "data": {
      "text/plain": [
       "[{'Date of Birth': (95, 4, 28),\n",
       "  'Department': 'Computer',\n",
       "  'Email': 'SatoByun@hknu.ac.kr',\n",
       "  'Name': 'Byun Sato',\n",
       "  'Student ID': '201700251003'},\n",
       " {'Date of Birth': (95, 9, 8),\n",
       "  'Department': 'Environment',\n",
       "  'Email': 'MatgolPi@hknu.ac.kr',\n",
       "  'Name': 'Pi Matgol',\n",
       "  'Student ID': '201600213023'},\n",
       " {'Date of Birth': (96, 12, 16),\n",
       "  'Department': 'Computer',\n",
       "  'Email': 'RitgunSo@hknu.ac.kr',\n",
       "  'Name': 'So Ritgun',\n",
       "  'Student ID': '201600232039'}]"
      ]
     },
     "execution_count": 43,
     "metadata": {},
     "output_type": "execute_result"
    }
   ],
   "source": [
    "filenames = std_record_list('Sample_Data/Students_Records/')\n",
    "\n",
    "all_records = []\n",
    "for file in filenames:\n",
    "    data = record_getter(file)\n",
    "    all_records.append(data)\n",
    "    \n",
    "all_records"
   ]
  },
  {
   "cell_type": "markdown",
   "metadata": {},
   "source": [
    "이런 식으로 예를 들어 2번째 학생이 소속학과를 다음처럼 확인 가능하다."
   ]
  },
  {
   "cell_type": "code",
   "execution_count": 44,
   "metadata": {},
   "outputs": [
    {
     "data": {
      "text/plain": [
       "'Environment'"
      ]
     },
     "execution_count": 44,
     "metadata": {},
     "output_type": "execute_result"
    }
   ],
   "source": [
    "all_records[1]['Department']"
   ]
  },
  {
   "cell_type": "markdown",
   "metadata": {},
   "source": [
    "또는 1번째 학생의 이름을 확인한다."
   ]
  },
  {
   "cell_type": "code",
   "execution_count": 45,
   "metadata": {},
   "outputs": [
    {
     "data": {
      "text/plain": [
       "'Byun Sato'"
      ]
     },
     "execution_count": 45,
     "metadata": {},
     "output_type": "execute_result"
    }
   ],
   "source": [
    "all_records[0]['Name']"
   ]
  },
  {
   "cell_type": "markdown",
   "metadata": {},
   "source": [
    "## 연습문제"
   ]
  },
  {
   "cell_type": "markdown",
   "metadata": {},
   "source": [
    "### 연습"
   ]
  },
  {
   "cell_type": "markdown",
   "metadata": {
    "collapsed": true
   },
   "source": [
    "첫 번째 학생의 신상정보를 아래 형식으로 출력하는 코드를 작성하라.\n",
    "```\n",
    "제 이름은 ___이며, 나이는 ___살 입니다.\n",
    "```"
   ]
  },
  {
   "cell_type": "markdown",
   "metadata": {},
   "source": [
    "### 연습"
   ]
  },
  {
   "cell_type": "markdown",
   "metadata": {
    "collapsed": true
   },
   "source": [
    "전공이 `Computer`인 학생 이름의 리스트를 구하라."
   ]
  },
  {
   "cell_type": "markdown",
   "metadata": {},
   "source": [
    "### 연습"
   ]
  },
  {
   "cell_type": "markdown",
   "metadata": {
    "collapsed": true
   },
   "source": [
    "전공을 인자로 입력하면 해당 전공 학생들의 이름으로 구성된 리스트를 리턴하는 함수 `faculty_member` 함수를 구현하라."
   ]
  },
  {
   "cell_type": "code",
   "execution_count": null,
   "metadata": {
    "collapsed": true
   },
   "outputs": [],
   "source": []
  },
  {
   "cell_type": "code",
   "execution_count": null,
   "metadata": {
    "collapsed": true
   },
   "outputs": [],
   "source": []
  }
 ],
 "metadata": {
  "kernelspec": {
   "display_name": "Python 2",
   "language": "python",
   "name": "python2"
  },
  "language_info": {
   "codemirror_mode": {
    "name": "ipython",
    "version": 2
   },
   "file_extension": ".py",
   "mimetype": "text/x-python",
   "name": "python",
   "nbconvert_exporter": "python",
   "pygments_lexer": "ipython2",
   "version": "2.7.13"
  }
 },
 "nbformat": 4,
 "nbformat_minor": 2
}
