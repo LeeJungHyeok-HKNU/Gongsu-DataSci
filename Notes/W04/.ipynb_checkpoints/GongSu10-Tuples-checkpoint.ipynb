{
 "cells": [
  {
   "cell_type": "markdown",
   "metadata": {},
   "source": [
    "# 튜플 활용"
   ]
  },
  {
   "cell_type": "markdown",
   "metadata": {},
   "source": [
    "## 주요 내용"
   ]
  },
  {
   "cell_type": "markdown",
   "metadata": {},
   "source": [
    "파이썬에 내장되어 있는 컬렉션 자료형 중에서 튜플에 대해 알아 본다.\n",
    "    \n",
    "**튜플(tuples)**: 리스트와 비슷. 하지만 수정 불가능(immutable).\n",
    "* 사용 형태: 소괄호 사용\n",
    "```\n",
    "even_numbers_tuple = (2, 4, 6, 8, 10)\n",
    "todays_datatypes_tuple = ('list', 'tuple', 'dictionary')\n",
    "```\n",
    "\n",
    "* 특징: 임의의 자료형 값들을 섞어서 항목으로 사용 가능\n",
    "```\n",
    "mixed_tuple = (1, 'abs', [2.1, 4.5])\n",
    "```\n",
    "\n",
    "* 인덱스 또는 슬라이싱을 이용하여 각각의 항목에 또는 여러 개의 항목에 대한 \n",
    "    정보를 활용할 수 있다. 사용법은 문자열의 경우와 동일.\n",
    "\n",
    "* 튜플은 수정 불가능하다. 즉, 불변 자료형이다. \n",
    "\n",
    "* 튜플 자료형은 불변 자료형이라서 메소드가 별로 없다. \n",
    "    많이 사용되는 두 개이다.\n",
    "    * `count()`: 튜플에 포함된 특정 항목이 몇 번 나타나는지 세어 줌.\n",
    "    * `index()`: 특정 항목의 인덱스가 몇 번인지 확인해 줌."
   ]
  },
  {
   "cell_type": "markdown",
   "metadata": {},
   "source": [
    "## 오늘의 주요 예제\n",
    "\n",
    "(10_Dictionaries) 참조\n"
   ]
  },
  {
   "cell_type": "code",
   "execution_count": null,
   "metadata": {
    "collapsed": true
   },
   "outputs": [],
   "source": []
  },
  {
   "cell_type": "code",
   "execution_count": null,
   "metadata": {
    "collapsed": true
   },
   "outputs": [],
   "source": []
  },
  {
   "cell_type": "code",
   "execution_count": null,
   "metadata": {
    "collapsed": true
   },
   "outputs": [],
   "source": []
  },
  {
   "cell_type": "code",
   "execution_count": null,
   "metadata": {
    "collapsed": true
   },
   "outputs": [],
   "source": []
  },
  {
   "cell_type": "code",
   "execution_count": null,
   "metadata": {
    "collapsed": true
   },
   "outputs": [],
   "source": []
  },
  {
   "cell_type": "code",
   "execution_count": null,
   "metadata": {
    "collapsed": true
   },
   "outputs": [],
   "source": []
  }
 ],
 "metadata": {
  "kernelspec": {
   "display_name": "Python 2",
   "language": "python",
   "name": "python2"
  },
  "language_info": {
   "codemirror_mode": {
    "name": "ipython",
    "version": 2
   },
   "file_extension": ".py",
   "mimetype": "text/x-python",
   "name": "python",
   "nbconvert_exporter": "python",
   "pygments_lexer": "ipython2",
   "version": "2.7.13"
  }
 },
 "nbformat": 4,
 "nbformat_minor": 2
}
