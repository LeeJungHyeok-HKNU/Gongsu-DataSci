{
 "cells": [
  {
   "cell_type": "markdown",
   "metadata": {},
   "source": [
    "# 튜플 활용"
   ]
  },
  {
   "cell_type": "markdown",
   "metadata": {},
   "source": [
    "## 주요 내용"
   ]
  },
  {
   "cell_type": "markdown",
   "metadata": {},
   "source": [
    "파이썬에 내장되어 있는 컬렉션 자료형 중에서 튜플에 대해 알아 본다.\n",
    "    \n",
    "**튜플(tuples)**: 리스트와 비슷. 하지만 수정 불가능(immutable).\n",
    "* 사용 형태: 소괄호 사용\n",
    "```\n",
    "even_numbers_tuple = (2, 4, 6, 8, 10)\n",
    "todays_datatypes_tuple = ('list', 'tuple', 'dictionary')\n",
    "```\n",
    "\n",
    "* 특징: 임의의 자료형 값들을 섞어서 항목으로 사용 가능\n",
    "```\n",
    "mixed_tuple = (1, 'abs', [2.1, 4.5])\n",
    "```\n",
    "\n",
    "* 인덱스 또는 슬라이싱을 이용하여 각각의 항목에 또는 여러 개의 항목에 대한 \n",
    "    정보를 활용할 수 있다. 사용법은 문자열의 경우와 동일.\n",
    "\n",
    "* 튜플은 수정 불가능하다. 즉, 불변 자료형이다. \n",
    "\n",
    "* 튜플 자료형은 불변 자료형이라서 메소드가 별로 없다. \n",
    "    많이 사용되는 두 개이다.\n",
    "    * `count()`: 튜플에 포함된 특정 항목이 몇 번 나타나는지 세어 줌.\n",
    "    * `index()`: 특정 항목의 인덱스가 몇 번인지 확인해 줌."
   ]
  },
  {
   "cell_type": "markdown",
   "metadata": {},
   "source": [
    "## 오늘의 주요 예제\n",
    "\n",
    "리스트, 사전, 튜플을 종합적으로 활용하는 예제.\n",
    "\n",
    "튜플의 기본 활용을 먼저 설명.\n"
   ]
  },
  {
   "cell_type": "markdown",
   "metadata": {},
   "source": [
    "## 사전 활용 예제\n",
    "\n",
    "학생들의 신상정보 등을 저장할 때 유용함.\n",
    "\n",
    "학생이름 또는 학번을 키로 사용하고, 값에는 생일, 나이, 등을 저장할 수 있음.\n",
    "\n",
    "아래 코드는 학생들의 신정정보 파일을 모두 읽어들여서 활용하는 프로그램을 위한 함수들임."
   ]
  },
  {
   "cell_type": "code",
   "execution_count": 41,
   "metadata": {
    "collapsed": true
   },
   "outputs": [],
   "source": [
    "from __future__ import print_function\n",
    "import glob\n",
    "import string"
   ]
  },
  {
   "cell_type": "code",
   "execution_count": 26,
   "metadata": {
    "collapsed": true
   },
   "outputs": [],
   "source": [
    "def std_record_list(dir):\n",
    "    \"\"\"\n",
    "    지정된 디렉토리에 포함된 모든 학생들의 신상정보 파일명을 읽어드림.\n",
    "    \n",
    "    입력값:\n",
    "        디렉토리 이름 - 문자열 이용.\n",
    "    리턴값:\n",
    "        학생들 신상정보 파일이름으로 구성된 리스트\n",
    "    \"\"\"\n",
    "    files = glob.glob(dir + '/*.txt')\n",
    "    \n",
    "    return files"
   ]
  },
  {
   "cell_type": "code",
   "execution_count": 27,
   "metadata": {},
   "outputs": [
    {
     "data": {
      "text/plain": [
       "['../../Data/Students_Records/Byun_Sato.txt',\n",
       " '../../Data/Students_Records/Pi_Matgol.txt',\n",
       " '../../Data/Students_Records/So_Ritgun.txt']"
      ]
     },
     "execution_count": 27,
     "metadata": {},
     "output_type": "execute_result"
    }
   ],
   "source": [
    "filenames = std_record_list('../../Data/Students_Records/')\n",
    "filenames"
   ]
  },
  {
   "cell_type": "code",
   "execution_count": 28,
   "metadata": {
    "collapsed": true
   },
   "outputs": [],
   "source": [
    "def date_of_birth(date_birth):\n",
    "    '''\n",
    "    생년월일 정보를 (년, 월, 일) 형식으로 변경하는 함수\n",
    "\n",
    "    입력값:\n",
    "        * 생년월일 정보 문자열 - \"년.월.일\"\n",
    "    리턴값:\n",
    "        * 생년월일 정보 튜플 - (년, 월, 일)\n",
    "    '''\n",
    "    year, month, day = date_birth.split('.')\n",
    "    \n",
    "    year = int(year)\n",
    "    month = int(month)\n",
    "    day = int(day)\n",
    "\n",
    "    ymd = (year, month, day)\n",
    "    \n",
    "    return ymd"
   ]
  },
  {
   "cell_type": "code",
   "execution_count": 29,
   "metadata": {},
   "outputs": [
    {
     "data": {
      "text/plain": [
       "(2017, 9, 27)"
      ]
     },
     "execution_count": 29,
     "metadata": {},
     "output_type": "execute_result"
    }
   ],
   "source": [
    "date_of_birth(\"2017.09.27\")"
   ]
  },
  {
   "cell_type": "code",
   "execution_count": 30,
   "metadata": {},
   "outputs": [],
   "source": [
    "def record_getter(filename):\n",
    "    '''\n",
    "    지정된 학생의 신상정보를 리스트로 출력함.\n",
    "    각 항목은 항목명과 내용의 튜플로 구성됨\n",
    "    \n",
    "    입력값:\n",
    "        파일명을 가리키는 경로\n",
    "    리턴값:\n",
    "        학생들의 신상정보의 각 항목을 담은 리스트\n",
    "    '''\n",
    "    std_data = []\n",
    "    a_file = open(filename, u\"r\")\n",
    "    \n",
    "    for line in a_file.readlines():\n",
    "        if line[0] == '#' or line in string.whitespace:\n",
    "            continue\n",
    "        else:\n",
    "            item, value = line.split(':')\n",
    "            item = item.strip()\n",
    "            value = value.strip()\n",
    "\n",
    "            if item.strip() == 'Date of Birth':\n",
    "                value = date_of_birth(value)\n",
    "            std_data.append((item, value))\n",
    "            \n",
    "    return std_data"
   ]
  },
  {
   "cell_type": "code",
   "execution_count": 31,
   "metadata": {},
   "outputs": [
    {
     "data": {
      "text/plain": [
       "[('Name', 'Byun Sato'),\n",
       " ('Date of Birth', (95, 4, 28)),\n",
       " ('Email', 'SatoByun@hknu.ac.kr'),\n",
       " ('Department', 'Computer'),\n",
       " ('Student ID', '201700251003')]"
      ]
     },
     "execution_count": 31,
     "metadata": {},
     "output_type": "execute_result"
    }
   ],
   "source": [
    "record_getter('../../Data/Students_Records/Byun_Sato.txt')"
   ]
  },
  {
   "cell_type": "markdown",
   "metadata": {},
   "source": [
    "위 코드를 한 군데 모아서 아래와 같이 세 번째 학생의 정보를 얻을 수 있다."
   ]
  },
  {
   "cell_type": "code",
   "execution_count": 36,
   "metadata": {},
   "outputs": [
    {
     "data": {
      "text/plain": [
       "[('Name', 'So Ritgun'),\n",
       " ('Date of Birth', (96, 12, 16)),\n",
       " ('Email', 'RitgunSo@hknu.ac.kr'),\n",
       " ('Department', 'Electronics'),\n",
       " ('Student ID', '201600232039')]"
      ]
     },
     "execution_count": 36,
     "metadata": {},
     "output_type": "execute_result"
    }
   ],
   "source": [
    "filenames = std_record_list('../../Data/Students_Records/')\n",
    "\n",
    "So_data = record_getter(filenames[2])\n",
    "So_data"
   ]
  },
  {
   "cell_type": "markdown",
   "metadata": {},
   "source": [
    "위 코드는 학생들의 신상정보의 정리해서 잘 보여준다. \n",
    "하지만 소속학과, 생년월일 등에 대한 구체적인 정보를 추출하는 일은 좀 번거롭다. \n",
    "\n",
    "예를 들어, `So Ritgun` 학생의 소속학과를 확인하려면 다음과 같이 해야 한다."
   ]
  },
  {
   "cell_type": "code",
   "execution_count": 42,
   "metadata": {},
   "outputs": [
    {
     "name": "stdout",
     "output_type": "stream",
     "text": [
      "전공은 Electronics 입니다.\n"
     ]
    }
   ],
   "source": [
    "for i in range( len(So_data) ):\n",
    "    if So_data[i][0] == 'Department':\n",
    "        print(\"전공은\", So_data[i][1], \"입니다.\")\n",
    "        break"
   ]
  },
  {
   "cell_type": "markdown",
   "metadata": {},
   "source": [
    "그런데 사전을 이용하면 보다 쉽게 할 수 있다. \n",
    "\n",
    "먼저 `So_data`를 사전으로 만들어보자."
   ]
  },
  {
   "cell_type": "code",
   "execution_count": 44,
   "metadata": {},
   "outputs": [
    {
     "data": {
      "text/plain": [
       "{'Date of Birth': (96, 12, 16),\n",
       " 'Department': 'Electronics',\n",
       " 'Email': 'RitgunSo@hknu.ac.kr',\n",
       " 'Name': 'So Ritgun',\n",
       " 'Student ID': '201600232039'}"
      ]
     },
     "execution_count": 44,
     "metadata": {},
     "output_type": "execute_result"
    }
   ],
   "source": [
    "So_data_dict = {}\n",
    "for i in range( len(So_data) ):\n",
    "    So_data_dict[So_data[i][0]] = So_data[i][1]\n",
    "\n",
    "So_data_dict"
   ]
  },
  {
   "cell_type": "markdown",
   "metadata": {},
   "source": [
    "그러면 소속학과 또는 좋아하는 색깔 등을 확인하는 일이 매우 쉽다."
   ]
  },
  {
   "cell_type": "code",
   "execution_count": 45,
   "metadata": {},
   "outputs": [
    {
     "data": {
      "text/plain": [
       "'Electronics'"
      ]
     },
     "execution_count": 45,
     "metadata": {},
     "output_type": "execute_result"
    }
   ],
   "source": [
    "So_data_dict['Department']"
   ]
  },
  {
   "cell_type": "code",
   "execution_count": 47,
   "metadata": {},
   "outputs": [
    {
     "data": {
      "text/plain": [
       "'RitgunSo@hknu.ac.kr'"
      ]
     },
     "execution_count": 47,
     "metadata": {},
     "output_type": "execute_result"
    }
   ],
   "source": [
    "So_data_dict['Email']"
   ]
  },
  {
   "cell_type": "markdown",
   "metadata": {},
   "source": [
    "**주의:** 하나의 항목의 키값을 변경하거나 새로운 (키, 값) 항목을 추가하려면 아래 형식을 이용한다.\n",
    "```\n",
    "사전이름[키] = 키값\n",
    "```\n",
    "\n",
    "반면에 여러 항목을 사전에 추가하려면 `update()` 메소드를 이용한다."
   ]
  },
  {
   "cell_type": "code",
   "execution_count": 51,
   "metadata": {},
   "outputs": [
    {
     "data": {
      "text/plain": [
       "{'Date of Birth': (96, 12, 16),\n",
       " 'Department': 'Electronics',\n",
       " 'Email': 'RitgunSo@hknu.ac.kr',\n",
       " 'Grade': '2',\n",
       " 'Name': 'So Ritgun',\n",
       " 'Residence': 'Anseong',\n",
       " 'Semester': '2',\n",
       " 'Student ID': '201600232039'}"
      ]
     },
     "execution_count": 51,
     "metadata": {},
     "output_type": "execute_result"
    }
   ],
   "source": [
    "So_data_dict['Residence'] = 'Anseong'\n",
    "\n",
    "So_data_dict"
   ]
  },
  {
   "cell_type": "markdown",
   "metadata": {},
   "source": [
    "**주의:** 순서는 전혀 중요하지 않다."
   ]
  },
  {
   "cell_type": "code",
   "execution_count": 52,
   "metadata": {},
   "outputs": [
    {
     "data": {
      "text/plain": [
       "{'Date of Birth': (96, 12, 16),\n",
       " 'Department': 'Electronics',\n",
       " 'Email': 'RitgunSo@hknu.ac.kr',\n",
       " 'Grade': '2',\n",
       " 'Name': 'So Ritgun',\n",
       " 'Residence': 'Anseong',\n",
       " 'Semester': '2',\n",
       " 'Student ID': '201600232039'}"
      ]
     },
     "execution_count": 52,
     "metadata": {},
     "output_type": "execute_result"
    }
   ],
   "source": [
    "So_data_dict.update({'Grade': '2', 'Semester': '2'})\n",
    "\n",
    "So_data_dict"
   ]
  },
  {
   "cell_type": "markdown",
   "metadata": {},
   "source": [
    "항목을 삭제하려면 `del` 함수 또는 `pop()` 메소드를 사용한다.\n",
    "존재하지 않는 `key`를 이용할 경우 어떤 일이 일어나는지 확인하라."
   ]
  },
  {
   "cell_type": "code",
   "execution_count": 55,
   "metadata": {},
   "outputs": [
    {
     "data": {
      "text/plain": [
       "{'Date of Birth': (96, 12, 16),\n",
       " 'Department': 'Electronics',\n",
       " 'Email': 'RitgunSo@hknu.ac.kr',\n",
       " 'Name': 'So Ritgun',\n",
       " 'Semester': '2',\n",
       " 'Student ID': '201600232039'}"
      ]
     },
     "execution_count": 55,
     "metadata": {},
     "output_type": "execute_result"
    }
   ],
   "source": [
    "del So_data_dict['Residence']\n",
    "\n",
    "So_data_dict"
   ]
  },
  {
   "cell_type": "code",
   "execution_count": 57,
   "metadata": {},
   "outputs": [
    {
     "ename": "KeyError",
     "evalue": "'Grade'",
     "output_type": "error",
     "traceback": [
      "\u001b[0;31m---------------------------------------------------------------------------\u001b[0m",
      "\u001b[0;31mKeyError\u001b[0m                                  Traceback (most recent call last)",
      "\u001b[0;32m<ipython-input-57-fa37e697de62>\u001b[0m in \u001b[0;36m<module>\u001b[0;34m()\u001b[0m\n\u001b[0;32m----> 1\u001b[0;31m \u001b[0;32mprint\u001b[0m\u001b[0;34m(\u001b[0m\u001b[0mSo_data_dict\u001b[0m\u001b[0;34m.\u001b[0m\u001b[0mpop\u001b[0m\u001b[0;34m(\u001b[0m\u001b[0;34m'Grade'\u001b[0m\u001b[0;34m)\u001b[0m\u001b[0;34m)\u001b[0m\u001b[0;34m\u001b[0m\u001b[0m\n\u001b[0m",
      "\u001b[0;31mKeyError\u001b[0m: 'Grade'"
     ]
    }
   ],
   "source": [
    "print(So_data_dict.pop('Grade'))"
   ]
  },
  {
   "cell_type": "code",
   "execution_count": 58,
   "metadata": {},
   "outputs": [
    {
     "name": "stdout",
     "output_type": "stream",
     "text": [
      "2\n"
     ]
    }
   ],
   "source": [
    "print(So_data_dict.pop('Semester'))"
   ]
  },
  {
   "cell_type": "code",
   "execution_count": 59,
   "metadata": {},
   "outputs": [
    {
     "data": {
      "text/plain": [
       "{'Date of Birth': (96, 12, 16),\n",
       " 'Department': 'Electronics',\n",
       " 'Email': 'RitgunSo@hknu.ac.kr',\n",
       " 'Name': 'So Ritgun',\n",
       " 'Student ID': '201600232039'}"
      ]
     },
     "execution_count": 59,
     "metadata": {},
     "output_type": "execute_result"
    }
   ],
   "source": [
    "So_data_dict"
   ]
  },
  {
   "cell_type": "code",
   "execution_count": 60,
   "metadata": {},
   "outputs": [
    {
     "data": {
      "text/plain": [
       "(96, 12, 16)"
      ]
     },
     "execution_count": 60,
     "metadata": {},
     "output_type": "execute_result"
    }
   ],
   "source": [
    "So_data_dict['Date of Birth']"
   ]
  },
  {
   "cell_type": "code",
   "execution_count": 61,
   "metadata": {},
   "outputs": [
    {
     "data": {
      "text/plain": [
       "'So Ritgun'"
      ]
     },
     "execution_count": 61,
     "metadata": {},
     "output_type": "execute_result"
    }
   ],
   "source": [
    "So_data_dict['Name']"
   ]
  },
  {
   "cell_type": "markdown",
   "metadata": {},
   "source": [
    "이제 사전 자료형을 이용하여 `parse_student_record` 함수를 수정하자."
   ]
  },
  {
   "cell_type": "code",
   "execution_count": 64,
   "metadata": {
    "collapsed": true
   },
   "outputs": [],
   "source": [
    "def record_getter(filename):\n",
    "    '''\n",
    "    지정된 학생의 신상정보를 리스트로 출력함.\n",
    "    각 항목은 항목명과 내용의 튜플로 구성됨\n",
    "    \n",
    "    입력값:\n",
    "        파일명을 가리키는 경로\n",
    "    리턴값:\n",
    "        학생들의 신상정보의 각 항목을 담은 사전 자료형\n",
    "    '''\n",
    "    std_data = {}\n",
    "    a_file = open(filename, u\"r\")\n",
    "    \n",
    "    for line in a_file.readlines():\n",
    "        if line[0] == '#' or line in string.whitespace:\n",
    "            continue\n",
    "        else:\n",
    "            item, value = line.split(':')\n",
    "            item = item.strip()\n",
    "            value = value.strip()\n",
    "\n",
    "            if item.strip() == 'Date of Birth':\n",
    "                value = date_of_birth(value)\n",
    "            std_data[item] = value\n",
    "            \n",
    "    return std_data"
   ]
  },
  {
   "cell_type": "code",
   "execution_count": 65,
   "metadata": {},
   "outputs": [
    {
     "data": {
      "text/plain": [
       "{'Date of Birth': (95, 4, 28),\n",
       " 'Department': 'Computer',\n",
       " 'Email': 'SatoByun@hknu.ac.kr',\n",
       " 'Name': 'Byun Sato',\n",
       " 'Student ID': '201700251003'}"
      ]
     },
     "execution_count": 65,
     "metadata": {},
     "output_type": "execute_result"
    }
   ],
   "source": [
    "record_getter('../../Data/Students_Records/Byun_Sato.txt')"
   ]
  },
  {
   "cell_type": "markdown",
   "metadata": {},
   "source": [
    "아래 코드에서 `all_records` 변수에는 처음 20명의 신성정보를 리스트로 담고 있다.\n",
    "각 항목은 각 학생의 신상정보를 사전으로 담고 있다.\n",
    "따라서 `all_records[:2]`은 첫 두 명의 신성정보를 리스트로 보여준다."
   ]
  },
  {
   "cell_type": "code",
   "execution_count": 67,
   "metadata": {},
   "outputs": [
    {
     "data": {
      "text/plain": [
       "[{'Date of Birth': (95, 4, 28),\n",
       "  'Department': 'Computer',\n",
       "  'Email': 'SatoByun@hknu.ac.kr',\n",
       "  'Name': 'Byun Sato',\n",
       "  'Student ID': '201700251003'},\n",
       " {'Date of Birth': (95, 9, 8),\n",
       "  'Department': 'Environment',\n",
       "  'Email': 'MatgolPi@hknu.ac.kr',\n",
       "  'Name': 'Pi Matgol',\n",
       "  'Student ID': '201600213023'},\n",
       " {'Date of Birth': (96, 12, 16),\n",
       "  'Department': 'Electronics',\n",
       "  'Email': 'RitgunSo@hknu.ac.kr',\n",
       "  'Name': 'So Ritgun',\n",
       "  'Student ID': '201600232039'}]"
      ]
     },
     "execution_count": 67,
     "metadata": {},
     "output_type": "execute_result"
    }
   ],
   "source": [
    "filenames = std_record_list('../../Data/Students_Records/')\n",
    "\n",
    "all_records = []\n",
    "for file in filenames:\n",
    "    data = record_getter(file)\n",
    "    all_records.append(data)\n",
    "    \n",
    "all_records"
   ]
  },
  {
   "cell_type": "markdown",
   "metadata": {},
   "source": [
    "이런 식으로 예를 들어 2번째 학생이 소속학과를 다음처럼 확인 가능하다."
   ]
  },
  {
   "cell_type": "code",
   "execution_count": 68,
   "metadata": {},
   "outputs": [
    {
     "data": {
      "text/plain": [
       "'Environment'"
      ]
     },
     "execution_count": 68,
     "metadata": {},
     "output_type": "execute_result"
    }
   ],
   "source": [
    "all_records[1]['Department']"
   ]
  },
  {
   "cell_type": "markdown",
   "metadata": {},
   "source": [
    "또는 1번째 학생의 이름을 확인한다."
   ]
  },
  {
   "cell_type": "code",
   "execution_count": 70,
   "metadata": {},
   "outputs": [
    {
     "data": {
      "text/plain": [
       "'Byun Sato'"
      ]
     },
     "execution_count": 70,
     "metadata": {},
     "output_type": "execute_result"
    }
   ],
   "source": [
    "all_records[0]['Name']"
   ]
  },
  {
   "cell_type": "markdown",
   "metadata": {},
   "source": [
    "## 연습문제"
   ]
  },
  {
   "cell_type": "markdown",
   "metadata": {},
   "source": [
    "### 연습"
   ]
  },
  {
   "cell_type": "markdown",
   "metadata": {
    "collapsed": true
   },
   "source": [
    "첫 번째 학생의 신상정보를 아래 형식으로 출력하는 코드를 작성하라.\n",
    "```\n",
    "제 이름은 ___이며, 나이는 ___살 입니다.\n",
    "```"
   ]
  },
  {
   "cell_type": "markdown",
   "metadata": {},
   "source": [
    "### 연습"
   ]
  },
  {
   "cell_type": "markdown",
   "metadata": {
    "collapsed": true
   },
   "source": [
    "전공이 `Computer`인 학생 이름의 리스트를 구하라."
   ]
  },
  {
   "cell_type": "markdown",
   "metadata": {},
   "source": [
    "### 연습"
   ]
  },
  {
   "cell_type": "markdown",
   "metadata": {
    "collapsed": true
   },
   "source": [
    "전공을 인자로 입력하면 해당 전공 학생들의 이름으로 구성된 리스트를 리턴하는 함수 `faculty_member` 함수를 구현하라."
   ]
  },
  {
   "cell_type": "code",
   "execution_count": null,
   "metadata": {
    "collapsed": true
   },
   "outputs": [],
   "source": []
  }
 ],
 "metadata": {
  "kernelspec": {
   "display_name": "Python 2",
   "language": "python",
   "name": "python2"
  },
  "language_info": {
   "codemirror_mode": {
    "name": "ipython",
    "version": 2
   },
   "file_extension": ".py",
   "mimetype": "text/x-python",
   "name": "python",
   "nbconvert_exporter": "python",
   "pygments_lexer": "ipython2",
   "version": "2.7.13"
  }
 },
 "nbformat": 4,
 "nbformat_minor": 2
}
