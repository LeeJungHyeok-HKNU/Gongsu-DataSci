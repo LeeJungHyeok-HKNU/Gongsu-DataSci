{
 "cells": [
  {
   "cell_type": "markdown",
   "metadata": {},
   "source": [
    "# 리스트, 튜플, 사전 활용"
   ]
  },
  {
   "cell_type": "markdown",
   "metadata": {},
   "source": [
    "## 주요 내용"
   ]
  },
  {
   "cell_type": "markdown",
   "metadata": {},
   "source": [
    "파이썬에 내장되어 있는 컬렉션 자료형을 살펴본다. \n",
    "특히, 리스트, 튜플, 사전에 대해 알아 본다.\n",
    "\n",
    "* **리스트(lists)**: 파이썬에서 사용할 수 있는 **임의의** 값들을 모아서 \n",
    "    하나의 값으로 취급하는 자료형\n",
    "\n",
    "    * 사용 형태: 대괄호 사용\n",
    "    ```\n",
    "    even_numbers_list = [2, 4, 6, 8, 10]\n",
    "    todays_datatypes_list = ['list', 'tuple', 'dictionary']\n",
    "    ```\n",
    "    \n",
    "    * 특징: 임의의 자료형 값들을 섞어서 항목으로 사용 가능\n",
    "    ```\n",
    "    mixed_list = [1, 'abs', [2.1, 4.5]]\n",
    "    ```\n",
    "\n",
    "    * 인덱스(index)를 이용하여 각각의 항목 접근 및 활용 가능\n",
    "    \n",
    "    * 리스트는 수정 가능하다. 즉, 가변 자료형이다. \n",
    "    \n",
    "    * 리스트와 관련되어 많이 사용되는 메소드는 다음과 같다.\n",
    "        * `append()`: 기존의 리스트 끝에 항목 추가\n",
    "        * `extend()`: 두 개의 리스트 이어붙이기\n",
    "        * `insert()`: 기존의 리스트 중간에 항목 삽입\n",
    "        * `pop()`, `remove()`, `del`: 항목 삭제\n",
    "    \n",
    "    \n",
    "* **튜플(tuples)**: 리스트와 비슷. 하지만 수정 불가능(immutable).\n",
    "    * 사용 형태: 소괄호 사용\n",
    "    ```\n",
    "    even_numbers_tuple = (2, 4, 6, 8, 10)\n",
    "    todays_datatypes_tuple = ('list', 'tuple', 'dictionary')\n",
    "    ```\n",
    "    \n",
    "    * 특징: 임의의 자료형 값들을 섞어서 항목으로 사용 가능\n",
    "    ```\n",
    "    mixed_tuple = (1, 'abs', [2.1, 4.5])\n",
    "    ```\n",
    "\n",
    "    * 인덱스(index)를 이용하여 각각의 항목 접근 및 활용 가능\n",
    "    \n",
    "    * 튜플은 수정 불가능하다. 즉, 불변 자료형이다. \n",
    "    \n",
    "    * 튜플 자료형은 불변 자료형이라서 메소드가 별로 없다. \n",
    "        많이 사용되는 두 개이다.\n",
    "        * `count()`: 튜플에 포함된 특정 항목이 몇 번 나타나는지 세어 줌.\n",
    "        * `index()`: 특정 항목의 인덱스가 몇 번인지 확인해 줌.\n",
    "\n",
    "\n",
    "* **사전(dictionaries)**: 키(keys)와 값(values)으로 이루어진 쌍(pairs)들의 집합\n",
    "    * 사용 형태: 집합기호 사용\n",
    "    ```\n",
    "    eng_math = {'year': 2017, 'semester' : 2, 'subject': 'Data Science'}\n",
    "    ```\n",
    "\n",
    "    * 특징\n",
    "        * 키로 사용될 수 있는 자료형: 문자열 등 불변 자료형 값\n",
    "        * 값으로 사용될 수 있는 자료형: 임의의 값\n",
    "\n",
    "    * 사전은 가변 자료형이다. \n",
    "        * `사전명[키명] = 값` 을 이용해 특정 항목의 키에 해당하는 값을 변경할 수 있다.\n",
    "\n",
    "        * `update()` 메소드: 항목 추가\n",
    "        * `del` 함수 또는 `pop()` 메소드: 특정 항목 삭제\n",
    "\n",
    "    * `items`, `keys`, `values` 등의 메소드를 이용하여 사전의 항목 확인 가능\n"
   ]
  },
  {
   "cell_type": "markdown",
   "metadata": {},
   "source": [
    "## 오늘의 주요 예제\n",
    "\n",
    "`record_list.txt` 파일은 여덟 명의 수영 선수의 50m 기록을 담고 있다.\n",
    "\n",
    "```txt\n",
    "player1 21.09 \n",
    "player2 20.32 \n",
    "player3 21.81 \n",
    "player4 22.97 \n",
    "player5 23.29 \n",
    "player6 22.09 \n",
    "player7 21.20 \n",
    "player8 22.16\n",
    "```\n",
    "\n",
    "목표: 위 파일로부터 1~3등 선수의 이름과 기록을 아래와 같이 확인하기\n",
    "```txt\n",
    "1등 player2 20.32 \n",
    "2등 player1 21.09 \n",
    "3등 player7 21.20 \n",
    "```\n",
    "\n",
    "**참조:** Head First Programming(한빛미디어) 4장~5장\n",
    "\n",
    "\n"
   ]
  },
  {
   "cell_type": "markdown",
   "metadata": {},
   "source": [
    "## 리스트 활용"
   ]
  },
  {
   "cell_type": "markdown",
   "metadata": {},
   "source": [
    "저장된 파일에서 데이터를 불러와서 한 줄씩 확인하는 방법은 다음과 같다."
   ]
  },
  {
   "cell_type": "code",
   "execution_count": 54,
   "metadata": {},
   "outputs": [
    {
     "name": "stdout",
     "output_type": "stream",
     "text": [
      "player1 21.09\n",
      "player2 20.32\n",
      "player3 21.81\n",
      "player4 22.97\n",
      "player5 23.29\n",
      "player6 22.09\n",
      "player7 21.20\n",
      "player8 22.16\n"
     ]
    }
   ],
   "source": [
    "record_f = open(\"record_list.txt\")\n",
    "record = record_f.read().decode('utf-8').split('\\n')\n",
    "record_f.close()\n",
    "\n",
    "for line in record:\n",
    "    print(line)"
   ]
  },
  {
   "cell_type": "markdown",
   "metadata": {},
   "source": [
    "위 코드에서 `record`에 저장된 값이 바로 리스트이다. "
   ]
  },
  {
   "cell_type": "code",
   "execution_count": 55,
   "metadata": {},
   "outputs": [
    {
     "name": "stdout",
     "output_type": "stream",
     "text": [
      "[u'player1 21.09', u'player2 20.32', u'player3 21.81', u'player4 22.97', u'player5 23.29', u'player6 22.09', u'player7 21.20', u'player8 22.16']\n"
     ]
    }
   ],
   "source": [
    "print(record)"
   ]
  },
  {
   "cell_type": "markdown",
   "metadata": {},
   "source": [
    "각각의 항목은 각 줄에 위치한 선수의 이름과 기록이다.\n",
    "예를 들어, 첫째 줄 선수의 이름과 기록은 다음과 같다.\n",
    "\n",
    "확인하는 방법은 인덱스를 이용한다."
   ]
  },
  {
   "cell_type": "code",
   "execution_count": 56,
   "metadata": {},
   "outputs": [
    {
     "name": "stdout",
     "output_type": "stream",
     "text": [
      "player1 21.09\n"
     ]
    }
   ],
   "source": [
    "print(record[0])"
   ]
  },
  {
   "cell_type": "markdown",
   "metadata": {},
   "source": [
    "각 인덱스 값의 자료형은 문자열이다."
   ]
  },
  {
   "cell_type": "code",
   "execution_count": 62,
   "metadata": {},
   "outputs": [
    {
     "name": "stdout",
     "output_type": "stream",
     "text": [
      "<type 'unicode'>\n"
     ]
    }
   ],
   "source": [
    "print(type(record[0]))"
   ]
  },
  {
   "cell_type": "markdown",
   "metadata": {},
   "source": [
    "인덱스를 활용하여 모든 선수의 기록을 다음과 확인할 수 있다.\n",
    "인덱스 활용은 앞서 문자열의 경우와 동일하다.\n",
    "\n",
    "**주의:** 아래 코드에서 `len(record) = 8`임에 주의하라."
   ]
  },
  {
   "cell_type": "code",
   "execution_count": 63,
   "metadata": {},
   "outputs": [
    {
     "name": "stdout",
     "output_type": "stream",
     "text": [
      "---\n",
      "player1 21.09\n",
      "---\n",
      "player2 20.32\n",
      "---\n",
      "player3 21.81\n",
      "---\n",
      "player4 22.97\n",
      "---\n",
      "player5 23.29\n",
      "---\n",
      "player6 22.09\n",
      "---\n",
      "player7 21.20\n",
      "---\n",
      "player8 22.16\n"
     ]
    }
   ],
   "source": [
    "for i in range(len(record)):\n",
    "    print('---')\n",
    "    print(record[i])"
   ]
  },
  {
   "cell_type": "markdown",
   "metadata": {},
   "source": [
    "### 연습\n",
    "\n",
    "위 코드를 응용하여 가장 빠른 50m 기록을 확인해 보자.\n",
    "\n",
    "힌트: 각 선수의 정보를 담은 문자열을 스페이스 기준으로 쪼갠 후, \n",
    "둘 째 항목(1번 인덱스 값)의 값들 중에서 최소값을 구해야 한다."
   ]
  },
  {
   "cell_type": "markdown",
   "metadata": {},
   "source": [
    "견본답안: "
   ]
  },
  {
   "cell_type": "code",
   "execution_count": 67,
   "metadata": {},
   "outputs": [
    {
     "name": "stdout",
     "output_type": "stream",
     "text": [
      "20.32\n"
     ]
    }
   ],
   "source": [
    "record_f = open(\"record_list.txt\", 'r')\n",
    "record = record_f.read().decode('utf8').split('\\n')\n",
    "\n",
    "lowest_record = 30\n",
    "\n",
    "for line in record:\n",
    "    if float(line.split()[1]) < lowest_record: \n",
    "        lowest_record = float(line.split()[1])\n",
    "record_f.close()\n",
    "\n",
    "print(lowest_record)"
   ]
  },
  {
   "cell_type": "markdown",
   "metadata": {},
   "source": [
    "위 코드의 5번 줄에 사용된 `line.split()`이 선수이름과 기록을 쪼개는 과정이다.\n",
    "\n",
    "아래 코드는 위 코드를 좀 더 세련되게 구현한 것이다. \n",
    "아래 코드의 5번 줄 내용은 `split()` 메소드를 이용하여 선수 이름과 기록으로 쪼개진\n",
    "각각의 값을 갖는 변수를 동시에 선언하고 있다.\n",
    "(**주의:** `splie()`의 결과로 길이가 2인 리스트를 얻는다는 것을 미리 예상하였음에 주의하라.)\n",
    "```\n",
    "(player, p_record) = line.split()\n",
    "```\n",
    "위와 같이 하면 다음 처럼 한 것과 동일한 일을 하게 된다.\n",
    "```python\n",
    "player = line.split()[0]\n",
    "p_record = line.split()[1]\n",
    "```"
   ]
  },
  {
   "cell_type": "code",
   "execution_count": 68,
   "metadata": {},
   "outputs": [
    {
     "name": "stdout",
     "output_type": "stream",
     "text": [
      "20.32\n"
     ]
    }
   ],
   "source": [
    "record_f = open(\"record_list.txt\", 'r')\n",
    "record = record_f.read().decode('utf8').split('\\n')\n",
    "\n",
    "lowest_record = 30\n",
    "\n",
    "for line in record:\n",
    "    (player, p_record) = line.split()\n",
    "    if float(p_record) < lowest_record: \n",
    "        lowest_record = float(p_record)\n",
    "record_f.close()\n",
    "\n",
    "print(lowest_record)"
   ]
  },
  {
   "cell_type": "markdown",
   "metadata": {},
   "source": [
    "### 연습\n",
    "\n",
    "지금까지 1등 선수의 기록을 확인하였다.\n",
    "그렇다면 2등 선수의 기록은 어떻게 확인하는가?\n",
    "\n",
    "단순하게 생각해서 아래와 같이 2등 선수의 기록도 기억하는 방식으로 처리할 수 있다."
   ]
  },
  {
   "cell_type": "code",
   "execution_count": 69,
   "metadata": {},
   "outputs": [
    {
     "name": "stdout",
     "output_type": "stream",
     "text": [
      "20.32\n",
      "21.2\n"
     ]
    }
   ],
   "source": [
    "record_f = open(\"record_list.txt\", 'r')\n",
    "record = record_f.read().decode('utf8').split('\\n')\n",
    "\n",
    "lowest_record = 30\n",
    "second_lowest_record = 31\n",
    "\n",
    "for line in record:\n",
    "    (player, p_record) = line.split()\n",
    "    if float(p_record) < lowest_record: \n",
    "        lowest_record = float(p_record)\n",
    "    elif float(p_record) < second_lowest_record:\n",
    "        second_lowest_record = float(p_record)\n",
    "record_f.close()\n",
    "\n",
    "print(lowest_record)\n",
    "print(second_lowest_record)"
   ]
  },
  {
   "cell_type": "markdown",
   "metadata": {},
   "source": [
    "### 연습: `append()` 메소드 활용\n",
    "\n",
    "3등, 4등, ... 의 기록을 위와같이 계속해서 `if... else...`문을 반복해서 구해야 하는가?\n",
    "그렇게 할 경우 코드가 얼마나 길어져야 하는가?\n",
    "하지만 이와 같이 하는 일에 따라 코드의 모양과 길이가 심하게 변하는 코드는 피해야 한다.\n",
    "\n",
    "**질문:** 그렇다면 점수만 뽑아서 모은 다음에 점수들을 순서대로 나열하는 방법이 있으면 좋지 않을까?\n",
    "\n",
    "**답:** 매우 그렇다.\n",
    "\n",
    "**방법:** `split()`, `append()` 메소드를 아래와 같이 `for` 문과 함께 활용하면 됨."
   ]
  },
  {
   "cell_type": "code",
   "execution_count": 71,
   "metadata": {},
   "outputs": [
    {
     "name": "stdout",
     "output_type": "stream",
     "text": [
      "[21.09, 20.32, 21.81, 22.97, 23.29, 22.09, 21.2, 22.16]\n"
     ]
    }
   ],
   "source": [
    "record_f = open(\"record_list.txt\", 'r')\n",
    "record = record_f.read().decode('utf8').split('\\n')\n",
    "\n",
    "time_only = []\n",
    "\n",
    "for line in record:\n",
    "    (player, p_record) = line.split()\n",
    "    time_only.append(float(p_record))\n",
    "\n",
    "record_f.close()\n",
    "\n",
    "print(time_only)"
   ]
  },
  {
   "cell_type": "markdown",
   "metadata": {},
   "source": [
    "위 코드는 선수이름과 시간기록을 쪼갠 후 시간기록만 따로 새로운 리스트인 `time_only`에 \n",
    "추가하는 방식으로 저장하는 내용이다.\n",
    "\n",
    "**주의:** 추가하기 전에 `float()` 함수를 활용하는 것이 좋다."
   ]
  },
  {
   "cell_type": "markdown",
   "metadata": {},
   "source": [
    "이제 위 리스트를 크기 순으로 정렬할 수 있다."
   ]
  },
  {
   "cell_type": "code",
   "execution_count": 74,
   "metadata": {},
   "outputs": [],
   "source": [
    "time_only.sort()"
   ]
  },
  {
   "cell_type": "markdown",
   "metadata": {},
   "source": [
    "그러면 순서가 오름차순으로 정렬된다."
   ]
  },
  {
   "cell_type": "code",
   "execution_count": 75,
   "metadata": {},
   "outputs": [
    {
     "name": "stdout",
     "output_type": "stream",
     "text": [
      "[20.32, 21.09, 21.2, 21.81, 22.09, 22.16, 22.97, 23.29]\n"
     ]
    }
   ],
   "source": [
    "print(time_only)"
   ]
  },
  {
   "cell_type": "markdown",
   "metadata": {},
   "source": [
    "이제 1, 2, 3등의 기록을 확인하기는 매우 쉽다."
   ]
  },
  {
   "cell_type": "code",
   "execution_count": 76,
   "metadata": {},
   "outputs": [
    {
     "name": "stdout",
     "output_type": "stream",
     "text": [
      "1등 기록은 20.32 입니다.\n"
     ]
    }
   ],
   "source": [
    "from __future__ import print_function\n",
    "\n",
    "print(\"1등 기록은\", time_only[0], \"입니다.\")"
   ]
  },
  {
   "cell_type": "code",
   "execution_count": 77,
   "metadata": {},
   "outputs": [
    {
     "name": "stdout",
     "output_type": "stream",
     "text": [
      "2등 기록은 21.09 입니다.\n"
     ]
    }
   ],
   "source": [
    "print(\"2등 기록은\", time_only[1], \"입니다.\")"
   ]
  },
  {
   "cell_type": "code",
   "execution_count": 78,
   "metadata": {},
   "outputs": [
    {
     "name": "stdout",
     "output_type": "stream",
     "text": [
      "3등 기록은 21.2 입니다.\n"
     ]
    }
   ],
   "source": [
    "print(\"3등 기록은\", time_only[2], \"입니다.\")"
   ]
  },
  {
   "cell_type": "markdown",
   "metadata": {},
   "source": [
    "1~3등의 기록을 한꺼번에 확인할 수 있다."
   ]
  },
  {
   "cell_type": "code",
   "execution_count": 79,
   "metadata": {},
   "outputs": [
    {
     "name": "stdout",
     "output_type": "stream",
     "text": [
      "1 등 기록은 20.32 입니다.\n",
      "2 등 기록은 21.09 입니다.\n",
      "3 등 기록은 21.2 입니다.\n"
     ]
    }
   ],
   "source": [
    "for i in range(3):\n",
    "    print(i+1, \"등 기록은\", time_only[i], \"입니다.\")"
   ]
  },
  {
   "cell_type": "markdown",
   "metadata": {},
   "source": [
    "### 연습: 슬라이싱 활용\n",
    "\n",
    "슬라이싱 기술은 문자열의 경우와 동일하다.\n",
    "\n",
    "1~3등의 기록을 다음처럼 슬라이싱을 이용하여 구할 수도 있다."
   ]
  },
  {
   "cell_type": "code",
   "execution_count": 81,
   "metadata": {},
   "outputs": [
    {
     "name": "stdout",
     "output_type": "stream",
     "text": [
      "20.32\n",
      "21.09\n",
      "21.2\n"
     ]
    }
   ],
   "source": [
    "first_3 = time_only[:3]\n",
    "\n",
    "for item in first_3:\n",
    "    print(item)"
   ]
  }
 ],
 "metadata": {
  "kernelspec": {
   "display_name": "Python 2",
   "language": "python",
   "name": "python2"
  },
  "language_info": {
   "codemirror_mode": {
    "name": "ipython",
    "version": 2
   },
   "file_extension": ".py",
   "mimetype": "text/x-python",
   "name": "python",
   "nbconvert_exporter": "python",
   "pygments_lexer": "ipython2",
   "version": "2.7.13"
  }
 },
 "nbformat": 4,
 "nbformat_minor": 2
}
