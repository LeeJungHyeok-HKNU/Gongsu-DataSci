{
 "cells": [
  {
   "cell_type": "markdown",
   "metadata": {},
   "source": [
    "# 조건문과 반복 제어문 활용"
   ]
  },
  {
   "cell_type": "markdown",
   "metadata": {},
   "source": [
    "## 요약\n",
    "\n",
    "* 조건문 활용\n",
    "    * `if`문: 불리언 값을 이용하여 조건을 제시하는 방법\n",
    "\n",
    "\n",
    "* 루프(반복문) 활용\n",
    "    * `while` 루프: 특정 조건이 만족되는 동안 동일한 과정을 반복하는 방법\n",
    "\n",
    "    * `for` 루프: 특정 구간 내에서 동일한 과정을 반복하는 방법.\n",
    "        * `range` 함수의 활용"
   ]
  },
  {
   "cell_type": "markdown",
   "metadata": {},
   "source": [
    "### 최종 목표\n",
    "\n",
    "* 두 정수의 최대공약수를 구하는 함수: `gcd()`\n",
    "```\n",
    "gcd(6, 8) = 2\n",
    "gcd(14, 21) = 3\n",
    "```\n",
    "\n",
    "* 자연수 n이 주어졌을 때, 1부터 n까지의 자연수 중에서 3의 배수이거나 숫자 3을 포함하는\n",
    "숫자들의 합을 구하는 함수 `sum_of_3s()` 구현하기:\n",
    "```\n",
    "sum_of_3s(10) = 3 + 6 + 9\n",
    "sum_of_3s(15) = 3 + 6 + 9 + 12 + 13 + 15\n",
    "```"
   ]
  },
  {
   "cell_type": "markdown",
   "metadata": {},
   "source": [
    "## 조건문\n",
    "\n",
    "어떤 일은 특정 조건 하에서만 할 수 있는 경우가 있다. \n",
    "\n",
    "예를 들어, **숫자 k가 3의 배수이거나 3으로 끝나는 경우에만** 그 값을 다른 값에 더하라고 할 수 있다.\n",
    "\n",
    "위 문장을 코드로 나타내려면 아래 요소들이 필요하다. \n",
    "\n",
    "* __이런저런__ 경우에만 __무엇무엇__을 해라.\n",
    "* 숫자 k가 3의 배수이다.\n",
    "* 숫자 k가 숫자 3으로 끝난다."
   ]
  },
  {
   "cell_type": "markdown",
   "metadata": {},
   "source": [
    "* \"이런저런 경우에만 무엇무엇을 해라\"는 `if`문으로 나타낸다.\n",
    "```\n",
    "if 이런저런:\n",
    "    무엇무엇\n",
    "```"
   ]
  },
  {
   "cell_type": "markdown",
   "metadata": {},
   "source": [
    "* \"숫자 k가 3의 배수이다\"는 아래 수식으로 표현된다.\n",
    "```\n",
    "k % 3 == 0\n",
    "```"
   ]
  },
  {
   "cell_type": "markdown",
   "metadata": {},
   "source": [
    "* \"숫자 k가 숫자 3으로 끝난다\"는 좀 더 어렵지만, 앞서 배운 문자열 메소드를 활용하면 된다.\n",
    "```\n",
    "str(k).endswith('3')\n",
    "```\n",
    "\n",
    "여기서 `str()` 함수는 숫자를 문자열로 형변환 시키는 함수이다. \n",
    "`int()` 또는 `float()` 함수와 반대의 일을 한다."
   ]
  },
  {
   "cell_type": "markdown",
   "metadata": {},
   "source": [
    "### 예제\n",
    "\n",
    "두 개의 숫자 k, m이 주어졌을 때, 만약 m이\n",
    "3의 배수이거나 3으로 끝나는 숫자일 경우에만\n",
    "k와 m을 더하는 함수 `sum_if_3()`를 구현하라."
   ]
  },
  {
   "cell_type": "markdown",
   "metadata": {},
   "source": [
    "견본답안:"
   ]
  },
  {
   "cell_type": "code",
   "execution_count": 12,
   "metadata": {},
   "outputs": [],
   "source": [
    "def sum_if_3(m, k):\n",
    "    if (k % 3 == 0) or (str(k).endswith('3')):\n",
    "        return m + k\n",
    "    else:\n",
    "        return m"
   ]
  },
  {
   "cell_type": "markdown",
   "metadata": {},
   "source": [
    "**주의:** `else`문은 `if`문에서 다루는 경우가 성립하지 않을 때 무슨 일을 해야할지를 정한다."
   ]
  },
  {
   "cell_type": "code",
   "execution_count": 13,
   "metadata": {},
   "outputs": [
    {
     "data": {
      "text/plain": [
       "23"
      ]
     },
     "execution_count": 13,
     "metadata": {},
     "output_type": "execute_result"
    }
   ],
   "source": [
    "sum_if_3(5, 18)"
   ]
  },
  {
   "cell_type": "code",
   "execution_count": 14,
   "metadata": {},
   "outputs": [
    {
     "data": {
      "text/plain": [
       "4"
      ]
     },
     "execution_count": 14,
     "metadata": {},
     "output_type": "execute_result"
    }
   ],
   "source": [
    "sum_if_3(4, 7)"
   ]
  },
  {
   "cell_type": "markdown",
   "metadata": {},
   "source": [
    "### 예제\n",
    "\n",
    "두 개의 숫자 k, m이 주어졌을 때, 만약 m이\n",
    "3의 배수이거나 숫자 3을 포함하는 경우에만\n",
    "k와 m을 더하는 함수 `sum_if_3s()`를 구현하라."
   ]
  },
  {
   "cell_type": "markdown",
   "metadata": {},
   "source": [
    "이 문제를 풀기 위해서는 문자열에 특정 문자열이 부분문자열로 포함되어 있는지를 판단해야 하는데 \n",
    "아래 예제와 같이 `in` 함수를 이용할 수 있다."
   ]
  },
  {
   "cell_type": "code",
   "execution_count": 25,
   "metadata": {},
   "outputs": [
    {
     "name": "stdout",
     "output_type": "stream",
     "text": [
      "'bc'가 'abcde'의 부분문자열이다.\n"
     ]
    }
   ],
   "source": [
    "if 'bc' in 'abcde':\n",
    "    print(\"'bc'가 'abcde'의 부분문자열이다.\")"
   ]
  },
  {
   "cell_type": "markdown",
   "metadata": {},
   "source": [
    "견본답안:"
   ]
  },
  {
   "cell_type": "code",
   "execution_count": 18,
   "metadata": {
    "collapsed": true
   },
   "outputs": [],
   "source": [
    "def sum_if_3s(m, k):\n",
    "    if (k % 3 == 0) or ('3' in str(k)):\n",
    "        return m + k\n",
    "    else:\n",
    "        return m"
   ]
  },
  {
   "cell_type": "code",
   "execution_count": 19,
   "metadata": {},
   "outputs": [
    {
     "data": {
      "text/plain": [
       "33"
      ]
     },
     "execution_count": 19,
     "metadata": {},
     "output_type": "execute_result"
    }
   ],
   "source": [
    "sum_if_3s(2, 31)"
   ]
  },
  {
   "cell_type": "code",
   "execution_count": 22,
   "metadata": {},
   "outputs": [
    {
     "data": {
      "text/plain": [
       "18"
      ]
     },
     "execution_count": 22,
     "metadata": {},
     "output_type": "execute_result"
    }
   ],
   "source": [
    "sum_if_3s(3, 15)"
   ]
  },
  {
   "cell_type": "code",
   "execution_count": 23,
   "metadata": {},
   "outputs": [
    {
     "data": {
      "text/plain": [
       "13"
      ]
     },
     "execution_count": 23,
     "metadata": {},
     "output_type": "execute_result"
    }
   ],
   "source": [
    "sum_if_3s(13, 28)"
   ]
  },
  {
   "cell_type": "markdown",
   "metadata": {},
   "source": [
    "### 중첩 조건문과 일반화된 조건문\n",
    "\n",
    "`if ... else ...` 문은 두 가지 경우를 처리할 때 사용한다.\n",
    "\n",
    "반면에, 예를 들어, 크거나, 같거나, 작거나 등 세 가지 이상의 경우를 \n",
    "처리하려면 `if ... else ...`문을 중첩해서 사용하거나\n",
    "`if ... elif ... elif ... else ...` 처럼 일반화된 조건문을\n",
    "사용할 수 있다."
   ]
  },
  {
   "cell_type": "markdown",
   "metadata": {},
   "source": [
    "* 중첩 조건문 활용 예제"
   ]
  },
  {
   "cell_type": "code",
   "execution_count": 26,
   "metadata": {},
   "outputs": [
    {
     "name": "stdout",
     "output_type": "stream",
     "text": [
      "num1이 num2 보다 작다.\n"
     ]
    }
   ],
   "source": [
    "num1 = 5\n",
    "num2 = 10\n",
    "\n",
    "if num1 < num2:\n",
    "    print(\"num1이 num2 보다 작다.\")\n",
    "else:\n",
    "    if num1 == num2:\n",
    "        print(\"num1이 num2와 같다.\")\n",
    "    else:\n",
    "        print(\"num1이 num2 보다 크다.\")"
   ]
  },
  {
   "cell_type": "markdown",
   "metadata": {},
   "source": [
    "* 일반화된 조건문 활용 예제"
   ]
  },
  {
   "cell_type": "code",
   "execution_count": 27,
   "metadata": {},
   "outputs": [
    {
     "name": "stdout",
     "output_type": "stream",
     "text": [
      "num1이 num2 보다 작다.\n"
     ]
    }
   ],
   "source": [
    "num1 = 5\n",
    "num2 = 10\n",
    "\n",
    "if num1 < num2:\n",
    "    print(\"num1이 num2 보다 작다.\")\n",
    "elif num1 == num2:\n",
    "    print(\"num1이 num2와 같다.\")\n",
    "else:\n",
    "    print(\"num1이 num2 보다 크다.\")"
   ]
  },
  {
   "cell_type": "markdown",
   "metadata": {
    "collapsed": true
   },
   "source": [
    "**주의:** `if`문의 중첩 정도는 임의로 복잡해질 수 있다. \n",
    "따라서 가능하면 일반화된 조건문을 사용하면 다루기가 보다 쉬워진다."
   ]
  },
  {
   "cell_type": "markdown",
   "metadata": {},
   "source": [
    "## 루프(반복문)"
   ]
  },
  {
   "cell_type": "markdown",
   "metadata": {},
   "source": [
    "**루프(반복문)**은 동일한 코드를 반복해서 실행시킬 때 사용한다. \n",
    "루프를 만들기 위해 `for` 루프와 `while` 루프를 사용한다. \n",
    "\n",
    "* `for` 루프: 루프를 몇 번 돌릴지 미리 알 수 있는 경우 사용\n",
    "* `while`루프: 특정 조건이 만족되는 동안 루프를 사용하고자 할 경우\n",
    "\n",
    "여기서는 먼저 `while` 루프를 살펴보고 이후에 `for` 루프를 살펴본다."
   ]
  },
  {
   "cell_type": "markdown",
   "metadata": {},
   "source": [
    "## `while` 루프"
   ]
  },
  {
   "cell_type": "markdown",
   "metadata": {},
   "source": [
    "`while` 루프는 항상 아래 모양을 갖는다:\n",
    "\n",
    "```python\n",
    "while 조건:\n",
    "    본문코드1\n",
    "    본문코드2\n",
    "    ...\n",
    "```\n",
    "\n",
    "__조건__이 참이 되는 동안 본문코드들이 실행된다."
   ]
  },
  {
   "cell_type": "markdown",
   "metadata": {},
   "source": [
    "### 예제\n",
    "정수들을 나누어 몫을 구하는 코드를 작성해보자.\n",
    "몫을 어떻게 구현할까? \n",
    "\n",
    "* 먼저 몫이 어떤 의미인가를 알아야 한다.\n",
    "* 그 다음에 그 의미를 구현하는 코드를 작성한다. \n",
    "\n",
    "어떤 정수 `a`를 다른 정수 `b`로 나누었을 때의 몫은 `a`에서 `b`를 몇 번 뺄 수 있는가와 동일한 의미를 갖는다.\n",
    "즉, `a`에서 `b`를 반복해서 빼주는 과정이 필요하고 이 과정을 음수가 되지 않을 때까지만 반복해야 한다. \n",
    "\n",
    "예를 들어 43을 7로 나누었을 때의 몫은 다음과 같이 구할 수 있다."
   ]
  },
  {
   "cell_type": "code",
   "execution_count": 30,
   "metadata": {},
   "outputs": [
    {
     "name": "stdout",
     "output_type": "stream",
     "text": [
      "몫은 6 이다\n"
     ]
    }
   ],
   "source": [
    "# 좀 더 세련된 print 함수를 사용하고자 한다.\n",
    "from __future__ import print_function\n",
    "\n",
    "number = 43\n",
    "divisor = 7\n",
    "answer = 0\n",
    "\n",
    "# While 루프\n",
    "while number > 0:\n",
    "    number = number - divisor\n",
    "    # 음수가 아니라면 빼주는 횟수를 1회 늘린다.\n",
    "    if number > 0:\n",
    "        answer += 1\n",
    "\n",
    "# 이제 answer를 출력하면 된다.\n",
    "print('몫은', answer, '이다')"
   ]
  },
  {
   "cell_type": "markdown",
   "metadata": {},
   "source": [
    "'while' 루프를 작성할 때 조건문이 언젠가는 만족되지 않아서 더 이상 루프가 돌지 않도록 코드를 작성하는 것이 가장 중요하다. "
   ]
  },
  {
   "cell_type": "markdown",
   "metadata": {},
   "source": [
    "### 연습\n",
    "\n",
    "두 정수의 최대공약수(gcd)를 리턴하는 함수를 구현하라.\n",
    "\n",
    "힌트: 유클리드 호제법을 활용하라. 아래 사이트 참조: http://tibyte.kr/224"
   ]
  },
  {
   "cell_type": "markdown",
   "metadata": {},
   "source": [
    "견본답안:"
   ]
  },
  {
   "cell_type": "code",
   "execution_count": 35,
   "metadata": {
    "collapsed": true
   },
   "outputs": [],
   "source": [
    "def gcd(a, b):\n",
    "    if a < b:\n",
    "        # 이 경우에는 a와 b의 값을 서로 바꾼다.\n",
    "        a, b = b, a\n",
    "    while b != 0:\n",
    "        (a, b) = (b, a % b)\n",
    "    return a"
   ]
  },
  {
   "cell_type": "markdown",
   "metadata": {},
   "source": [
    "**주의:** 파이썬에서 두 변수에 할당된 값을 맞교환 하는 방법이 매우 간단하다.\n",
    "하지만 C 또는 자바에서는 다르게 처리해야 한다. \n",
    "예를 들어, 아래와 같은 방식을 이용할 수 있다.\n",
    "```C\n",
    "int a = 3\n",
    "int b = 5\n",
    "int c\n",
    "\n",
    "c = a\n",
    "a = b\n",
    "b = c\n",
    "```"
   ]
  },
  {
   "cell_type": "code",
   "execution_count": 33,
   "metadata": {},
   "outputs": [
    {
     "data": {
      "text/plain": [
       "2"
      ]
     },
     "execution_count": 33,
     "metadata": {},
     "output_type": "execute_result"
    }
   ],
   "source": [
    "gcd(6, 8)"
   ]
  },
  {
   "cell_type": "code",
   "execution_count": 34,
   "metadata": {},
   "outputs": [
    {
     "data": {
      "text/plain": [
       "7"
      ]
     },
     "execution_count": 34,
     "metadata": {},
     "output_type": "execute_result"
    }
   ],
   "source": [
    "gcd(14, 21)"
   ]
  },
  {
   "cell_type": "markdown",
   "metadata": {},
   "source": [
    "## `for` 루프"
   ]
  },
  {
   "cell_type": "markdown",
   "metadata": {},
   "source": [
    "**TO DO:** 최종 목표에 맞추어 아래 내용 수정 요구됨."
   ]
  },
  {
   "cell_type": "code",
   "execution_count": null,
   "metadata": {
    "collapsed": true
   },
   "outputs": [],
   "source": []
  },
  {
   "cell_type": "code",
   "execution_count": null,
   "metadata": {
    "collapsed": true
   },
   "outputs": [],
   "source": []
  },
  {
   "cell_type": "code",
   "execution_count": null,
   "metadata": {
    "collapsed": true
   },
   "outputs": [],
   "source": []
  },
  {
   "cell_type": "markdown",
   "metadata": {},
   "source": [
    "`while` 루푸와는 달리 몇 번 반복되어야 하는지를 아는 경우 `for` 루프를 사용할 수 있다.\n",
    "`for` 루프는 아래의 양식을 갖는다:\n",
    "\n",
    "```python\n",
    "    for 항목변수 in 컬렉션 자료형 값:\n",
    "        코드1\n",
    "        코드2\n",
    "        ...\n",
    "```\n",
    "\n",
    "컬렉션자료형 값으로는 리스트, 문자열, 어레이 등 컬렉션 자료형 값들이 사용된다. \n",
    "\n",
    "무엇보다도 `range()` 함수의 리턴값이 자주 사용된다. `range()` 함수는 특정 구간의 값들의 수열을 리턴하지만 그 수열을 직접 확인할 수는 없다."
   ]
  },
  {
   "cell_type": "code",
   "execution_count": 9,
   "metadata": {},
   "outputs": [
    {
     "name": "stdout",
     "output_type": "stream",
     "text": [
      "a\n",
      "d\n",
      "a\n",
      "m\n"
     ]
    }
   ],
   "source": [
    "for a in \"adam\":\n",
    "    print(a)"
   ]
  },
  {
   "cell_type": "code",
   "execution_count": 11,
   "metadata": {},
   "outputs": [
    {
     "name": "stdout",
     "output_type": "stream",
     "text": [
      "0\n",
      "1\n",
      "2\n",
      "3\n"
     ]
    }
   ],
   "source": [
    "for x in [0,1, 2, 3]:\n",
    "    print(x)"
   ]
  },
  {
   "cell_type": "code",
   "execution_count": 12,
   "metadata": {},
   "outputs": [
    {
     "name": "stdout",
     "output_type": "stream",
     "text": [
      "0\n",
      "1\n",
      "2\n",
      "3\n"
     ]
    }
   ],
   "source": [
    "for x in range(4):\n",
    "    print(x)"
   ]
  },
  {
   "cell_type": "code",
   "execution_count": 16,
   "metadata": {},
   "outputs": [
    {
     "data": {
      "text/plain": [
       "range(1, 5)"
      ]
     },
     "execution_count": 16,
     "metadata": {},
     "output_type": "execute_result"
    }
   ],
   "source": [
    "range(1, 5) # [1, 2, 3, 4]"
   ]
  },
  {
   "cell_type": "code",
   "execution_count": 14,
   "metadata": {},
   "outputs": [
    {
     "data": {
      "text/plain": [
       "range"
      ]
     },
     "execution_count": 14,
     "metadata": {},
     "output_type": "execute_result"
    }
   ],
   "source": [
    "type(range(1, 5)) # [1, 2, 3, 4]"
   ]
  },
  {
   "cell_type": "code",
   "execution_count": 15,
   "metadata": {},
   "outputs": [
    {
     "data": {
      "text/plain": [
       "list"
      ]
     },
     "execution_count": 15,
     "metadata": {},
     "output_type": "execute_result"
    }
   ],
   "source": [
    "type([1,2,3,4])"
   ]
  },
  {
   "cell_type": "markdown",
   "metadata": {},
   "source": [
    "이유는 리턴값이 이터레이터(iterator)를 내포한 자료형이기 때문이며, 구성원들을 보려면 `for` 루프를 이용하면 된다."
   ]
  },
  {
   "cell_type": "code",
   "execution_count": 17,
   "metadata": {},
   "outputs": [
    {
     "name": "stdout",
     "output_type": "stream",
     "text": [
      "1\n",
      "2\n",
      "3\n",
      "4\n"
     ]
    }
   ],
   "source": [
    "for i in range(1, 5):\n",
    "    print(i)"
   ]
  },
  {
   "cell_type": "markdown",
   "metadata": {},
   "source": [
    "즉, `range(1,5)`를 호출하여 리턴된 값은 1, 2, 3, 4로 이루어져 있는데 `for`문의 본문이 돌 때마다 변수 `i`의 값이 차례대로 1, 2, 3, 4로 변경된다.\n",
    "\n",
    "다른 예를 살펴보자."
   ]
  },
  {
   "cell_type": "code",
   "execution_count": 14,
   "metadata": {},
   "outputs": [
    {
     "name": "stdout",
     "output_type": "stream",
     "text": [
      "1\n",
      "3\n",
      "36\n",
      "---\n",
      "2\n",
      "6\n",
      "36\n",
      "---\n",
      "3\n",
      "9\n",
      "36\n",
      "---\n",
      "4\n",
      "12\n",
      "36\n",
      "---\n"
     ]
    }
   ],
   "source": [
    "for i in range(1, 5):\n",
    "    print(i)\n",
    "    print(i*3)\n",
    "    i = 12\n",
    "    print(i*3)\n",
    "    print('---')"
   ]
  },
  {
   "cell_type": "code",
   "execution_count": null,
   "metadata": {
    "collapsed": true
   },
   "outputs": [],
   "source": [
    "while True:\n",
    "    print(1)"
   ]
  },
  {
   "cell_type": "markdown",
   "metadata": {},
   "source": [
    "`for` 루프를 이용하여 컬렉션 자료형에 사용된 모든 항목들을 차례대로 확인하여 이용할 수 있다.\n",
    "\n",
    "예를 들어 문자열에 사용된 모든 문자들을 확인하여 이용할 수 있다. 그러기 위해 문자열의 길이와 `range()` 함수를 다음처럼 활용하면 된다. "
   ]
  },
  {
   "cell_type": "code",
   "execution_count": 18,
   "metadata": {},
   "outputs": [
    {
     "name": "stdout",
     "output_type": "stream",
     "text": [
      "h\n",
      "a\n",
      "m\n",
      "s\n"
     ]
    }
   ],
   "source": [
    "phrase = 'hams'\n",
    "\n",
    "for i in range(4):\n",
    "    print( phrase[i] )"
   ]
  },
  {
   "cell_type": "code",
   "execution_count": 19,
   "metadata": {},
   "outputs": [
    {
     "name": "stdout",
     "output_type": "stream",
     "text": [
      "h\n",
      "a\n",
      "m\n",
      "s\n"
     ]
    }
   ],
   "source": [
    "for i in 'hams':\n",
    "    print(i)"
   ]
  },
  {
   "cell_type": "markdown",
   "metadata": {},
   "source": [
    "문자열의 길이가 `range()` 함수에 사용되는 인자보다 작으면 오류가 발생한다. "
   ]
  },
  {
   "cell_type": "code",
   "execution_count": 16,
   "metadata": {},
   "outputs": [
    {
     "name": "stdout",
     "output_type": "stream",
     "text": [
      "h\n",
      "a\n",
      "m\n",
      "s\n"
     ]
    },
    {
     "ename": "IndexError",
     "evalue": "string index out of range",
     "output_type": "error",
     "traceback": [
      "\u001b[0;31m---------------------------------------------------------------------------\u001b[0m",
      "\u001b[0;31mIndexError\u001b[0m                                Traceback (most recent call last)",
      "\u001b[0;32m<ipython-input-16-70b7ce79e30d>\u001b[0m in \u001b[0;36m<module>\u001b[0;34m()\u001b[0m\n\u001b[1;32m      2\u001b[0m \u001b[0;34m\u001b[0m\u001b[0m\n\u001b[1;32m      3\u001b[0m \u001b[0;32mfor\u001b[0m \u001b[0mi\u001b[0m \u001b[0;32min\u001b[0m \u001b[0mrange\u001b[0m\u001b[0;34m(\u001b[0m\u001b[0;36m5\u001b[0m\u001b[0;34m)\u001b[0m\u001b[0;34m:\u001b[0m\u001b[0;34m\u001b[0m\u001b[0m\n\u001b[0;32m----> 4\u001b[0;31m     \u001b[0mprint\u001b[0m\u001b[0;34m(\u001b[0m \u001b[0mphrase\u001b[0m\u001b[0;34m[\u001b[0m\u001b[0mi\u001b[0m\u001b[0;34m]\u001b[0m \u001b[0;34m)\u001b[0m\u001b[0;34m\u001b[0m\u001b[0m\n\u001b[0m",
      "\u001b[0;31mIndexError\u001b[0m: string index out of range"
     ]
    }
   ],
   "source": [
    "phrase = 'hams'\n",
    "\n",
    "for i in range(5):\n",
    "    print( phrase[i] )"
   ]
  },
  {
   "cell_type": "markdown",
   "metadata": {},
   "source": [
    "#### 연습\n",
    "\n",
    "위 코드를 수정하여 문자열에 있는 소문자 `a`를 대문자 `A`로 변경하여 새로운 문자열을 생성하는 코드를 작성하라.\n",
    "\n",
    "예를 들어, \"aardvarks\"를 이용하여 \"AArdvArks\"를 생성하는 코드를 작성하라."
   ]
  },
  {
   "cell_type": "code",
   "execution_count": 17,
   "metadata": {
    "collapsed": true
   },
   "outputs": [],
   "source": [
    "phrase = 'aardvarks'\n",
    "\n",
    "\n"
   ]
  },
  {
   "cell_type": "markdown",
   "metadata": {},
   "source": [
    "# 연습문제"
   ]
  },
  {
   "cell_type": "markdown",
   "metadata": {},
   "source": [
    "#### 연습\n",
    "음의 정수를 음의 정수로 나누어 몫을 구하는 코드를 구하라."
   ]
  },
  {
   "cell_type": "code",
   "execution_count": 11,
   "metadata": {
    "collapsed": true
   },
   "outputs": [],
   "source": [
    "# 음수의 나눗셈을 이용하여 몫을 구하는 코드\n",
    "\n"
   ]
  },
  {
   "cell_type": "markdown",
   "metadata": {},
   "source": [
    "앞서 양의 정수를 양의 정수로, 음의 정수를 음의 정수로 나누어 몫을 구하는 코드를 따로따로 구현하였다. 이제 음수와 양수를 구분하지 않고 몫을 계산하는 코드를 구현하라."
   ]
  },
  {
   "cell_type": "code",
   "execution_count": 18,
   "metadata": {
    "collapsed": true
   },
   "outputs": [],
   "source": [
    "# 음수, 양수를 구분하지 않고 나눗셈 몫 구하기\n"
   ]
  },
  {
   "cell_type": "markdown",
   "metadata": {},
   "source": [
    "아래 문자열\n",
    "\n",
    "' n o r t h w e s t e r n'\n",
    "\n",
    "을 이용하여 아래 문자열을 생성하는 코드를 구현하라:\n",
    "\n",
    "'Northwestern'"
   ]
  },
  {
   "cell_type": "code",
   "execution_count": 19,
   "metadata": {
    "collapsed": true
   },
   "outputs": [],
   "source": [
    "word = ' n o r t h w e s t e r n'\n",
    "\n"
   ]
  }
 ],
 "metadata": {
  "anaconda-cloud": {},
  "kernelspec": {
   "display_name": "Python 2",
   "language": "python",
   "name": "python2"
  },
  "language_info": {
   "codemirror_mode": {
    "name": "ipython",
    "version": 2
   },
   "file_extension": ".py",
   "mimetype": "text/x-python",
   "name": "python",
   "nbconvert_exporter": "python",
   "pygments_lexer": "ipython2",
   "version": "2.7.13"
  }
 },
 "nbformat": 4,
 "nbformat_minor": 1
}
