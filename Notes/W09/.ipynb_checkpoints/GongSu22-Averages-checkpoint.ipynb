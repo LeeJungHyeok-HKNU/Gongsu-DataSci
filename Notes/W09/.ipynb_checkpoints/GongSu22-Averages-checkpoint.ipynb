{
 "cells": [
  {
   "cell_type": "markdown",
   "metadata": {},
   "source": [
    "# 평균(Average) 구하기"
   ]
  },
  {
   "cell_type": "markdown",
   "metadata": {},
   "source": [
    "## 오늘의 주요 예제"
   ]
  },
  {
   "cell_type": "markdown",
   "metadata": {},
   "source": [
    "미국에서 판매되는 담배(식물)의 도매가격 데이터를 분석하여, 거래된 도매가의 평균을 구한다.\n",
    "\n",
    "* 평균값(Mean)\n",
    "* 중앙값(Median)\n",
    "* 최빈값(Mode)"
   ]
  },
  {
   "cell_type": "markdown",
   "metadata": {},
   "source": [
    "### 사용하는 주요 모듈\n",
    "\n",
    "아래는 통계분석에서 기본적으로 사용되는 모듈들이다.\n",
    "\n",
    "* pandas: 통계분석 전용 모듈\n",
    "    * numpy 모듈을 바탕으로 하여 통계분석에 특화된 모듈임.\n",
    "    * 마이크로소프트의 엑셀처럼 작동하는 기능을 지원함\n",
    "* datetime: 날짜와 시간을 적절하게 표시하도록 도와주는 기능을 지원하는 모듈\n",
    "* scipy: 수치계산, 공업수학 등을 지원하는 모듈"
   ]
  },
  {
   "cell_type": "code",
   "execution_count": 1,
   "metadata": {
    "collapsed": true
   },
   "outputs": [],
   "source": [
    "import numpy as np\n",
    "import pandas as pd\n",
    "from datetime import datetime as dt\n",
    "from scipy import stats"
   ]
  },
  {
   "cell_type": "code",
   "execution_count": 2,
   "metadata": {
    "collapsed": true
   },
   "outputs": [],
   "source": [
    "from __future__ import print_function, division"
   ]
  },
  {
   "cell_type": "markdown",
   "metadata": {},
   "source": [
    "## 오늘 사용할 데이터\n",
    "\n",
    "* 주별 담배(식물) 도매가격 및 판매일자: Weed_price.csv\n",
    "\n",
    "아래 그림은 미국의 주별 담배(식물) 판매 데이터를 담은 Weed_Price.csv 파일를 엑셀로 읽었을 때의 일부를 보여준다.\n",
    "실제 데이터량은 22899개이며, 아래 그림에는 5개의 데이터만을 보여주고 있다.\n",
    "* 주의: 1번줄은 테이블의 열별 목록(column names)을 담고 있다.\n",
    "* 열별 목록: State, HighQ, HighQN, MedQ, MedQN, LowQ, LowQN, date\n",
    "\n",
    "<p>\n",
    "<table cellspacing=\"20\">\n",
    "<tr>\n",
    "<td>\n",
    "<img src=\"img/weed_price.png\", width=600>\n",
    "</td>\n",
    "</tr>\n",
    "</table>\n",
    "</p>"
   ]
  },
  {
   "cell_type": "markdown",
   "metadata": {},
   "source": [
    "### csv 파일 불러오기\n",
    "\n",
    "* pandas 모듈의 read_csv 함수 활용\n",
    "* read_csv 함수의 리턴값은 DataFrame 이라는 특수한 자료형임\n",
    "    * 엑셀의 위 그림 모양의 스프레드시트(spreadsheet)라고 생각하면 됨.\n",
    "\n",
    "언급한 세 개의 csv 파일을 pandas의 read_csv 함수를 이용하여 불러들이자.\n",
    "\n",
    "**주의**: Weed_Price.csv 파일을 불러들일 때, parse_dates라는 키워드 인자가 사용되었다. \n",
    "* parse_dates 키워드 인자: 날짜를 읽어들일 때 다양한 방식을 사용하도록 하는 기능을 갖고 있다.\n",
    "    * 여기서 값을 [-1]로 준 것은 소스 데이터에 있는 날짜 데이터를 변경하지 말고 그대로 불러오라는 의미이다.\n",
    "    * 위 엑셀파일에서 볼 수 있듯이, 마지막 열에 포함된 날짜표시는 굳이 변경을 요하지 않는다."
   ]
  },
  {
   "cell_type": "code",
   "execution_count": 3,
   "metadata": {
    "collapsed": true
   },
   "outputs": [],
   "source": [
    "prices_pd = pd.read_csv(\"data/Weed_Price.csv\", parse_dates=[-1])"
   ]
  },
  {
   "cell_type": "markdown",
   "metadata": {},
   "source": [
    "read_csv 함수의 리턴값은 DataFrame 이라는 자료형이다."
   ]
  },
  {
   "cell_type": "code",
   "execution_count": 4,
   "metadata": {},
   "outputs": [
    {
     "data": {
      "text/plain": [
       "pandas.core.frame.DataFrame"
      ]
     },
     "execution_count": 4,
     "metadata": {},
     "output_type": "execute_result"
    }
   ],
   "source": [
    "type(prices_pd)"
   ]
  },
  {
   "cell_type": "markdown",
   "metadata": {},
   "source": [
    "### DataFrame 자료형"
   ]
  },
  {
   "cell_type": "code",
   "execution_count": null,
   "metadata": {
    "collapsed": true
   },
   "outputs": [],
   "source": []
  },
  {
   "cell_type": "code",
   "execution_count": null,
   "metadata": {
    "collapsed": true
   },
   "outputs": [],
   "source": []
  },
  {
   "cell_type": "code",
   "execution_count": null,
   "metadata": {
    "collapsed": true
   },
   "outputs": [],
   "source": []
  },
  {
   "cell_type": "code",
   "execution_count": null,
   "metadata": {
    "collapsed": true
   },
   "outputs": [],
   "source": []
  },
  {
   "cell_type": "markdown",
   "metadata": {},
   "source": [
    "불러 들인 Weed_Price.csv 파일의 상위 다섯 줄을 확인해보면, 앞서 엑셀파일 그림에서 본 내용과 일치한다.\n",
    "다만, 행과 열의 목록이 조금 다를 뿐이다.\n",
    "* 엑셀에서는 열 목록이 A, B, C, ..., H로 되어 있으며, 소스 파일의 열 목록은 1번 줄로 밀려 있다.\n",
    "* 엑셀에서의 행 목록은 1, 2, 3, ... 으로 되어 있다.\n",
    "\n",
    "하지만 read_csv 파일은 좀 다르게 불러 들인다.\n",
    "* 열 목록은 소스 파일의 열 목록을 그대로 사용한다.\n",
    "* 행 목록은 0, 1, 2, ... 으로 되어 있다."
   ]
  },
  {
   "cell_type": "markdown",
   "metadata": {},
   "source": [
    "데이터 파일의 상위 몇 줄을 불러들이기 위해서는 DataFrame 자료형의 head 메소드를 활용한다.\n",
    "인자값을 주지 않으면 상위 5줄을 보여준다."
   ]
  },
  {
   "cell_type": "code",
   "execution_count": 5,
   "metadata": {},
   "outputs": [
    {
     "data": {
      "text/html": [
       "<div>\n",
       "<style>\n",
       "    .dataframe thead tr:only-child th {\n",
       "        text-align: right;\n",
       "    }\n",
       "\n",
       "    .dataframe thead th {\n",
       "        text-align: left;\n",
       "    }\n",
       "\n",
       "    .dataframe tbody tr th {\n",
       "        vertical-align: top;\n",
       "    }\n",
       "</style>\n",
       "<table border=\"1\" class=\"dataframe\">\n",
       "  <thead>\n",
       "    <tr style=\"text-align: right;\">\n",
       "      <th></th>\n",
       "      <th>State</th>\n",
       "      <th>HighQ</th>\n",
       "      <th>HighQN</th>\n",
       "      <th>MedQ</th>\n",
       "      <th>MedQN</th>\n",
       "      <th>LowQ</th>\n",
       "      <th>LowQN</th>\n",
       "      <th>date</th>\n",
       "    </tr>\n",
       "  </thead>\n",
       "  <tbody>\n",
       "    <tr>\n",
       "      <th>0</th>\n",
       "      <td>Alabama</td>\n",
       "      <td>339.06</td>\n",
       "      <td>1042</td>\n",
       "      <td>198.64</td>\n",
       "      <td>933</td>\n",
       "      <td>149.49</td>\n",
       "      <td>123</td>\n",
       "      <td>2014-01-01</td>\n",
       "    </tr>\n",
       "    <tr>\n",
       "      <th>1</th>\n",
       "      <td>Alaska</td>\n",
       "      <td>288.75</td>\n",
       "      <td>252</td>\n",
       "      <td>260.60</td>\n",
       "      <td>297</td>\n",
       "      <td>388.58</td>\n",
       "      <td>26</td>\n",
       "      <td>2014-01-01</td>\n",
       "    </tr>\n",
       "    <tr>\n",
       "      <th>2</th>\n",
       "      <td>Arizona</td>\n",
       "      <td>303.31</td>\n",
       "      <td>1941</td>\n",
       "      <td>209.35</td>\n",
       "      <td>1625</td>\n",
       "      <td>189.45</td>\n",
       "      <td>222</td>\n",
       "      <td>2014-01-01</td>\n",
       "    </tr>\n",
       "    <tr>\n",
       "      <th>3</th>\n",
       "      <td>Arkansas</td>\n",
       "      <td>361.85</td>\n",
       "      <td>576</td>\n",
       "      <td>185.62</td>\n",
       "      <td>544</td>\n",
       "      <td>125.87</td>\n",
       "      <td>112</td>\n",
       "      <td>2014-01-01</td>\n",
       "    </tr>\n",
       "    <tr>\n",
       "      <th>4</th>\n",
       "      <td>California</td>\n",
       "      <td>248.78</td>\n",
       "      <td>12096</td>\n",
       "      <td>193.56</td>\n",
       "      <td>12812</td>\n",
       "      <td>192.92</td>\n",
       "      <td>778</td>\n",
       "      <td>2014-01-01</td>\n",
       "    </tr>\n",
       "  </tbody>\n",
       "</table>\n",
       "</div>"
      ],
      "text/plain": [
       "        State   HighQ  HighQN    MedQ  MedQN    LowQ  LowQN       date\n",
       "0     Alabama  339.06    1042  198.64    933  149.49    123 2014-01-01\n",
       "1      Alaska  288.75     252  260.60    297  388.58     26 2014-01-01\n",
       "2     Arizona  303.31    1941  209.35   1625  189.45    222 2014-01-01\n",
       "3    Arkansas  361.85     576  185.62    544  125.87    112 2014-01-01\n",
       "4  California  248.78   12096  193.56  12812  192.92    778 2014-01-01"
      ]
     },
     "execution_count": 5,
     "metadata": {},
     "output_type": "execute_result"
    }
   ],
   "source": [
    "prices_pd.head()"
   ]
  },
  {
   "cell_type": "markdown",
   "metadata": {},
   "source": [
    "인자를 주면 원하는 만큼 보여준다."
   ]
  },
  {
   "cell_type": "code",
   "execution_count": 6,
   "metadata": {},
   "outputs": [
    {
     "data": {
      "text/html": [
       "<div>\n",
       "<style>\n",
       "    .dataframe thead tr:only-child th {\n",
       "        text-align: right;\n",
       "    }\n",
       "\n",
       "    .dataframe thead th {\n",
       "        text-align: left;\n",
       "    }\n",
       "\n",
       "    .dataframe tbody tr th {\n",
       "        vertical-align: top;\n",
       "    }\n",
       "</style>\n",
       "<table border=\"1\" class=\"dataframe\">\n",
       "  <thead>\n",
       "    <tr style=\"text-align: right;\">\n",
       "      <th></th>\n",
       "      <th>State</th>\n",
       "      <th>HighQ</th>\n",
       "      <th>HighQN</th>\n",
       "      <th>MedQ</th>\n",
       "      <th>MedQN</th>\n",
       "      <th>LowQ</th>\n",
       "      <th>LowQN</th>\n",
       "      <th>date</th>\n",
       "    </tr>\n",
       "  </thead>\n",
       "  <tbody>\n",
       "    <tr>\n",
       "      <th>0</th>\n",
       "      <td>Alabama</td>\n",
       "      <td>339.06</td>\n",
       "      <td>1042</td>\n",
       "      <td>198.64</td>\n",
       "      <td>933</td>\n",
       "      <td>149.49</td>\n",
       "      <td>123</td>\n",
       "      <td>2014-01-01</td>\n",
       "    </tr>\n",
       "    <tr>\n",
       "      <th>1</th>\n",
       "      <td>Alaska</td>\n",
       "      <td>288.75</td>\n",
       "      <td>252</td>\n",
       "      <td>260.60</td>\n",
       "      <td>297</td>\n",
       "      <td>388.58</td>\n",
       "      <td>26</td>\n",
       "      <td>2014-01-01</td>\n",
       "    </tr>\n",
       "    <tr>\n",
       "      <th>2</th>\n",
       "      <td>Arizona</td>\n",
       "      <td>303.31</td>\n",
       "      <td>1941</td>\n",
       "      <td>209.35</td>\n",
       "      <td>1625</td>\n",
       "      <td>189.45</td>\n",
       "      <td>222</td>\n",
       "      <td>2014-01-01</td>\n",
       "    </tr>\n",
       "    <tr>\n",
       "      <th>3</th>\n",
       "      <td>Arkansas</td>\n",
       "      <td>361.85</td>\n",
       "      <td>576</td>\n",
       "      <td>185.62</td>\n",
       "      <td>544</td>\n",
       "      <td>125.87</td>\n",
       "      <td>112</td>\n",
       "      <td>2014-01-01</td>\n",
       "    </tr>\n",
       "    <tr>\n",
       "      <th>4</th>\n",
       "      <td>California</td>\n",
       "      <td>248.78</td>\n",
       "      <td>12096</td>\n",
       "      <td>193.56</td>\n",
       "      <td>12812</td>\n",
       "      <td>192.92</td>\n",
       "      <td>778</td>\n",
       "      <td>2014-01-01</td>\n",
       "    </tr>\n",
       "    <tr>\n",
       "      <th>5</th>\n",
       "      <td>Colorado</td>\n",
       "      <td>236.31</td>\n",
       "      <td>2161</td>\n",
       "      <td>195.29</td>\n",
       "      <td>1728</td>\n",
       "      <td>213.50</td>\n",
       "      <td>128</td>\n",
       "      <td>2014-01-01</td>\n",
       "    </tr>\n",
       "    <tr>\n",
       "      <th>6</th>\n",
       "      <td>Connecticut</td>\n",
       "      <td>347.90</td>\n",
       "      <td>1294</td>\n",
       "      <td>273.97</td>\n",
       "      <td>1316</td>\n",
       "      <td>257.36</td>\n",
       "      <td>91</td>\n",
       "      <td>2014-01-01</td>\n",
       "    </tr>\n",
       "    <tr>\n",
       "      <th>7</th>\n",
       "      <td>Delaware</td>\n",
       "      <td>373.18</td>\n",
       "      <td>347</td>\n",
       "      <td>226.25</td>\n",
       "      <td>273</td>\n",
       "      <td>199.88</td>\n",
       "      <td>34</td>\n",
       "      <td>2014-01-01</td>\n",
       "    </tr>\n",
       "    <tr>\n",
       "      <th>8</th>\n",
       "      <td>District of Columbia</td>\n",
       "      <td>352.26</td>\n",
       "      <td>433</td>\n",
       "      <td>295.67</td>\n",
       "      <td>349</td>\n",
       "      <td>213.72</td>\n",
       "      <td>39</td>\n",
       "      <td>2014-01-01</td>\n",
       "    </tr>\n",
       "    <tr>\n",
       "      <th>9</th>\n",
       "      <td>Florida</td>\n",
       "      <td>306.43</td>\n",
       "      <td>6506</td>\n",
       "      <td>220.03</td>\n",
       "      <td>5237</td>\n",
       "      <td>158.26</td>\n",
       "      <td>514</td>\n",
       "      <td>2014-01-01</td>\n",
       "    </tr>\n",
       "  </tbody>\n",
       "</table>\n",
       "</div>"
      ],
      "text/plain": [
       "                  State   HighQ  HighQN    MedQ  MedQN    LowQ  LowQN  \\\n",
       "0               Alabama  339.06    1042  198.64    933  149.49    123   \n",
       "1                Alaska  288.75     252  260.60    297  388.58     26   \n",
       "2               Arizona  303.31    1941  209.35   1625  189.45    222   \n",
       "3              Arkansas  361.85     576  185.62    544  125.87    112   \n",
       "4            California  248.78   12096  193.56  12812  192.92    778   \n",
       "5              Colorado  236.31    2161  195.29   1728  213.50    128   \n",
       "6           Connecticut  347.90    1294  273.97   1316  257.36     91   \n",
       "7              Delaware  373.18     347  226.25    273  199.88     34   \n",
       "8  District of Columbia  352.26     433  295.67    349  213.72     39   \n",
       "9               Florida  306.43    6506  220.03   5237  158.26    514   \n",
       "\n",
       "        date  \n",
       "0 2014-01-01  \n",
       "1 2014-01-01  \n",
       "2 2014-01-01  \n",
       "3 2014-01-01  \n",
       "4 2014-01-01  \n",
       "5 2014-01-01  \n",
       "6 2014-01-01  \n",
       "7 2014-01-01  \n",
       "8 2014-01-01  \n",
       "9 2014-01-01  "
      ]
     },
     "execution_count": 6,
     "metadata": {},
     "output_type": "execute_result"
    }
   ],
   "source": [
    "prices_pd.head(10)"
   ]
  },
  {
   "cell_type": "markdown",
   "metadata": {},
   "source": [
    "파일이 매우 많은 수의 데이터를 포함하고 있을 경우, 맨 뒷쪽 부분을 확인하고 싶으면\n",
    "tail 메소드를 활용한다. 사용법은 head 메소드와 동일하다.\n",
    "\n",
    "아래 명령어를 통해 Weed_Price.csv 파일에 22899개의 데이터가 저장되어 있음을 확인할 수 있다."
   ]
  },
  {
   "cell_type": "code",
   "execution_count": 7,
   "metadata": {},
   "outputs": [
    {
     "data": {
      "text/html": [
       "<div>\n",
       "<style>\n",
       "    .dataframe thead tr:only-child th {\n",
       "        text-align: right;\n",
       "    }\n",
       "\n",
       "    .dataframe thead th {\n",
       "        text-align: left;\n",
       "    }\n",
       "\n",
       "    .dataframe tbody tr th {\n",
       "        vertical-align: top;\n",
       "    }\n",
       "</style>\n",
       "<table border=\"1\" class=\"dataframe\">\n",
       "  <thead>\n",
       "    <tr style=\"text-align: right;\">\n",
       "      <th></th>\n",
       "      <th>State</th>\n",
       "      <th>HighQ</th>\n",
       "      <th>HighQN</th>\n",
       "      <th>MedQ</th>\n",
       "      <th>MedQN</th>\n",
       "      <th>LowQ</th>\n",
       "      <th>LowQN</th>\n",
       "      <th>date</th>\n",
       "    </tr>\n",
       "  </thead>\n",
       "  <tbody>\n",
       "    <tr>\n",
       "      <th>22894</th>\n",
       "      <td>Virginia</td>\n",
       "      <td>364.98</td>\n",
       "      <td>3513</td>\n",
       "      <td>293.12</td>\n",
       "      <td>3079</td>\n",
       "      <td>NaN</td>\n",
       "      <td>284</td>\n",
       "      <td>2014-12-31</td>\n",
       "    </tr>\n",
       "    <tr>\n",
       "      <th>22895</th>\n",
       "      <td>Washington</td>\n",
       "      <td>233.05</td>\n",
       "      <td>3337</td>\n",
       "      <td>189.92</td>\n",
       "      <td>3562</td>\n",
       "      <td>NaN</td>\n",
       "      <td>160</td>\n",
       "      <td>2014-12-31</td>\n",
       "    </tr>\n",
       "    <tr>\n",
       "      <th>22896</th>\n",
       "      <td>West Virginia</td>\n",
       "      <td>359.35</td>\n",
       "      <td>551</td>\n",
       "      <td>224.03</td>\n",
       "      <td>545</td>\n",
       "      <td>NaN</td>\n",
       "      <td>60</td>\n",
       "      <td>2014-12-31</td>\n",
       "    </tr>\n",
       "    <tr>\n",
       "      <th>22897</th>\n",
       "      <td>Wisconsin</td>\n",
       "      <td>350.52</td>\n",
       "      <td>2244</td>\n",
       "      <td>272.71</td>\n",
       "      <td>2221</td>\n",
       "      <td>NaN</td>\n",
       "      <td>167</td>\n",
       "      <td>2014-12-31</td>\n",
       "    </tr>\n",
       "    <tr>\n",
       "      <th>22898</th>\n",
       "      <td>Wyoming</td>\n",
       "      <td>322.27</td>\n",
       "      <td>131</td>\n",
       "      <td>351.86</td>\n",
       "      <td>197</td>\n",
       "      <td>NaN</td>\n",
       "      <td>12</td>\n",
       "      <td>2014-12-31</td>\n",
       "    </tr>\n",
       "  </tbody>\n",
       "</table>\n",
       "</div>"
      ],
      "text/plain": [
       "               State   HighQ  HighQN    MedQ  MedQN  LowQ  LowQN       date\n",
       "22894       Virginia  364.98    3513  293.12   3079   NaN    284 2014-12-31\n",
       "22895     Washington  233.05    3337  189.92   3562   NaN    160 2014-12-31\n",
       "22896  West Virginia  359.35     551  224.03    545   NaN     60 2014-12-31\n",
       "22897      Wisconsin  350.52    2244  272.71   2221   NaN    167 2014-12-31\n",
       "22898        Wyoming  322.27     131  351.86    197   NaN     12 2014-12-31"
      ]
     },
     "execution_count": 7,
     "metadata": {},
     "output_type": "execute_result"
    }
   ],
   "source": [
    "prices_pd.tail()"
   ]
  },
  {
   "cell_type": "markdown",
   "metadata": {},
   "source": [
    "DataFrame 자료형의 dtypes 속성을 이용하면 열별 목록에 사용된 자료형을 확인할 수 있다.\n",
    "\n",
    "Weed_Price.csv 파일을 읽어 들인 prices_pd 변수에 저장된 DataFrame 값의 열별 목록에 사용된 자료형을 보여준다.\n",
    "\n",
    "**주의:** \n",
    "* numpy의 array 자료형의 dtype 속성은 하나의 자료형만을 담고 있다.\n",
    "* 열별 목록에는 하나의 자료형 값들만 올 수 있다.\n",
    "    즉, 열 하나하나가 넘파이의 array에 해당한다고 볼 수 있다.\n",
    "* State 목록에 사용된 object 라는 dtype은 문자열이 저장된 위치를 가리키는 포인터를 의미한다.\n",
    "    * 문자열의 길이를 제한할 수 없기 때문에 문자열을 어딘가에 저장하고 포인터가 그 위치를 가리키며, \n",
    "        필요에 따라 포인터 정보를 이용하여 저장된 문자열을 확인한다.\n",
    "* 마지막 줄에 표시된 \"dtype: object\"의 의미는 복잡한 데이터들의 자료형이라는 의미로 이해하면 됨."
   ]
  },
  {
   "cell_type": "code",
   "execution_count": 8,
   "metadata": {},
   "outputs": [
    {
     "data": {
      "text/plain": [
       "State             object\n",
       "HighQ            float64\n",
       "HighQN             int64\n",
       "MedQ             float64\n",
       "MedQN              int64\n",
       "LowQ             float64\n",
       "LowQN              int64\n",
       "date      datetime64[ns]\n",
       "dtype: object"
      ]
     },
     "execution_count": 8,
     "metadata": {},
     "output_type": "execute_result"
    }
   ],
   "source": [
    "prices_pd.dtypes"
   ]
  },
  {
   "cell_type": "markdown",
   "metadata": {},
   "source": [
    "#### 정렬하기\n",
    "\n",
    "주별로, 날짜별로 데이터를 정렬한다."
   ]
  },
  {
   "cell_type": "code",
   "execution_count": 9,
   "metadata": {
    "collapsed": true
   },
   "outputs": [],
   "source": [
    "prices_pd.sort_values(['State', 'date'], inplace=True)"
   ]
  },
  {
   "cell_type": "markdown",
   "metadata": {},
   "source": [
    "#### 결측치 채우기\n",
    "\n",
    "평균을 구하기 위해서는 결측치(채워지지 않은 데이터)를 이전 줄의 데이터를 이용하여 채운다.\n",
    "\n",
    "앞서 정렬을 먼저 한 이유는, 결측치가 있을 경우 가능하면 동일한 주에서 이전에 거래된 가격을 사용하고자 함이다."
   ]
  },
  {
   "cell_type": "code",
   "execution_count": 10,
   "metadata": {
    "collapsed": true
   },
   "outputs": [],
   "source": [
    "prices_pd.fillna(method='ffill', inplace=True)"
   ]
  },
  {
   "cell_type": "markdown",
   "metadata": {},
   "source": [
    "정렬된 데이터의 첫 부분은 아래와 같이 알라바마(Alabama) 주의 데이터만 날짜별로 순서대로 보인다."
   ]
  },
  {
   "cell_type": "code",
   "execution_count": 11,
   "metadata": {},
   "outputs": [
    {
     "data": {
      "text/html": [
       "<div>\n",
       "<style>\n",
       "    .dataframe thead tr:only-child th {\n",
       "        text-align: right;\n",
       "    }\n",
       "\n",
       "    .dataframe thead th {\n",
       "        text-align: left;\n",
       "    }\n",
       "\n",
       "    .dataframe tbody tr th {\n",
       "        vertical-align: top;\n",
       "    }\n",
       "</style>\n",
       "<table border=\"1\" class=\"dataframe\">\n",
       "  <thead>\n",
       "    <tr style=\"text-align: right;\">\n",
       "      <th></th>\n",
       "      <th>State</th>\n",
       "      <th>HighQ</th>\n",
       "      <th>HighQN</th>\n",
       "      <th>MedQ</th>\n",
       "      <th>MedQN</th>\n",
       "      <th>LowQ</th>\n",
       "      <th>LowQN</th>\n",
       "      <th>date</th>\n",
       "    </tr>\n",
       "  </thead>\n",
       "  <tbody>\n",
       "    <tr>\n",
       "      <th>20094</th>\n",
       "      <td>Alabama</td>\n",
       "      <td>339.65</td>\n",
       "      <td>1033</td>\n",
       "      <td>198.04</td>\n",
       "      <td>926</td>\n",
       "      <td>147.15</td>\n",
       "      <td>122</td>\n",
       "      <td>2013-12-27</td>\n",
       "    </tr>\n",
       "    <tr>\n",
       "      <th>20859</th>\n",
       "      <td>Alabama</td>\n",
       "      <td>339.65</td>\n",
       "      <td>1033</td>\n",
       "      <td>198.04</td>\n",
       "      <td>926</td>\n",
       "      <td>147.15</td>\n",
       "      <td>122</td>\n",
       "      <td>2013-12-28</td>\n",
       "    </tr>\n",
       "    <tr>\n",
       "      <th>21573</th>\n",
       "      <td>Alabama</td>\n",
       "      <td>339.75</td>\n",
       "      <td>1036</td>\n",
       "      <td>198.26</td>\n",
       "      <td>929</td>\n",
       "      <td>149.49</td>\n",
       "      <td>123</td>\n",
       "      <td>2013-12-29</td>\n",
       "    </tr>\n",
       "    <tr>\n",
       "      <th>22287</th>\n",
       "      <td>Alabama</td>\n",
       "      <td>339.75</td>\n",
       "      <td>1036</td>\n",
       "      <td>198.81</td>\n",
       "      <td>930</td>\n",
       "      <td>149.49</td>\n",
       "      <td>123</td>\n",
       "      <td>2013-12-30</td>\n",
       "    </tr>\n",
       "    <tr>\n",
       "      <th>22797</th>\n",
       "      <td>Alabama</td>\n",
       "      <td>339.42</td>\n",
       "      <td>1040</td>\n",
       "      <td>198.68</td>\n",
       "      <td>932</td>\n",
       "      <td>149.49</td>\n",
       "      <td>123</td>\n",
       "      <td>2013-12-31</td>\n",
       "    </tr>\n",
       "  </tbody>\n",
       "</table>\n",
       "</div>"
      ],
      "text/plain": [
       "         State   HighQ  HighQN    MedQ  MedQN    LowQ  LowQN       date\n",
       "20094  Alabama  339.65    1033  198.04    926  147.15    122 2013-12-27\n",
       "20859  Alabama  339.65    1033  198.04    926  147.15    122 2013-12-28\n",
       "21573  Alabama  339.75    1036  198.26    929  149.49    123 2013-12-29\n",
       "22287  Alabama  339.75    1036  198.81    930  149.49    123 2013-12-30\n",
       "22797  Alabama  339.42    1040  198.68    932  149.49    123 2013-12-31"
      ]
     },
     "execution_count": 11,
     "metadata": {},
     "output_type": "execute_result"
    }
   ],
   "source": [
    "prices_pd.head()"
   ]
  },
  {
   "cell_type": "markdown",
   "metadata": {},
   "source": [
    "정렬된 데이터의 끝 부분은 아래와 같이 요밍(Wyoming) 주의 데이터만 날짜별로 순서대로 보인다."
   ]
  },
  {
   "cell_type": "code",
   "execution_count": 12,
   "metadata": {},
   "outputs": [
    {
     "data": {
      "text/html": [
       "<div>\n",
       "<style>\n",
       "    .dataframe thead tr:only-child th {\n",
       "        text-align: right;\n",
       "    }\n",
       "\n",
       "    .dataframe thead th {\n",
       "        text-align: left;\n",
       "    }\n",
       "\n",
       "    .dataframe tbody tr th {\n",
       "        vertical-align: top;\n",
       "    }\n",
       "</style>\n",
       "<table border=\"1\" class=\"dataframe\">\n",
       "  <thead>\n",
       "    <tr style=\"text-align: right;\">\n",
       "      <th></th>\n",
       "      <th>State</th>\n",
       "      <th>HighQ</th>\n",
       "      <th>HighQN</th>\n",
       "      <th>MedQ</th>\n",
       "      <th>MedQN</th>\n",
       "      <th>LowQ</th>\n",
       "      <th>LowQN</th>\n",
       "      <th>date</th>\n",
       "    </tr>\n",
       "  </thead>\n",
       "  <tbody>\n",
       "    <tr>\n",
       "      <th>4997</th>\n",
       "      <td>Wyoming</td>\n",
       "      <td>313.72</td>\n",
       "      <td>148</td>\n",
       "      <td>317.38</td>\n",
       "      <td>226</td>\n",
       "      <td>161.3</td>\n",
       "      <td>13</td>\n",
       "      <td>2015-06-07</td>\n",
       "    </tr>\n",
       "    <tr>\n",
       "      <th>5762</th>\n",
       "      <td>Wyoming</td>\n",
       "      <td>313.72</td>\n",
       "      <td>148</td>\n",
       "      <td>317.38</td>\n",
       "      <td>226</td>\n",
       "      <td>161.3</td>\n",
       "      <td>13</td>\n",
       "      <td>2015-06-08</td>\n",
       "    </tr>\n",
       "    <tr>\n",
       "      <th>6527</th>\n",
       "      <td>Wyoming</td>\n",
       "      <td>313.72</td>\n",
       "      <td>148</td>\n",
       "      <td>317.38</td>\n",
       "      <td>226</td>\n",
       "      <td>161.3</td>\n",
       "      <td>13</td>\n",
       "      <td>2015-06-09</td>\n",
       "    </tr>\n",
       "    <tr>\n",
       "      <th>7343</th>\n",
       "      <td>Wyoming</td>\n",
       "      <td>313.72</td>\n",
       "      <td>148</td>\n",
       "      <td>317.38</td>\n",
       "      <td>226</td>\n",
       "      <td>161.3</td>\n",
       "      <td>13</td>\n",
       "      <td>2015-06-10</td>\n",
       "    </tr>\n",
       "    <tr>\n",
       "      <th>8159</th>\n",
       "      <td>Wyoming</td>\n",
       "      <td>313.72</td>\n",
       "      <td>148</td>\n",
       "      <td>317.38</td>\n",
       "      <td>226</td>\n",
       "      <td>161.3</td>\n",
       "      <td>13</td>\n",
       "      <td>2015-06-11</td>\n",
       "    </tr>\n",
       "  </tbody>\n",
       "</table>\n",
       "</div>"
      ],
      "text/plain": [
       "        State   HighQ  HighQN    MedQ  MedQN   LowQ  LowQN       date\n",
       "4997  Wyoming  313.72     148  317.38    226  161.3     13 2015-06-07\n",
       "5762  Wyoming  313.72     148  317.38    226  161.3     13 2015-06-08\n",
       "6527  Wyoming  313.72     148  317.38    226  161.3     13 2015-06-09\n",
       "7343  Wyoming  313.72     148  317.38    226  161.3     13 2015-06-10\n",
       "8159  Wyoming  313.72     148  317.38    226  161.3     13 2015-06-11"
      ]
     },
     "execution_count": 12,
     "metadata": {},
     "output_type": "execute_result"
    }
   ],
   "source": [
    "prices_pd.tail()"
   ]
  },
  {
   "cell_type": "markdown",
   "metadata": {},
   "source": [
    "## 평균 구하기\n",
    "\n",
    "캘리포니아 주를 대상으로해서 담배(식물) 도매가의 평균(average)을 구해본다."
   ]
  },
  {
   "cell_type": "markdown",
   "metadata": {},
   "source": [
    "### 평균값(Mean)\n",
    "\n",
    "* 평균값 = 모든 값들의 합을 값들의 개수로 나누기\n",
    "    * $X$: 데이터에 포함된 값들을 대변하는 변수\n",
    "    * $n$: 데이터에 포함된 값들의 개수\n",
    "    * $\\Sigma\\, X$: 데이터에 포함된 모든 값들의 합\n",
    "\n",
    "$$\\text{평균값}(\\mu) = \\frac{\\Sigma\\, X}{n}$$"
   ]
  },
  {
   "cell_type": "markdown",
   "metadata": {},
   "source": [
    "마스크 인덱스를 이용하여 캘리포니아 주의 데이터만 추출한다."
   ]
  },
  {
   "cell_type": "code",
   "execution_count": 13,
   "metadata": {
    "collapsed": true
   },
   "outputs": [],
   "source": [
    "california_pd = prices_pd[prices_pd.State == \"California\"].copy(True)"
   ]
  },
  {
   "cell_type": "markdown",
   "metadata": {},
   "source": [
    "캘리포니아 주에서 거래된 첫 5개의 데이터를 확인해보자."
   ]
  },
  {
   "cell_type": "code",
   "execution_count": 14,
   "metadata": {},
   "outputs": [
    {
     "data": {
      "text/html": [
       "<div>\n",
       "<style>\n",
       "    .dataframe thead tr:only-child th {\n",
       "        text-align: right;\n",
       "    }\n",
       "\n",
       "    .dataframe thead th {\n",
       "        text-align: left;\n",
       "    }\n",
       "\n",
       "    .dataframe tbody tr th {\n",
       "        vertical-align: top;\n",
       "    }\n",
       "</style>\n",
       "<table border=\"1\" class=\"dataframe\">\n",
       "  <thead>\n",
       "    <tr style=\"text-align: right;\">\n",
       "      <th></th>\n",
       "      <th>State</th>\n",
       "      <th>HighQ</th>\n",
       "      <th>HighQN</th>\n",
       "      <th>MedQ</th>\n",
       "      <th>MedQN</th>\n",
       "      <th>LowQ</th>\n",
       "      <th>LowQN</th>\n",
       "      <th>date</th>\n",
       "    </tr>\n",
       "  </thead>\n",
       "  <tbody>\n",
       "    <tr>\n",
       "      <th>20098</th>\n",
       "      <td>California</td>\n",
       "      <td>248.77</td>\n",
       "      <td>12021</td>\n",
       "      <td>193.44</td>\n",
       "      <td>12724</td>\n",
       "      <td>193.88</td>\n",
       "      <td>770</td>\n",
       "      <td>2013-12-27</td>\n",
       "    </tr>\n",
       "    <tr>\n",
       "      <th>20863</th>\n",
       "      <td>California</td>\n",
       "      <td>248.74</td>\n",
       "      <td>12025</td>\n",
       "      <td>193.44</td>\n",
       "      <td>12728</td>\n",
       "      <td>193.88</td>\n",
       "      <td>770</td>\n",
       "      <td>2013-12-28</td>\n",
       "    </tr>\n",
       "    <tr>\n",
       "      <th>21577</th>\n",
       "      <td>California</td>\n",
       "      <td>248.76</td>\n",
       "      <td>12047</td>\n",
       "      <td>193.55</td>\n",
       "      <td>12760</td>\n",
       "      <td>193.60</td>\n",
       "      <td>772</td>\n",
       "      <td>2013-12-29</td>\n",
       "    </tr>\n",
       "    <tr>\n",
       "      <th>22291</th>\n",
       "      <td>California</td>\n",
       "      <td>248.82</td>\n",
       "      <td>12065</td>\n",
       "      <td>193.54</td>\n",
       "      <td>12779</td>\n",
       "      <td>193.80</td>\n",
       "      <td>773</td>\n",
       "      <td>2013-12-30</td>\n",
       "    </tr>\n",
       "    <tr>\n",
       "      <th>22801</th>\n",
       "      <td>California</td>\n",
       "      <td>248.76</td>\n",
       "      <td>12082</td>\n",
       "      <td>193.54</td>\n",
       "      <td>12792</td>\n",
       "      <td>193.80</td>\n",
       "      <td>773</td>\n",
       "      <td>2013-12-31</td>\n",
       "    </tr>\n",
       "  </tbody>\n",
       "</table>\n",
       "</div>"
      ],
      "text/plain": [
       "            State   HighQ  HighQN    MedQ  MedQN    LowQ  LowQN       date\n",
       "20098  California  248.77   12021  193.44  12724  193.88    770 2013-12-27\n",
       "20863  California  248.74   12025  193.44  12728  193.88    770 2013-12-28\n",
       "21577  California  248.76   12047  193.55  12760  193.60    772 2013-12-29\n",
       "22291  California  248.82   12065  193.54  12779  193.80    773 2013-12-30\n",
       "22801  California  248.76   12082  193.54  12792  193.80    773 2013-12-31"
      ]
     },
     "execution_count": 14,
     "metadata": {},
     "output_type": "execute_result"
    }
   ],
   "source": [
    "california_pd.head()"
   ]
  },
  {
   "cell_type": "markdown",
   "metadata": {},
   "source": [
    "HighQ 열 목록에 있는 값들의 총합을 구해보자."
   ]
  },
  {
   "cell_type": "code",
   "execution_count": 15,
   "metadata": {},
   "outputs": [
    {
     "data": {
      "text/plain": [
       "110173.87999999998"
      ]
     },
     "execution_count": 15,
     "metadata": {},
     "output_type": "execute_result"
    }
   ],
   "source": [
    "ca_sum = california_pd['HighQ'].sum()\n",
    "ca_sum"
   ]
  },
  {
   "cell_type": "markdown",
   "metadata": {},
   "source": [
    "HighQ 열 목록에 있는 값들의 개수를 확인해보자."
   ]
  },
  {
   "cell_type": "code",
   "execution_count": 16,
   "metadata": {},
   "outputs": [
    {
     "data": {
      "text/plain": [
       "449"
      ]
     },
     "execution_count": 16,
     "metadata": {},
     "output_type": "execute_result"
    }
   ],
   "source": [
    "ca_count = california_pd['HighQ'].count()\n",
    "ca_count"
   ]
  },
  {
   "cell_type": "markdown",
   "metadata": {},
   "source": [
    "이제 캘리포니아 주에서 거래된 HighQ의 담배가격의 평균값을 구할 수 있다."
   ]
  },
  {
   "cell_type": "code",
   "execution_count": 17,
   "metadata": {},
   "outputs": [
    {
     "name": "stdout",
     "output_type": "stream",
     "text": [
      "캘리포니아 주에서 거래된 HighQ의 평균값 = 245.376124722\n"
     ]
    }
   ],
   "source": [
    "ca_mean = ca_sum / ca_count\n",
    "print(\"캘리포니아 주에서 거래된 HighQ의 평균값 =\", ca_mean)"
   ]
  },
  {
   "cell_type": "markdown",
   "metadata": {},
   "source": [
    "### 중앙값(Median)\n",
    "\n",
    "캘리포니아 주에서 거래된 HighQ의 담배가격의 중앙값을 구하자.\n",
    "\n",
    "* 중앙값 = 데이터를 크기 순으로 정렬하였을 때 가장 가운데에 위치한 수\n",
    "    * 데이터의 크기 n이 홀수일 때: $\\frac{n+1}{2}$번 째 위치한 데이터\n",
    "    * 데이터의 크기 n이 짝수일 때: $\\frac{n}{2}$번 째와 $\\frac{n}{2}+1$번 째에 위치한 데이터들의 평균값   "
   ]
  },
  {
   "cell_type": "markdown",
   "metadata": {},
   "source": [
    "여기서는 데이터의 크기가 449로 홀수이다."
   ]
  },
  {
   "cell_type": "code",
   "execution_count": 18,
   "metadata": {},
   "outputs": [
    {
     "data": {
      "text/plain": [
       "449"
      ]
     },
     "execution_count": 18,
     "metadata": {},
     "output_type": "execute_result"
    }
   ],
   "source": [
    "ca_count"
   ]
  },
  {
   "cell_type": "markdown",
   "metadata": {},
   "source": [
    "따라서 중앙값은 $\\frac{\\text{ca_count}-1}{2}$번째에 위치한 값이다.\n",
    "\n",
    "**주의:** 인덱스는 0부터 출발한다. 따라서 중앙값이 하나 앞으로 당겨진다."
   ]
  },
  {
   "cell_type": "code",
   "execution_count": 19,
   "metadata": {},
   "outputs": [
    {
     "data": {
      "text/html": [
       "<div>\n",
       "<style>\n",
       "    .dataframe thead tr:only-child th {\n",
       "        text-align: right;\n",
       "    }\n",
       "\n",
       "    .dataframe thead th {\n",
       "        text-align: left;\n",
       "    }\n",
       "\n",
       "    .dataframe tbody tr th {\n",
       "        vertical-align: top;\n",
       "    }\n",
       "</style>\n",
       "<table border=\"1\" class=\"dataframe\">\n",
       "  <thead>\n",
       "    <tr style=\"text-align: right;\">\n",
       "      <th></th>\n",
       "      <th>State</th>\n",
       "      <th>HighQ</th>\n",
       "      <th>HighQN</th>\n",
       "      <th>MedQ</th>\n",
       "      <th>MedQN</th>\n",
       "      <th>LowQ</th>\n",
       "      <th>LowQN</th>\n",
       "      <th>date</th>\n",
       "    </tr>\n",
       "  </thead>\n",
       "  <tbody>\n",
       "    <tr>\n",
       "      <th>19027</th>\n",
       "      <td>California</td>\n",
       "      <td>241.84</td>\n",
       "      <td>18419</td>\n",
       "      <td>187.90</td>\n",
       "      <td>21965</td>\n",
       "      <td>188.6</td>\n",
       "      <td>1229</td>\n",
       "      <td>2015-05-26</td>\n",
       "    </tr>\n",
       "    <tr>\n",
       "      <th>19741</th>\n",
       "      <td>California</td>\n",
       "      <td>241.85</td>\n",
       "      <td>18450</td>\n",
       "      <td>187.90</td>\n",
       "      <td>21993</td>\n",
       "      <td>188.6</td>\n",
       "      <td>1231</td>\n",
       "      <td>2015-05-27</td>\n",
       "    </tr>\n",
       "    <tr>\n",
       "      <th>8011</th>\n",
       "      <td>California</td>\n",
       "      <td>241.87</td>\n",
       "      <td>18066</td>\n",
       "      <td>188.86</td>\n",
       "      <td>21561</td>\n",
       "      <td>188.6</td>\n",
       "      <td>1212</td>\n",
       "      <td>2015-05-11</td>\n",
       "    </tr>\n",
       "    <tr>\n",
       "      <th>8827</th>\n",
       "      <td>California</td>\n",
       "      <td>241.87</td>\n",
       "      <td>18073</td>\n",
       "      <td>188.89</td>\n",
       "      <td>21584</td>\n",
       "      <td>188.6</td>\n",
       "      <td>1213</td>\n",
       "      <td>2015-05-12</td>\n",
       "    </tr>\n",
       "    <tr>\n",
       "      <th>18313</th>\n",
       "      <td>California</td>\n",
       "      <td>241.88</td>\n",
       "      <td>18398</td>\n",
       "      <td>187.85</td>\n",
       "      <td>21949</td>\n",
       "      <td>188.6</td>\n",
       "      <td>1228</td>\n",
       "      <td>2015-05-25</td>\n",
       "    </tr>\n",
       "  </tbody>\n",
       "</table>\n",
       "</div>"
      ],
      "text/plain": [
       "            State   HighQ  HighQN    MedQ  MedQN   LowQ  LowQN       date\n",
       "19027  California  241.84   18419  187.90  21965  188.6   1229 2015-05-26\n",
       "19741  California  241.85   18450  187.90  21993  188.6   1231 2015-05-27\n",
       "8011   California  241.87   18066  188.86  21561  188.6   1212 2015-05-11\n",
       "8827   California  241.87   18073  188.89  21584  188.6   1213 2015-05-12\n",
       "18313  California  241.88   18398  187.85  21949  188.6   1228 2015-05-25"
      ]
     },
     "execution_count": 19,
     "metadata": {},
     "output_type": "execute_result"
    }
   ],
   "source": [
    "ca_highq_pd = california_pd.sort_values(['HighQ'])\n",
    "ca_highq_pd.head()"
   ]
  },
  {
   "cell_type": "markdown",
   "metadata": {},
   "source": [
    "인덱스 로케이션 함수인 `iloc` 함수를 활용한다."
   ]
  },
  {
   "cell_type": "code",
   "execution_count": 20,
   "metadata": {},
   "outputs": [
    {
     "name": "stdout",
     "output_type": "stream",
     "text": [
      "캘리포니아에서 거래된 HighQ 도매가의 중앙값은 245.31 달러이다.\n"
     ]
    }
   ],
   "source": [
    "ca_median = ca_highq_pd.HighQ.iloc[int((ca_count)/ 2)]\n",
    "print(\"캘리포니아에서 거래된 HighQ 도매가의 중앙값은\", ca_median, \"달러이다.\")"
   ]
  },
  {
   "cell_type": "markdown",
   "metadata": {},
   "source": [
    "### 최빈값(Mode)\n",
    "\n",
    "캘리포니아 주에서 거래된 HighQ의 담배가격의 최빈값을 구하자.\n",
    "\n",
    "* 최빈값 = 가장 자주 발생한 데이터"
   ]
  },
  {
   "cell_type": "code",
   "execution_count": 21,
   "metadata": {},
   "outputs": [
    {
     "name": "stdout",
     "output_type": "stream",
     "text": [
      "캘리포니아 주에서 가장 빈번하게 거래된 HighQ 도매가는 245.05 달러이다.\n"
     ]
    }
   ],
   "source": [
    "ca_mode = ca_highq_pd.HighQ.value_counts().index[0]\n",
    "print(\"캘리포니아 주에서 가장 빈번하게 거래된 HighQ 도매가는\", ca_mode, \"달러이다.\")"
   ]
  },
  {
   "cell_type": "markdown",
   "metadata": {},
   "source": [
    "## 연습문제"
   ]
  },
  {
   "cell_type": "markdown",
   "metadata": {},
   "source": [
    "### 연습\n",
    "\n",
    "지금까지 구한 평균값, 중앙값, 최빈값을 구하는 함수가 이미 DataFrame과 Series 자료형의 메소드로 구현되어 있다."
   ]
  },
  {
   "cell_type": "code",
   "execution_count": 22,
   "metadata": {},
   "outputs": [
    {
     "data": {
      "text/plain": [
       "245.3761247216035"
      ]
     },
     "execution_count": 22,
     "metadata": {},
     "output_type": "execute_result"
    }
   ],
   "source": [
    "california_pd.mean().HighQ"
   ]
  },
  {
   "cell_type": "code",
   "execution_count": 23,
   "metadata": {},
   "outputs": [
    {
     "data": {
      "text/plain": [
       "pandas.core.series.Series"
      ]
     },
     "execution_count": 23,
     "metadata": {},
     "output_type": "execute_result"
    }
   ],
   "source": [
    "type(california_pd.HighQ)"
   ]
  },
  {
   "cell_type": "code",
   "execution_count": 24,
   "metadata": {},
   "outputs": [
    {
     "data": {
      "text/plain": [
       "245.31"
      ]
     },
     "execution_count": 24,
     "metadata": {},
     "output_type": "execute_result"
    }
   ],
   "source": [
    "california_pd.median().HighQ"
   ]
  },
  {
   "cell_type": "code",
   "execution_count": 25,
   "metadata": {},
   "outputs": [
    {
     "data": {
      "text/plain": [
       "245.3761247216035"
      ]
     },
     "execution_count": 25,
     "metadata": {},
     "output_type": "execute_result"
    }
   ],
   "source": [
    "california_pd.mean().HighQ"
   ]
  },
  {
   "cell_type": "code",
   "execution_count": 26,
   "metadata": {},
   "outputs": [
    {
     "data": {
      "text/plain": [
       "245.3761247216035"
      ]
     },
     "execution_count": 26,
     "metadata": {},
     "output_type": "execute_result"
    }
   ],
   "source": [
    "california_pd.HighQ.mean()"
   ]
  },
  {
   "cell_type": "code",
   "execution_count": 27,
   "metadata": {},
   "outputs": [
    {
     "data": {
      "text/plain": [
       "245.31"
      ]
     },
     "execution_count": 27,
     "metadata": {},
     "output_type": "execute_result"
    }
   ],
   "source": [
    "california_pd.HighQ.median()"
   ]
  },
  {
   "cell_type": "code",
   "execution_count": 28,
   "metadata": {},
   "outputs": [
    {
     "data": {
      "text/plain": [
       "0    245.03\n",
       "1    245.05\n",
       "dtype: float64"
      ]
     },
     "execution_count": 28,
     "metadata": {},
     "output_type": "execute_result"
    }
   ],
   "source": [
    "california_pd.HighQ.mode()"
   ]
  },
  {
   "cell_type": "markdown",
   "metadata": {},
   "source": [
    "### 연습 \n",
    "\n",
    "캘리포니아 주에서 2013년, 2014년, 2015년에 거래된 HighQ의 담배(식물) 도매가격의 평균을 각각 구하라.\n",
    "\n",
    "**힌트:** `california_pd.iloc[0]['date'].year`"
   ]
  },
  {
   "cell_type": "markdown",
   "metadata": {},
   "source": [
    "견본답안: 2014년에 거래된 도매가의 평균값을 아래와 같이 계산할 수 있다.\n",
    "\n",
    "* sum 변수: 2014년도에 거래된 도매가의 총합을 담는다.\n",
    "* count 변수: 2014년도의 거래 횟수를 담는다."
   ]
  },
  {
   "cell_type": "code",
   "execution_count": 29,
   "metadata": {},
   "outputs": [
    {
     "data": {
      "text/plain": [
       "245.8942307692308"
      ]
     },
     "execution_count": 29,
     "metadata": {},
     "output_type": "execute_result"
    }
   ],
   "source": [
    "sum = 0\n",
    "count = 0\n",
    "\n",
    "for index in np.arange(len(california_pd)):\n",
    "    if california_pd.iloc[index]['date'].year == 2014:\n",
    "        sum += california_pd.iloc[index]['HighQ']\n",
    "        count += 1\n",
    "sum/count"
   ]
  },
  {
   "cell_type": "markdown",
   "metadata": {},
   "source": [
    "아래와 같은 방식을 이용하여 인덱스 정보를 구하여 슬라이싱 기능을 활용할 수도 있다."
   ]
  },
  {
   "cell_type": "code",
   "execution_count": 30,
   "metadata": {},
   "outputs": [
    {
     "data": {
      "text/plain": [
       "[0, 5, 369]"
      ]
     },
     "execution_count": 30,
     "metadata": {},
     "output_type": "execute_result"
    }
   ],
   "source": [
    "years = np.arange(2013, 2016)\n",
    "starts = [0]\n",
    "\n",
    "for y in years:\n",
    "    for index in np.arange(starts[-1], len(california_pd)):\n",
    "        if california_pd.iloc[index]['date'].year == y:\n",
    "            continue\n",
    "        else:\n",
    "            starts.append(index)\n",
    "            break\n",
    "\n",
    "starts"
   ]
  },
  {
   "cell_type": "markdown",
   "metadata": {},
   "source": [
    "5번줄부터 2014년도 거래가 표시된다."
   ]
  },
  {
   "cell_type": "code",
   "execution_count": 31,
   "metadata": {},
   "outputs": [
    {
     "data": {
      "text/plain": [
       "State              California\n",
       "HighQ                  248.76\n",
       "HighQN                  12082\n",
       "MedQ                   193.54\n",
       "MedQN                   12792\n",
       "LowQ                    193.8\n",
       "LowQN                     773\n",
       "date      2013-12-31 00:00:00\n",
       "Name: 22801, dtype: object"
      ]
     },
     "execution_count": 31,
     "metadata": {},
     "output_type": "execute_result"
    }
   ],
   "source": [
    "california_pd.iloc[4]"
   ]
  },
  {
   "cell_type": "code",
   "execution_count": 32,
   "metadata": {},
   "outputs": [
    {
     "data": {
      "text/plain": [
       "State              California\n",
       "HighQ                  248.78\n",
       "HighQN                  12096\n",
       "MedQ                   193.56\n",
       "MedQN                   12812\n",
       "LowQ                   192.92\n",
       "LowQN                     778\n",
       "date      2014-01-01 00:00:00\n",
       "Name: 4, dtype: object"
      ]
     },
     "execution_count": 32,
     "metadata": {},
     "output_type": "execute_result"
    }
   ],
   "source": [
    "california_pd.iloc[5]"
   ]
  },
  {
   "cell_type": "markdown",
   "metadata": {},
   "source": [
    "369번줄부터 2015년도 거래가 표시된다."
   ]
  },
  {
   "cell_type": "code",
   "execution_count": 33,
   "metadata": {},
   "outputs": [
    {
     "data": {
      "text/plain": [
       "State              California\n",
       "HighQ                  243.96\n",
       "HighQN                  16501\n",
       "MedQ                   189.38\n",
       "MedQN                   19140\n",
       "LowQ                    188.6\n",
       "LowQN                    1094\n",
       "date      2014-12-31 00:00:00\n",
       "Name: 22852, dtype: object"
      ]
     },
     "execution_count": 33,
     "metadata": {},
     "output_type": "execute_result"
    }
   ],
   "source": [
    "california_pd.iloc[368]"
   ]
  },
  {
   "cell_type": "code",
   "execution_count": 34,
   "metadata": {},
   "outputs": [
    {
     "data": {
      "text/plain": [
       "State              California\n",
       "HighQ                  243.96\n",
       "HighQN                  16512\n",
       "MedQ                   189.35\n",
       "MedQN                   19151\n",
       "LowQ                    188.6\n",
       "LowQN                    1096\n",
       "date      2015-01-01 00:00:00\n",
       "Name: 55, dtype: object"
      ]
     },
     "execution_count": 34,
     "metadata": {},
     "output_type": "execute_result"
    }
   ],
   "source": [
    "california_pd.iloc[369]"
   ]
  }
 ],
 "metadata": {
  "kernelspec": {
   "display_name": "Python 2",
   "language": "python",
   "name": "python2"
  },
  "language_info": {
   "codemirror_mode": {
    "name": "ipython",
    "version": 2
   },
   "file_extension": ".py",
   "mimetype": "text/x-python",
   "name": "python",
   "nbconvert_exporter": "python",
   "pygments_lexer": "ipython2",
   "version": "2.7.13"
  }
 },
 "nbformat": 4,
 "nbformat_minor": 1
}
