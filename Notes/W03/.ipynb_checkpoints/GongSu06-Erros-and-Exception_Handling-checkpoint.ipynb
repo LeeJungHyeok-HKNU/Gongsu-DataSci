{
 "cells": [
  {
   "cell_type": "markdown",
   "metadata": {},
   "source": [
    "# 오류 및 예외 처리"
   ]
  },
  {
   "cell_type": "markdown",
   "metadata": {},
   "source": [
    "## 개요\n",
    "\n",
    "* 코딩할 때 발생할 수 있는 다양한 **오류** 살펴 보기\n",
    "    \n",
    "* **오류 메시지** 정보 확인 방법\n",
    "\n",
    "* **예외 처리**, 즉 오류가 발생할 수 있는 예외적인 상황을 미리 고려하는 방법 소개"
   ]
  },
  {
   "cell_type": "markdown",
   "metadata": {},
   "source": [
    "## 오늘의 주요 예제\n",
    "\n"
   ]
  },
  {
   "cell_type": "markdown",
   "metadata": {},
   "source": [
    "아래 코드는 `raw_input()` 함수를 이용하여 사용자로부터 숫자를 입력받아 그 숫자의 제곱을 리턴하고자 하는 내용을 담고 있다. 코드를 실행하면 숫자를 입력하라는 창이 나오며, \n",
    "여기에 숫자 3을 입력하면 정상적으로 작동한다. \n",
    "하지만, 예를 들어, 3.2를 입력하면 값 오류(value error)가 발생한다. "
   ]
  },
  {
   "cell_type": "code",
   "execution_count": 71,
   "metadata": {},
   "outputs": [
    {
     "name": "stdout",
     "output_type": "stream",
     "text": [
      "어떤 숫자를 제곱하고 싶으세요? 3.2\n",
      "<type 'str'>\n",
      "3.2\n"
     ]
    },
    {
     "ename": "ValueError",
     "evalue": "invalid literal for int() with base 10: '3.2'",
     "output_type": "error",
     "traceback": [
      "\u001b[0;31m---------------------------------------------------------------------------\u001b[0m",
      "\u001b[0;31mValueError\u001b[0m                                Traceback (most recent call last)",
      "\u001b[0;32m<ipython-input-71-3040e3c6fd11>\u001b[0m in \u001b[0;36m<module>\u001b[0;34m()\u001b[0m\n\u001b[1;32m      8\u001b[0m \u001b[0;31m# 따라서 연산을 하고 싶으면 정수형(int)으로 형변환을 먼저 해야 한다.\u001b[0m\u001b[0;34m\u001b[0m\u001b[0;34m\u001b[0m\u001b[0m\n\u001b[1;32m      9\u001b[0m \u001b[0;34m\u001b[0m\u001b[0m\n\u001b[0;32m---> 10\u001b[0;31m \u001b[0mnumber\u001b[0m \u001b[0;34m=\u001b[0m \u001b[0mint\u001b[0m\u001b[0;34m(\u001b[0m\u001b[0mnumber_to_square\u001b[0m\u001b[0;34m)\u001b[0m\u001b[0;34m\u001b[0m\u001b[0m\n\u001b[0m\u001b[1;32m     11\u001b[0m \u001b[0;34m\u001b[0m\u001b[0m\n\u001b[1;32m     12\u001b[0m \u001b[0;32mprint\u001b[0m\u001b[0;34m(\u001b[0m\u001b[0;34m\"제곱의 결과는\"\u001b[0m\u001b[0;34m,\u001b[0m \u001b[0mnumber\u001b[0m\u001b[0;34m**\u001b[0m\u001b[0;36m2\u001b[0m\u001b[0;34m,\u001b[0m \u001b[0;34m\"입니다.\"\u001b[0m\u001b[0;34m)\u001b[0m\u001b[0;34m\u001b[0m\u001b[0m\n",
      "\u001b[0;31mValueError\u001b[0m: invalid literal for int() with base 10: '3.2'"
     ]
    }
   ],
   "source": [
    "from __future__ import print_function\n",
    "\n",
    "number_to_square = raw_input(\"어떤 숫자를 제곱하고 싶으세요? \")\n",
    "print( type(number_to_square) )\n",
    "print(number_to_square)\n",
    "\n",
    "# number_to_square 변수의 자료형이 문자열(str)임에 주의하라. \n",
    "# 따라서 연산을 하고 싶으면 정수형(int)으로 형변환을 먼저 해야 한다. \n",
    "\n",
    "number = int(number_to_square)\n",
    "\n",
    "print(\"제곱의 결과는\", number**2, \"입니다.\")"
   ]
  },
  {
   "cell_type": "markdown",
   "metadata": {},
   "source": [
    "위 코드는 정수들의 제곱을 계산하는 프로그램이다. \n",
    "하지만 사용자가 경우에 따라 정수 이외의 값을 입력하면 시스템이 다운된다. \n",
    "이에 대한 해결책을 다루고자 한다."
   ]
  },
  {
   "cell_type": "markdown",
   "metadata": {},
   "source": [
    "## 오류 예제\n",
    "\n",
    "먼저 오류의 다양한 예제를 살펴보자.\n",
    "다음 코드들은 모두 오류를 발생시킨다."
   ]
  },
  {
   "cell_type": "markdown",
   "metadata": {},
   "source": [
    "### 예제: 문법 오류\n",
    "\n",
    "```python\n",
    "sentence = 'I am a sentence\n",
    "```\n",
    "\n",
    "오류 설명: 문자열 양 끝의 따옴표가 짝이 맞아야 한다.\n",
    "* 작은 따옴표끼리 또는 큰 따옴표끼리"
   ]
  },
  {
   "cell_type": "markdown",
   "metadata": {},
   "source": [
    "### 예제: 들여쓰기 문법 오류\n",
    "\n",
    "```python\n",
    "for i in range(3):\n",
    "    j = i * 2\n",
    "      print(i, j)\n",
    "```\n",
    "\n",
    "오류 설명: 2번 줄과 3번 줄의 들여쓰기 정도가 동일해야 한다."
   ]
  },
  {
   "cell_type": "markdown",
   "metadata": {},
   "source": [
    "### 예제: 자료형 오류\n",
    "\n",
    "```python\n",
    "new_string = 'cat' - 'dog'\n",
    "new_string = 'cat' * 'dog'\n",
    "new_string = 'cat' / 'dog'\n",
    "\n",
    "new_string = 'cat' + 3\n",
    "new_string = 'cat' - 3\n",
    "new_string = 'cat' / 3\n",
    "```\n",
    "\n",
    "오류 설명: 문자열 자료형끼리의 합, 문자열과 정수의 곱셈만 정의되어 있다."
   ]
  },
  {
   "cell_type": "markdown",
   "metadata": {},
   "source": [
    "### 예제: 이름 오류\n",
    "\n",
    "```python\n",
    "print(party)\n",
    "```\n",
    "\n",
    "오류 설명: 미리 선언된 변수만 사용할 수 있다."
   ]
  },
  {
   "cell_type": "markdown",
   "metadata": {},
   "source": [
    "### 예제: 인덱스 오류\n",
    "\n",
    "```python\n",
    "a_string = 'abcdefg'\n",
    "a_string[12]\n",
    "```\n",
    "\n",
    "오류 설명: 인덱스는 문자열의 길이보다 작은 수만 사용할 수 있다."
   ]
  },
  {
   "cell_type": "markdown",
   "metadata": {},
   "source": [
    "### 예제: 값 오류\n",
    "\n",
    "```python\n",
    "int(a_string)\n",
    "```\n",
    "\n",
    "오류 설명: `int()` 함수는 정수로만 구성된 문자열만 처리할 수 있다."
   ]
  },
  {
   "cell_type": "markdown",
   "metadata": {},
   "source": [
    "### 예제: 속성 오류\n",
    "\n",
    "```python\n",
    "print(a_string.len())\n",
    "```\n",
    "\n",
    "오류 설명: 문자열 자료형에는 `len()` 메소드가 존재하지 않는다.\n",
    "\n",
    "**주의:** `len()` 이라는 함수는 문자열의 길이를 확인하지만 문자열 메소드는 아니다. \n",
    "이후에 다룰 리스트, 튜플 등에 대해서도 사용할 수 있는 함수이다."
   ]
  },
  {
   "cell_type": "markdown",
   "metadata": {},
   "source": [
    "## 오류 확인\n",
    "\n",
    "앞서 언급한 코드들을 실행하면 오류가 발생하고 어디서 어떤 오류가 발생하였는가에 대한 정보를 \n",
    "파이썬 해석기가 바로 알려 준다. 다음 예제를 살펴보자."
   ]
  },
  {
   "cell_type": "code",
   "execution_count": 37,
   "metadata": {},
   "outputs": [
    {
     "ename": "SyntaxError",
     "evalue": "EOL while scanning string literal (<ipython-input-37-a6097ed4dc2e>, line 1)",
     "output_type": "error",
     "traceback": [
      "\u001b[0;36m  File \u001b[0;32m\"<ipython-input-37-a6097ed4dc2e>\"\u001b[0;36m, line \u001b[0;32m1\u001b[0m\n\u001b[0;31m    sentence = 'I am a sentence\u001b[0m\n\u001b[0m                              ^\u001b[0m\n\u001b[0;31mSyntaxError\u001b[0m\u001b[0;31m:\u001b[0m EOL while scanning string literal\n"
     ]
    }
   ],
   "source": [
    "sentence = 'I am a sentence"
   ]
  },
  {
   "cell_type": "markdown",
   "metadata": {},
   "source": [
    "오류를 확인하는 메시지가 처음 볼 때는 매우 생소하다. \n",
    "위 오류 메시지를 간단하게 살펴보면 다음과 같다.\n",
    "\n",
    "* `File \"<ipython-input-37-a6097ed4dc2e>\", line 1`\n",
    "\n",
    "    1번 줄에서 오류 발생\n",
    "\n",
    "\n",
    "* `sentence = 'I am a sentence` \n",
    "                             ^\n",
    "\n",
    "    오류 발생 위치 명시\n",
    "\n",
    "\n",
    "* `SyntaxError: EOL while scanning string literal`\n",
    "\n",
    "    오류 종류 표시: 문법 오류(SyntaxError)\n",
    "\n"
   ]
  },
  {
   "cell_type": "markdown",
   "metadata": {},
   "source": [
    "## 오류의 종류\n",
    "\n",
    "앞서 예제들을 통해 살펴 보았듯이 다양한 종류의 오류가 발생하며,\n",
    "코드가 길어지거나 복잡해지면 오류가 발생할 가능성은 점차 커진다.\n",
    "오류의 종류를 파악하면 어디서 왜 오류가 발생하였는지를 보다 쉽게 파악하여\n",
    "코드를 수정할 수 있게 된다.\n",
    "\n",
    "따라서 코드의 발생원인을 바로 알아낼 수 있어야 하는데 오류 메시지를 \n",
    "제대로 확인할 수 있어야 한다. \n",
    "하지만 여기서는 언급된 예제 정도의 수준만 다루고 넘어간다.\n",
    "\n",
    "코딩을 하다 보면 어차피 다양한 오류와 마주치게 될 텐데 그때마다\n",
    "스스로 오류의 내용과 원인을 확인해 나가는 과정을 통해 \n",
    "보다 많은 경험을 쌓는 길 외에는 달리 왕도가 없다."
   ]
  },
  {
   "cell_type": "markdown",
   "metadata": {},
   "source": [
    "## 예외 처리\n",
    "\n",
    "코드에 문법 오류가 포함되어 있는 경우 처음부터 실행이 되지 않는다. \n",
    "그렇지 않은 경우에는 일단 실행이 되고 중간에 오류가 발생하면 바로 멈춰버린다.\n",
    "\n",
    "이렇게 중간에 오류가 발생할 수 있는 경우를 미리 생각하여 대비하는 과정을 \n",
    "**예외 처리**라고 부른다. \n",
    "\n",
    "예를 들어, 오류가 발생하더라도 오류발생 이전까지 생성된 정보들을 저장하거나, 오류발생 이유를 좀 더 자세히 다루거나, 아니면 오류발생 이유를 사용자에게 알려주기 위해 예외처리를 사용한다. "
   ]
  },
  {
   "cell_type": "markdown",
   "metadata": {},
   "source": [
    "### 예제 \n",
    "\n",
    "아래 코드는 `raw_input()` 함수를 이용하여 사용자로부터 숫자를 입력받아 그 숫자의 제곱을 리턴하고자 하는 내용을 담고 있으며, 코드에는 문법적 오류가 없다. \n",
    "\n",
    "그리고 코드를 실행하면 숫자를 입력하라는 창이 나온다. \n",
    "여기에 숫자 3을 입력하면 정상적으로 작동하지만 \n",
    "예를 들어, 3.2를 입력하면 값 오류(value error)가 발생한다. "
   ]
  },
  {
   "cell_type": "code",
   "execution_count": 47,
   "metadata": {},
   "outputs": [
    {
     "name": "stdout",
     "output_type": "stream",
     "text": [
      "어떤 숫자를 제곱하고 싶으세요? 3.2\n",
      "<type 'str'>\n",
      "3.2\n"
     ]
    },
    {
     "ename": "ValueError",
     "evalue": "invalid literal for int() with base 10: '3.2'",
     "output_type": "error",
     "traceback": [
      "\u001b[0;31m---------------------------------------------------------------------------\u001b[0m",
      "\u001b[0;31mValueError\u001b[0m                                Traceback (most recent call last)",
      "\u001b[0;32m<ipython-input-47-3040e3c6fd11>\u001b[0m in \u001b[0;36m<module>\u001b[0;34m()\u001b[0m\n\u001b[1;32m      8\u001b[0m \u001b[0;31m# 따라서 연산을 하고 싶으면 정수형(int)으로 형변환을 먼저 해야 한다.\u001b[0m\u001b[0;34m\u001b[0m\u001b[0;34m\u001b[0m\u001b[0m\n\u001b[1;32m      9\u001b[0m \u001b[0;34m\u001b[0m\u001b[0m\n\u001b[0;32m---> 10\u001b[0;31m \u001b[0mnumber\u001b[0m \u001b[0;34m=\u001b[0m \u001b[0mint\u001b[0m\u001b[0;34m(\u001b[0m\u001b[0mnumber_to_square\u001b[0m\u001b[0;34m)\u001b[0m\u001b[0;34m\u001b[0m\u001b[0m\n\u001b[0m\u001b[1;32m     11\u001b[0m \u001b[0;34m\u001b[0m\u001b[0m\n\u001b[1;32m     12\u001b[0m \u001b[0;32mprint\u001b[0m\u001b[0;34m(\u001b[0m\u001b[0;34m\"제곱의 결과는\"\u001b[0m\u001b[0;34m,\u001b[0m \u001b[0mnumber\u001b[0m\u001b[0;34m**\u001b[0m\u001b[0;36m2\u001b[0m\u001b[0;34m,\u001b[0m \u001b[0;34m\"입니다.\"\u001b[0m\u001b[0;34m)\u001b[0m\u001b[0;34m\u001b[0m\u001b[0m\n",
      "\u001b[0;31mValueError\u001b[0m: invalid literal for int() with base 10: '3.2'"
     ]
    }
   ],
   "source": [
    "from __future__ import print_function\n",
    "\n",
    "number_to_square = raw_input(\"어떤 숫자를 제곱하고 싶으세요? \")\n",
    "print( type(number_to_square) )\n",
    "print(number_to_square)\n",
    "\n",
    "# number_to_square 변수의 자료형이 문자열(str)임에 주의하라. \n",
    "# 따라서 연산을 하고 싶으면 정수형(int)으로 형변환을 먼저 해야 한다. \n",
    "\n",
    "number = int(number_to_square)\n",
    "\n",
    "print(\"제곱의 결과는\", number**2, \"입니다.\")"
   ]
  },
  {
   "cell_type": "markdown",
   "metadata": {},
   "source": [
    "3.2를 입력했을 때 오류가 발생하는 이유는 `int()` 함수가 정수 모양의 문자열만 \n",
    "처리할 수 있기 때문이다. \n",
    "\n",
    "사실 정수들의 제곱을 계산하는 프로그램을 작성하였지만 경우에 따라 \n",
    "정수 이외의 값을 입력하는 경우가 발생하게 되며, 이런 경우를 대비해야 한다.\n",
    "그렇지 않으면 시스템이 다운될 수도 있다.\n",
    "\n",
    "이와 같이 오류가 발생할 것을 미리 예상해야 하며, 어떻게 대처해야 할지 준비해야 하는데, \n",
    "`try ... except ...`문을 이용하여 예외를 처리하는 방식을 활용할 수 있다."
   ]
  },
  {
   "cell_type": "code",
   "execution_count": 51,
   "metadata": {},
   "outputs": [
    {
     "name": "stdout",
     "output_type": "stream",
     "text": [
      "어떤 숫자를 제곱하고 싶으세요? 3.2\n",
      "정수를 입력해야 합니다.\n"
     ]
    }
   ],
   "source": [
    "number_to_square = raw_input(\"어떤 숫자를 제곱하고 싶으세요? \")\n",
    "\n",
    "try: \n",
    "    number = int(number_to_square)\n",
    "    print(\"제곱의 결과는\", number**2, \"입니다.\")\n",
    "except ValueError:\n",
    "    print(\"정수를 입력해야 합니다.\")\n"
   ]
  },
  {
   "cell_type": "markdown",
   "metadata": {},
   "source": [
    "**주의:** 이와 같이 발생할 수 예외를 가능한 한 모두 염두하는 프로그램을 구현해야 하는 일은\n",
    "매우 어려운 일이다."
   ]
  },
  {
   "cell_type": "markdown",
   "metadata": {},
   "source": [
    "## 코드의 안전성 문제\n",
    "\n",
    "문법 오류 또는 실행 중에 오류가 발생하지 않는다 하더라도 **코드의 안전성**이 보장되지는 않는다. \n",
    "코드의 안정성이라 함은 코드를 실행할 때 기대하는 결과가 산출된다는 것을 보장한다는 의미이다. "
   ]
  },
  {
   "cell_type": "markdown",
   "metadata": {},
   "source": [
    "### 예제\n",
    "\n",
    "아래 코드는 숫자의 제곱을 리턴하는 `square()` 함수를 제대로 구현하지 못한 경우를 다룬다."
   ]
  },
  {
   "cell_type": "code",
   "execution_count": 66,
   "metadata": {
    "collapsed": true
   },
   "outputs": [],
   "source": [
    "def square( number ):\n",
    "    \"\"\"\n",
    "    정수를 인자로 입력 받아 제곱을 리턴한다.\n",
    "    \"\"\"\n",
    "    \n",
    "    square_of_number = number * 2\n",
    "    \n",
    "    return square_of_number\n"
   ]
  },
  {
   "cell_type": "markdown",
   "metadata": {},
   "source": [
    "위 함수를 아래와 같이 호출하면 오류가 전혀 발생하지 않지만,\n",
    "엉뚱한 값을 리턴한다."
   ]
  },
  {
   "cell_type": "code",
   "execution_count": 68,
   "metadata": {},
   "outputs": [
    {
     "data": {
      "text/plain": [
       "6"
      ]
     },
     "execution_count": 68,
     "metadata": {},
     "output_type": "execute_result"
    }
   ],
   "source": [
    "square(3)"
   ]
  },
  {
   "cell_type": "markdown",
   "metadata": {},
   "source": [
    "**주의:** `help()` 를 이용하여 어떤 함수가 무슨 일을 하는지 내용을 확인할 수 있다.\n",
    "단, 함수를 정의할 때 함께 적힌 문서문자열(docstring) 내용이 확인된다.\n",
    "따라서, 함수를 정의할 때 문서문자열에 가능한 유효한 정보를 입력해 두어야 한다."
   ]
  },
  {
   "cell_type": "code",
   "execution_count": 70,
   "metadata": {},
   "outputs": [
    {
     "name": "stdout",
     "output_type": "stream",
     "text": [
      "Help on function square in module __main__:\n",
      "\n",
      "square(number)\n",
      "    정수를 인자로 입력 받아 제곱을 리턴한다.\n",
      "\n"
     ]
    }
   ],
   "source": [
    "help(square)"
   ]
  },
  {
   "cell_type": "markdown",
   "metadata": {},
   "source": [
    "### 오류에 대한 보다 자세한 정보\n",
    "\n",
    "파이썬에서 다루는 오류에 대한 보다 자세한 정보는 아래 사이트들에 상세하게 안내되어 있다.\n",
    "\n",
    "* 파이썬 기본 내장 오류 정보 문서:\n",
    "    https://docs.python.org/3.4/library/exceptions.html\n",
    "\n",
    "* 파이썬 예외처리 정보 문서: \n",
    "    https://docs.python.org/3.4/tutorial/errors.html"
   ]
  }
 ],
 "metadata": {
  "anaconda-cloud": {},
  "kernelspec": {
   "display_name": "Python 2",
   "language": "python",
   "name": "python2"
  },
  "language_info": {
   "codemirror_mode": {
    "name": "ipython",
    "version": 2
   },
   "file_extension": ".py",
   "mimetype": "text/x-python",
   "name": "python",
   "nbconvert_exporter": "python",
   "pygments_lexer": "ipython2",
   "version": "2.7.13"
  }
 },
 "nbformat": 4,
 "nbformat_minor": 1
}
