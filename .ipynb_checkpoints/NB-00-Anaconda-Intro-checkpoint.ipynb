{
 "cells": [
  {
   "cell_type": "markdown",
   "metadata": {},
   "source": [
    "# 아나콘다(Anaconda) 소개"
   ]
  },
  {
   "cell_type": "markdown",
   "metadata": {},
   "source": [
    "## 아나콘다 패키지 소개\n",
    "\n",
    "* 파이썬 프로그래밍 언어 개발환경\n",
    "* 파이썬 기본 패키지 이외에 데이터분석을 위한 필수 패키지 포함 \n",
    "* 기본적으로 스파이더 에디터를 활용하여 강의 진행"
   ]
  },
  {
   "cell_type": "markdown",
   "metadata": {},
   "source": [
    "## 아나콘다 패키지 다운로드\n",
    "\n",
    "아나콘다 패키지를 다운로드 하려면 아래 사이트를 방문한다\n",
    "\n",
    "    https://www.anaconda.com/download/\n",
    "    \n",
    "이후 아래 그림을 참조하여 다운받는다."
   ]
  },
  {
   "cell_type": "markdown",
   "metadata": {},
   "source": [
    "<p>\n",
    "<table cellspacing=\"20\">\n",
    "\n",
    "<tr>\n",
    "<td>\n",
    "<img src=\"images/anaconda/anaconda01.PNG\", height=60>\n",
    "</td>\n",
    "\n",
    "<td>\n",
    "<img src=\"images/anaconda/anaconda02.PNG\", height=60>\n",
    "</td>\n",
    "\n",
    "<td>\n",
    "<img src=\"images/anaconda/anaconda03.PNG\", height=60>\n",
    "</td>\n",
    "\n",
    "</table>\n",
    "</p>\n",
    "\n"
   ]
  },
  {
   "cell_type": "markdown",
   "metadata": {},
   "source": [
    "## 아나콘다 패키지 설치\n",
    "\n",
    "아래 그림에 표시된 부분에 주의하여 설치한다.\n",
    "\n",
    "* 주의: 경로설정 부분은 무슨 의미인지 알 경우 체크해도 된다. 모르면 무시하는 게 좋다."
   ]
  },
  {
   "cell_type": "markdown",
   "metadata": {},
   "source": [
    "<p>\n",
    "<table cellspacing=\"20\">\n",
    "\n",
    "<tr>\n",
    "<td>\n",
    "<img src=\"images/anaconda/anaconda04.PNG\", height=60>\n",
    "</td>\n",
    "\n",
    "<td>\n",
    "<img src=\"images/anaconda/anaconda05.PNG\", height=60>\n",
    "</td>\n",
    "\n",
    "<td>\n",
    "<img src=\"images/anaconda/anaconda06.PNG\", height=60>\n",
    "</td>\n",
    "</tr>\n",
    "\n",
    "<tr>\n",
    "<td>\n",
    "<img src=\"images/anaconda/anaconda07.PNG\", height=60>\n",
    "</td>\n",
    "\n",
    "<td>\n",
    "<img src=\"images/anaconda/anaconda08.PNG\", height=60>\n",
    "</td>\n",
    "\n",
    "</tr>\n",
    "\n",
    "</table>\n",
    "</p>\n",
    "\n"
   ]
  },
  {
   "cell_type": "markdown",
   "metadata": {},
   "source": [
    "## 스파이더(Spyder) 파이썬 편집기 실행\n",
    "\n",
    "* 윈도우키를 누른 후 스파이더(Spyder) 선택"
   ]
  },
  {
   "cell_type": "markdown",
   "metadata": {},
   "source": [
    "<p>\n",
    "<table cellspacing=\"20\">\n",
    "\n",
    "<tr>\n",
    "<td>\n",
    "<img src=\"images/anaconda/anaconda09.PNG\", height=60>\n",
    "</td>\n",
    "\n",
    "<td>\n",
    "<img src=\"images/anaconda/anaconda10.PNG\", height=60>\n",
    "</td>\n",
    "\n",
    "<td>\n",
    "<img src=\"images/anaconda/anaconda11.PNG\", height=60>\n",
    "</td>\n",
    "</tr>\n",
    "\n",
    "</table>\n",
    "</p>\n",
    "\n"
   ]
  },
  {
   "cell_type": "markdown",
   "metadata": {},
   "source": [
    "## 스파이더(Spyder) 파이썬 편집기 활용\n",
    "\n",
    "* 주의: 업그레이드 확인 부분은 체크 해제할 것. 업그레이드를 임의로 하지 말 것. \n",
    "* 스파이더는 편집기 기능과 터미널 기능을 동시에 제공\n",
    "* 편집기 부분은 긴 코드를 작성할 때 사용\n",
    "* 터미널 부분은 짧은 코드를 테스트할 때 사용"
   ]
  },
  {
   "cell_type": "markdown",
   "metadata": {},
   "source": [
    "<p>\n",
    "<table cellspacing=\"20\">\n",
    "\n",
    "<tr>\n",
    "<td>\n",
    "<img src=\"images/anaconda/anaconda12.PNG\", height=60>\n",
    "</td>\n",
    "\n",
    "<td>\n",
    "<img src=\"images/anaconda/anaconda13.PNG\", height=60>\n",
    "</td>\n",
    "\n",
    "<td>\n",
    "<img src=\"images/anaconda/anaconda14.PNG\", height=60>\n",
    "</td>\n",
    "</tr>\n",
    "\n",
    "</table>\n",
    "</p>\n",
    "\n"
   ]
  },
  {
   "cell_type": "markdown",
   "metadata": {},
   "source": [
    "## 스파이더(Spyder) 파이썬 편집기 활용 예제\n",
    "\n",
    "* 편집기 부분과 터미널 부분은 파이썬 해석기를 공유한다.\n",
    "* 편집기 부분에 코드 입력 후 실행하면, 터미널 부분에서도 편집기 부분에서 정의된 변수, 함수 등 사용 가능\n",
    "* 또한 터미널 부분에서 정의된 변수, 함수 등도 편집기에서 사용 가능.\n",
    "    * 주의: 이 방식은 추천하지 않음. 편집기 부분을 저장할 때 터미널 부분에 정의된 코드는 저장되지 않음."
   ]
  },
  {
   "cell_type": "markdown",
   "metadata": {},
   "source": [
    "<p>\n",
    "<table cellspacing=\"20\">\n",
    "\n",
    "<tr>\n",
    "<td>\n",
    "<img src=\"images/anaconda/anaconda15.PNG\", height=60>\n",
    "</td>\n",
    "\n",
    "<td>\n",
    "<img src=\"images/anaconda/anaconda16.PNG\", height=60>\n",
    "</td>\n",
    "\n",
    "<td>\n",
    "<img src=\"images/anaconda/anaconda17.PNG\", height=60>\n",
    "</td>\n",
    "</tr>\n",
    "\n",
    "</table>\n",
    "</p>\n",
    "\n"
   ]
  }
 ],
 "metadata": {
  "kernelspec": {
   "display_name": "Python 2",
   "language": "python",
   "name": "python2"
  },
  "language_info": {
   "codemirror_mode": {
    "name": "ipython",
    "version": 2
   },
   "file_extension": ".py",
   "mimetype": "text/x-python",
   "name": "python",
   "nbconvert_exporter": "python",
   "pygments_lexer": "ipython2",
   "version": "2.7.13"
  }
 },
 "nbformat": 4,
 "nbformat_minor": 2
}
